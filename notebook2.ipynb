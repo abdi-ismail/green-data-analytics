{
 "cells": [
  {
   "cell_type": "code",
   "execution_count": 19,
   "metadata": {},
   "outputs": [],
   "source": [
    "import os\n",
    "import sys\n",
    "os.environ[\"JAVA_HOME\"] = \"../data-engineering/.JDK 8\"\n",
    "os.environ[\"PYSPARK_PYTHON\"] = sys.executable\n",
    "os.environ[\"PYSPARK_DRIVER_PYTHON\"] = sys.executable"
   ]
  },
  {
   "cell_type": "code",
   "execution_count": 20,
   "metadata": {},
   "outputs": [],
   "source": [
    "from pyspark.sql import SparkSession\n",
    "from pyspark.sql.functions import col, count\n",
    "from pyspark.sql import functions as F\n",
    "import requests, json"
   ]
  },
  {
   "cell_type": "code",
   "execution_count": 21,
   "metadata": {},
   "outputs": [],
   "source": [
    "# Create SparkSession\n",
    "spark = SparkSession \\\n",
    "    .builder \\\n",
    "        .appName(\"GreenDataAnalyticsProjectII\") \\\n",
    "            .getOrCreate()"
   ]
  },
  {
   "cell_type": "code",
   "execution_count": 22,
   "metadata": {},
   "outputs": [],
   "source": [
    "df = spark.read.csv(\"cleanedAirQualityData.csv\", inferSchema=True, header=True)"
   ]
  },
  {
   "cell_type": "code",
   "execution_count": 23,
   "metadata": {},
   "outputs": [],
   "source": [
    "url = \"jdbc:postgresql://localhost:5432/etlassignment\"\n",
    "properties = {\n",
    "    \"user\": \"postgres\",\n",
    "    \"password\": \"Cheesecake\",\n",
    "    \"driver\": \"org.postgresql.Driver\"\n",
    "}\n",
    "\n",
    "df.write.jdbc(url=url, table=\"airqualitybristol\", properties=properties, mode=\"overwrite\")"
   ]
  },
  {
   "cell_type": "code",
   "execution_count": 24,
   "metadata": {},
   "outputs": [],
   "source": [
    "df.createOrReplaceTempView(\"table_view\")\n"
   ]
  },
  {
   "cell_type": "code",
   "execution_count": 25,
   "metadata": {},
   "outputs": [
    {
     "name": "stdout",
     "output_type": "stream",
     "text": [
      "+-------------------+-----+\n",
      "|      Location Type|count|\n",
      "+-------------------+-----+\n",
      "|      Urban Traffic|  527|\n",
      "|   Urban Background|  114|\n",
      "|   Urban Industrial|   29|\n",
      "|   Rural Industrial|   15|\n",
      "|               NULL|   11|\n",
      "|           Roadside|    3|\n",
      "|Suburban Industrial|    1|\n",
      "+-------------------+-----+\n",
      "\n"
     ]
    }
   ],
   "source": [
    "spark.sql(\"\"\"\n",
    "    SELECT `Location Type`, COUNT(*) as count \n",
    "FROM table_view \n",
    "GROUP BY `Location Type`\n",
    "ORDER BY count DESC;\n",
    "\"\"\").show()"
   ]
  },
  {
   "cell_type": "code",
   "execution_count": 26,
   "metadata": {},
   "outputs": [
    {
     "name": "stdout",
     "output_type": "stream",
     "text": [
      "+--------------------+-----+\n",
      "|            location|count|\n",
      "+--------------------+-----+\n",
      "|          Old Market|    4|\n",
      "|Parson Street School|    4|\n",
      "|       Rhone Poulenc|    3|\n",
      "|         Arnos Court|    2|\n",
      "|  Port Health Office|    2|\n",
      "| Hannah Moore School|    2|\n",
      "|  Almondsbury School|    2|\n",
      "|Wessex Water Avon...|    2|\n",
      "|      Fishponds Road|    2|\n",
      "|              Hallen|    2|\n",
      "|      Hallen Village|    2|\n",
      "|      No. 6 Borewell|    2|\n",
      "|Cheltenham Road \\...|    2|\n",
      "| Barton Hill Academy|    2|\n",
      "|           Bath Road|    2|\n",
      "|Muller Rd-CAZ-Lam...|    2|\n",
      "| Blaise Castle House|    2|\n",
      "|Fishponds Rd-CAZ-...|    2|\n",
      "|Linden Rd-CAZ-Lam...|    2|\n",
      "|      Colston Avenue|    2|\n",
      "+--------------------+-----+\n",
      "only showing top 20 rows\n",
      "\n"
     ]
    }
   ],
   "source": [
    "spark.sql(\"\"\"\n",
    "    SELECT `location`, COUNT(*) as count \n",
    "FROM table_view \n",
    "GROUP BY `location`\n",
    "ORDER BY count DESC;\n",
    "\"\"\").show()"
   ]
  },
  {
   "cell_type": "code",
   "execution_count": 27,
   "metadata": {},
   "outputs": [
    {
     "name": "stdout",
     "output_type": "stream",
     "text": [
      "+--------------------+-----+\n",
      "|          Pollutants|count|\n",
      "+--------------------+-----+\n",
      "|                 NO2|  472|\n",
      "|             BTX NO2|  148|\n",
      "|          NOX NO2 NO|   16|\n",
      "|                 BTX|   15|\n",
      "|                DUST|   10|\n",
      "|                  HM|    5|\n",
      "|NOX NO2 NO Meteor...|    4|\n",
      "|           Smoke SO2|    4|\n",
      "|                Lead|    4|\n",
      "|                 SO2|    4|\n",
      "|     NOX NO2 NO PM10|    3|\n",
      "|        Heavy Metals|    2|\n",
      "|                 MET|    2|\n",
      "|                  PM|    1|\n",
      "|NOX NO2 NO CO SO2...|    1|\n",
      "|  RAIN RH TEMP SOLAR|    1|\n",
      "|          PM10 PM2.5|    1|\n",
      "|      O3 Meteorology|    1|\n",
      "|                  O3|    1|\n",
      "|        Hydrocarbons|    1|\n",
      "+--------------------+-----+\n",
      "only showing top 20 rows\n",
      "\n"
     ]
    }
   ],
   "source": [
    "spark.sql(\"\"\"\n",
    "    SELECT `Pollutants`, COUNT(*) as count \n",
    "FROM table_view \n",
    "GROUP BY `Pollutants`\n",
    "ORDER BY count DESC;\n",
    "\"\"\").show()"
   ]
  },
  {
   "cell_type": "markdown",
   "metadata": {},
   "source": []
  },
  {
   "cell_type": "code",
   "execution_count": 28,
   "metadata": {},
   "outputs": [],
   "source": [
    "import matplotlib.pyplot as plt\n",
    "import seaborn as sns"
   ]
  },
  {
   "cell_type": "code",
   "execution_count": 29,
   "metadata": {},
   "outputs": [
    {
     "data": {
      "text/html": [
       "<div>\n",
       "<style scoped>\n",
       "    .dataframe tbody tr th:only-of-type {\n",
       "        vertical-align: middle;\n",
       "    }\n",
       "\n",
       "    .dataframe tbody tr th {\n",
       "        vertical-align: top;\n",
       "    }\n",
       "\n",
       "    .dataframe thead th {\n",
       "        text-align: right;\n",
       "    }\n",
       "</style>\n",
       "<table border=\"1\" class=\"dataframe\">\n",
       "  <thead>\n",
       "    <tr style=\"text-align: right;\">\n",
       "      <th></th>\n",
       "      <th>SiteID</th>\n",
       "      <th>location</th>\n",
       "      <th>Location Type</th>\n",
       "      <th>coordinates</th>\n",
       "      <th>Pollutants</th>\n",
       "      <th>Elevation</th>\n",
       "      <th>Longitude</th>\n",
       "      <th>Latitude</th>\n",
       "      <th>Latitude (Normalised)</th>\n",
       "    </tr>\n",
       "  </thead>\n",
       "  <tbody>\n",
       "    <tr>\n",
       "      <th>0</th>\n",
       "      <td>1</td>\n",
       "      <td>Withywood School</td>\n",
       "      <td>Urban Traffic</td>\n",
       "      <td>[-2.6277488032062446, 51.407745517999835]</td>\n",
       "      <td>BTX NO2</td>\n",
       "      <td>NaN</td>\n",
       "      <td>-2.627749</td>\n",
       "      <td>51.407746</td>\n",
       "      <td>0.090933</td>\n",
       "    </tr>\n",
       "    <tr>\n",
       "      <th>1</th>\n",
       "      <td>2</td>\n",
       "      <td>Colston Avenue</td>\n",
       "      <td>Urban Traffic</td>\n",
       "      <td>[-2.5968139474821794, 51.454556566902696]</td>\n",
       "      <td>NO2</td>\n",
       "      <td>9.5</td>\n",
       "      <td>-2.596814</td>\n",
       "      <td>51.454557</td>\n",
       "      <td>0.293816</td>\n",
       "    </tr>\n",
       "    <tr>\n",
       "      <th>2</th>\n",
       "      <td>3</td>\n",
       "      <td>Blackboy Hill</td>\n",
       "      <td>Urban Traffic</td>\n",
       "      <td>[-2.613994167991525, 51.46920548941127]</td>\n",
       "      <td>NO2</td>\n",
       "      <td>79.2</td>\n",
       "      <td>-2.613994</td>\n",
       "      <td>51.469205</td>\n",
       "      <td>0.357306</td>\n",
       "    </tr>\n",
       "    <tr>\n",
       "      <th>3</th>\n",
       "      <td>4</td>\n",
       "      <td>Three Lamps</td>\n",
       "      <td>Urban Traffic</td>\n",
       "      <td>[-2.578333463205696, 51.444209895530584]</td>\n",
       "      <td>NO2</td>\n",
       "      <td>26.6</td>\n",
       "      <td>-2.578333</td>\n",
       "      <td>51.444210</td>\n",
       "      <td>0.248973</td>\n",
       "    </tr>\n",
       "    <tr>\n",
       "      <th>4</th>\n",
       "      <td>5</td>\n",
       "      <td>Bedminster Parade</td>\n",
       "      <td>Urban Traffic</td>\n",
       "      <td>[-2.595294420664777, 51.442812042759506]</td>\n",
       "      <td>NO2</td>\n",
       "      <td>8.1</td>\n",
       "      <td>-2.595294</td>\n",
       "      <td>51.442812</td>\n",
       "      <td>0.242914</td>\n",
       "    </tr>\n",
       "    <tr>\n",
       "      <th>...</th>\n",
       "      <td>...</td>\n",
       "      <td>...</td>\n",
       "      <td>...</td>\n",
       "      <td>...</td>\n",
       "      <td>...</td>\n",
       "      <td>...</td>\n",
       "      <td>...</td>\n",
       "      <td>...</td>\n",
       "      <td>...</td>\n",
       "    </tr>\n",
       "    <tr>\n",
       "      <th>695</th>\n",
       "      <td>707</td>\n",
       "      <td>Rodney Road junction with Whiteway Road</td>\n",
       "      <td>None</td>\n",
       "      <td>[-2.5279124420175134, 51.46529043268529]</td>\n",
       "      <td>NO2</td>\n",
       "      <td>NaN</td>\n",
       "      <td>-2.527912</td>\n",
       "      <td>51.465290</td>\n",
       "      <td>0.340337</td>\n",
       "    </tr>\n",
       "    <tr>\n",
       "      <th>696</th>\n",
       "      <td>708</td>\n",
       "      <td>Whiteway Road junction with A420</td>\n",
       "      <td>None</td>\n",
       "      <td>[-2.5356705609472345, 51.4615416882718]</td>\n",
       "      <td>NO2</td>\n",
       "      <td>NaN</td>\n",
       "      <td>-2.535671</td>\n",
       "      <td>51.461542</td>\n",
       "      <td>0.324090</td>\n",
       "    </tr>\n",
       "    <tr>\n",
       "      <th>697</th>\n",
       "      <td>709</td>\n",
       "      <td>Air Balloon Hill Primary School</td>\n",
       "      <td>None</td>\n",
       "      <td>[-2.530569245243335, 51.458570621919755]</td>\n",
       "      <td>NO2</td>\n",
       "      <td>NaN</td>\n",
       "      <td>-2.530569</td>\n",
       "      <td>51.458571</td>\n",
       "      <td>0.311213</td>\n",
       "    </tr>\n",
       "    <tr>\n",
       "      <th>698</th>\n",
       "      <td>710</td>\n",
       "      <td>Nags Head Hill</td>\n",
       "      <td>None</td>\n",
       "      <td>[-2.5259994213446975, 51.45419426540695]</td>\n",
       "      <td>NO2</td>\n",
       "      <td>NaN</td>\n",
       "      <td>-2.525999</td>\n",
       "      <td>51.454194</td>\n",
       "      <td>0.292246</td>\n",
       "    </tr>\n",
       "    <tr>\n",
       "      <th>699</th>\n",
       "      <td>711</td>\n",
       "      <td>Barton Hill Academy</td>\n",
       "      <td>None</td>\n",
       "      <td>[-2.5644398053427326, 51.45406977069751]</td>\n",
       "      <td>NO2</td>\n",
       "      <td>NaN</td>\n",
       "      <td>-2.564440</td>\n",
       "      <td>51.454070</td>\n",
       "      <td>0.291706</td>\n",
       "    </tr>\n",
       "  </tbody>\n",
       "</table>\n",
       "<p>700 rows × 9 columns</p>\n",
       "</div>"
      ],
      "text/plain": [
       "     SiteID                                 location  Location Type  \\\n",
       "0         1                         Withywood School  Urban Traffic   \n",
       "1         2                           Colston Avenue  Urban Traffic   \n",
       "2         3                            Blackboy Hill  Urban Traffic   \n",
       "3         4                              Three Lamps  Urban Traffic   \n",
       "4         5                        Bedminster Parade  Urban Traffic   \n",
       "..      ...                                      ...            ...   \n",
       "695     707  Rodney Road junction with Whiteway Road           None   \n",
       "696     708         Whiteway Road junction with A420           None   \n",
       "697     709          Air Balloon Hill Primary School           None   \n",
       "698     710                           Nags Head Hill           None   \n",
       "699     711                      Barton Hill Academy           None   \n",
       "\n",
       "                                   coordinates Pollutants  Elevation  \\\n",
       "0    [-2.6277488032062446, 51.407745517999835]    BTX NO2        NaN   \n",
       "1    [-2.5968139474821794, 51.454556566902696]        NO2        9.5   \n",
       "2      [-2.613994167991525, 51.46920548941127]        NO2       79.2   \n",
       "3     [-2.578333463205696, 51.444209895530584]        NO2       26.6   \n",
       "4     [-2.595294420664777, 51.442812042759506]        NO2        8.1   \n",
       "..                                         ...        ...        ...   \n",
       "695   [-2.5279124420175134, 51.46529043268529]        NO2        NaN   \n",
       "696    [-2.5356705609472345, 51.4615416882718]        NO2        NaN   \n",
       "697   [-2.530569245243335, 51.458570621919755]        NO2        NaN   \n",
       "698   [-2.5259994213446975, 51.45419426540695]        NO2        NaN   \n",
       "699   [-2.5644398053427326, 51.45406977069751]        NO2        NaN   \n",
       "\n",
       "     Longitude   Latitude  Latitude (Normalised)  \n",
       "0    -2.627749  51.407746               0.090933  \n",
       "1    -2.596814  51.454557               0.293816  \n",
       "2    -2.613994  51.469205               0.357306  \n",
       "3    -2.578333  51.444210               0.248973  \n",
       "4    -2.595294  51.442812               0.242914  \n",
       "..         ...        ...                    ...  \n",
       "695  -2.527912  51.465290               0.340337  \n",
       "696  -2.535671  51.461542               0.324090  \n",
       "697  -2.530569  51.458571               0.311213  \n",
       "698  -2.525999  51.454194               0.292246  \n",
       "699  -2.564440  51.454070               0.291706  \n",
       "\n",
       "[700 rows x 9 columns]"
      ]
     },
     "execution_count": 29,
     "metadata": {},
     "output_type": "execute_result"
    }
   ],
   "source": [
    "df.drop(\"id\")\\\n",
    "    .toPandas()"
   ]
  },
  {
   "cell_type": "markdown",
   "metadata": {},
   "source": [
    "Extension - Explantory Data Analysis"
   ]
  },
  {
   "cell_type": "code",
   "execution_count": 30,
   "metadata": {},
   "outputs": [
    {
     "data": {
      "text/plain": [
       "<seaborn.axisgrid.PairGrid at 0x77c0087a56d0>"
      ]
     },
     "execution_count": 30,
     "metadata": {},
     "output_type": "execute_result"
    },
    {
     "data": {
      "image/png": "[encoded data removed]",
      "text/plain": [
       "<Figure size 1500x1500 with 42 Axes>"
      ]
     },
     "metadata": {},
     "output_type": "display_data"
    }
   ],
   "source": [
    "sns.pairplot(data=df.toPandas())"
   ]
  },
  {
   "cell_type": "code",
   "execution_count": 31,
   "metadata": {},
   "outputs": [
    {
     "data": {
      "image/png": "[encoded data removed]",
      "text/plain": [
       "<Figure size 640x480 with 1 Axes>"
      ]
     },
     "metadata": {},
     "output_type": "display_data"
    }
   ],
   "source": [
    "# df.groupBy(\"Location Type\").count(\"Location Type\")\\\n",
    "#     .show()\n",
    "\n",
    "loctype_df = df.groupBy(\"Location Type\").count()\n",
    "sns.barplot(data=loctype_df.toPandas(), x=\"Location Type\", y=\"count\")\n",
    "plt.xticks(rotation=90)\n",
    "plt.show()"
   ]
  },
  {
   "cell_type": "code",
   "execution_count": 32,
   "metadata": {},
   "outputs": [
    {
     "data": {
      "text/html": [
       "<div>\n",
       "<style scoped>\n",
       "    .dataframe tbody tr th:only-of-type {\n",
       "        vertical-align: middle;\n",
       "    }\n",
       "\n",
       "    .dataframe tbody tr th {\n",
       "        vertical-align: top;\n",
       "    }\n",
       "\n",
       "    .dataframe thead th {\n",
       "        text-align: right;\n",
       "    }\n",
       "</style>\n",
       "<table border=\"1\" class=\"dataframe\">\n",
       "  <thead>\n",
       "    <tr style=\"text-align: right;\">\n",
       "      <th></th>\n",
       "      <th>id</th>\n",
       "      <th>SiteID</th>\n",
       "      <th>location</th>\n",
       "      <th>Location Type</th>\n",
       "      <th>coordinates</th>\n",
       "      <th>Pollutants</th>\n",
       "      <th>Elevation</th>\n",
       "      <th>Longitude</th>\n",
       "      <th>Latitude</th>\n",
       "      <th>Latitude (Normalised)</th>\n",
       "    </tr>\n",
       "  </thead>\n",
       "  <tbody>\n",
       "    <tr>\n",
       "      <th>0</th>\n",
       "      <td>1</td>\n",
       "      <td>1</td>\n",
       "      <td>Withywood School</td>\n",
       "      <td>Urban Traffic</td>\n",
       "      <td>[-2.6277488032062446, 51.407745517999835]</td>\n",
       "      <td>BTX NO2</td>\n",
       "      <td>NaN</td>\n",
       "      <td>-2.627749</td>\n",
       "      <td>51.407746</td>\n",
       "      <td>0.090933</td>\n",
       "    </tr>\n",
       "    <tr>\n",
       "      <th>1</th>\n",
       "      <td>2</td>\n",
       "      <td>2</td>\n",
       "      <td>Colston Avenue</td>\n",
       "      <td>Urban Traffic</td>\n",
       "      <td>[-2.5968139474821794, 51.454556566902696]</td>\n",
       "      <td>NO2</td>\n",
       "      <td>9.5</td>\n",
       "      <td>-2.596814</td>\n",
       "      <td>51.454557</td>\n",
       "      <td>0.293816</td>\n",
       "    </tr>\n",
       "    <tr>\n",
       "      <th>2</th>\n",
       "      <td>3</td>\n",
       "      <td>3</td>\n",
       "      <td>Blackboy Hill</td>\n",
       "      <td>Urban Traffic</td>\n",
       "      <td>[-2.613994167991525, 51.46920548941127]</td>\n",
       "      <td>NO2</td>\n",
       "      <td>79.2</td>\n",
       "      <td>-2.613994</td>\n",
       "      <td>51.469205</td>\n",
       "      <td>0.357306</td>\n",
       "    </tr>\n",
       "    <tr>\n",
       "      <th>3</th>\n",
       "      <td>4</td>\n",
       "      <td>4</td>\n",
       "      <td>Three Lamps</td>\n",
       "      <td>Urban Traffic</td>\n",
       "      <td>[-2.578333463205696, 51.444209895530584]</td>\n",
       "      <td>NO2</td>\n",
       "      <td>26.6</td>\n",
       "      <td>-2.578333</td>\n",
       "      <td>51.444210</td>\n",
       "      <td>0.248973</td>\n",
       "    </tr>\n",
       "    <tr>\n",
       "      <th>4</th>\n",
       "      <td>5</td>\n",
       "      <td>5</td>\n",
       "      <td>Bedminster Parade</td>\n",
       "      <td>Urban Traffic</td>\n",
       "      <td>[-2.595294420664777, 51.442812042759506]</td>\n",
       "      <td>NO2</td>\n",
       "      <td>8.1</td>\n",
       "      <td>-2.595294</td>\n",
       "      <td>51.442812</td>\n",
       "      <td>0.242914</td>\n",
       "    </tr>\n",
       "    <tr>\n",
       "      <th>...</th>\n",
       "      <td>...</td>\n",
       "      <td>...</td>\n",
       "      <td>...</td>\n",
       "      <td>...</td>\n",
       "      <td>...</td>\n",
       "      <td>...</td>\n",
       "      <td>...</td>\n",
       "      <td>...</td>\n",
       "      <td>...</td>\n",
       "      <td>...</td>\n",
       "    </tr>\n",
       "    <tr>\n",
       "      <th>695</th>\n",
       "      <td>696</td>\n",
       "      <td>707</td>\n",
       "      <td>Rodney Road junction with Whiteway Road</td>\n",
       "      <td>None</td>\n",
       "      <td>[-2.5279124420175134, 51.46529043268529]</td>\n",
       "      <td>NO2</td>\n",
       "      <td>NaN</td>\n",
       "      <td>-2.527912</td>\n",
       "      <td>51.465290</td>\n",
       "      <td>0.340337</td>\n",
       "    </tr>\n",
       "    <tr>\n",
       "      <th>696</th>\n",
       "      <td>697</td>\n",
       "      <td>708</td>\n",
       "      <td>Whiteway Road junction with A420</td>\n",
       "      <td>None</td>\n",
       "      <td>[-2.5356705609472345, 51.4615416882718]</td>\n",
       "      <td>NO2</td>\n",
       "      <td>NaN</td>\n",
       "      <td>-2.535671</td>\n",
       "      <td>51.461542</td>\n",
       "      <td>0.324090</td>\n",
       "    </tr>\n",
       "    <tr>\n",
       "      <th>697</th>\n",
       "      <td>698</td>\n",
       "      <td>709</td>\n",
       "      <td>Air Balloon Hill Primary School</td>\n",
       "      <td>None</td>\n",
       "      <td>[-2.530569245243335, 51.458570621919755]</td>\n",
       "      <td>NO2</td>\n",
       "      <td>NaN</td>\n",
       "      <td>-2.530569</td>\n",
       "      <td>51.458571</td>\n",
       "      <td>0.311213</td>\n",
       "    </tr>\n",
       "    <tr>\n",
       "      <th>698</th>\n",
       "      <td>699</td>\n",
       "      <td>710</td>\n",
       "      <td>Nags Head Hill</td>\n",
       "      <td>None</td>\n",
       "      <td>[-2.5259994213446975, 51.45419426540695]</td>\n",
       "      <td>NO2</td>\n",
       "      <td>NaN</td>\n",
       "      <td>-2.525999</td>\n",
       "      <td>51.454194</td>\n",
       "      <td>0.292246</td>\n",
       "    </tr>\n",
       "    <tr>\n",
       "      <th>699</th>\n",
       "      <td>700</td>\n",
       "      <td>711</td>\n",
       "      <td>Barton Hill Academy</td>\n",
       "      <td>None</td>\n",
       "      <td>[-2.5644398053427326, 51.45406977069751]</td>\n",
       "      <td>NO2</td>\n",
       "      <td>NaN</td>\n",
       "      <td>-2.564440</td>\n",
       "      <td>51.454070</td>\n",
       "      <td>0.291706</td>\n",
       "    </tr>\n",
       "  </tbody>\n",
       "</table>\n",
       "<p>700 rows × 10 columns</p>\n",
       "</div>"
      ],
      "text/plain": [
       "      id  SiteID                                 location  Location Type  \\\n",
       "0      1       1                         Withywood School  Urban Traffic   \n",
       "1      2       2                           Colston Avenue  Urban Traffic   \n",
       "2      3       3                            Blackboy Hill  Urban Traffic   \n",
       "3      4       4                              Three Lamps  Urban Traffic   \n",
       "4      5       5                        Bedminster Parade  Urban Traffic   \n",
       "..   ...     ...                                      ...            ...   \n",
       "695  696     707  Rodney Road junction with Whiteway Road           None   \n",
       "696  697     708         Whiteway Road junction with A420           None   \n",
       "697  698     709          Air Balloon Hill Primary School           None   \n",
       "698  699     710                           Nags Head Hill           None   \n",
       "699  700     711                      Barton Hill Academy           None   \n",
       "\n",
       "                                   coordinates Pollutants  Elevation  \\\n",
       "0    [-2.6277488032062446, 51.407745517999835]    BTX NO2        NaN   \n",
       "1    [-2.5968139474821794, 51.454556566902696]        NO2        9.5   \n",
       "2      [-2.613994167991525, 51.46920548941127]        NO2       79.2   \n",
       "3     [-2.578333463205696, 51.444209895530584]        NO2       26.6   \n",
       "4     [-2.595294420664777, 51.442812042759506]        NO2        8.1   \n",
       "..                                         ...        ...        ...   \n",
       "695   [-2.5279124420175134, 51.46529043268529]        NO2        NaN   \n",
       "696    [-2.5356705609472345, 51.4615416882718]        NO2        NaN   \n",
       "697   [-2.530569245243335, 51.458570621919755]        NO2        NaN   \n",
       "698   [-2.5259994213446975, 51.45419426540695]        NO2        NaN   \n",
       "699   [-2.5644398053427326, 51.45406977069751]        NO2        NaN   \n",
       "\n",
       "     Longitude   Latitude  Latitude (Normalised)  \n",
       "0    -2.627749  51.407746               0.090933  \n",
       "1    -2.596814  51.454557               0.293816  \n",
       "2    -2.613994  51.469205               0.357306  \n",
       "3    -2.578333  51.444210               0.248973  \n",
       "4    -2.595294  51.442812               0.242914  \n",
       "..         ...        ...                    ...  \n",
       "695  -2.527912  51.465290               0.340337  \n",
       "696  -2.535671  51.461542               0.324090  \n",
       "697  -2.530569  51.458571               0.311213  \n",
       "698  -2.525999  51.454194               0.292246  \n",
       "699  -2.564440  51.454070               0.291706  \n",
       "\n",
       "[700 rows x 10 columns]"
      ]
     },
     "execution_count": 32,
     "metadata": {},
     "output_type": "execute_result"
    }
   ],
   "source": [
    "df.toPandas()"
   ]
  },
  {
   "cell_type": "code",
   "execution_count": 33,
   "metadata": {},
   "outputs": [
    {
     "data": {
      "application/vnd.plotly.v1+json": {
       "config": {
        "plotlyServerURL": "https://plot.ly"
       },
       "data": [
        {
         "hovertemplate": "<b>%{hovertext}</b><br><br>Latitude=%{lat}<br>Longitude=%{lon}<extra></extra>",
         "hovertext": [
          "Withywood School",
          "Colston Avenue",
          "Blackboy Hill",
          "Three Lamps",
          "Bedminster Parade",
          "Church Road",
          "St. Andrew's Rd",
          "Higham Street",
          "B.R.I.",
          "Bath Road",
          "Whitefriars",
          "Galleries",
          "Ferndown Close",
          "Red Lion Knowle",
          "Horsefair",
          "Third Way",
          "Anglesea Place",
          "Hillcrest",
          "Conham Vale",
          "Newfoundland Way",
          "Gloucester Road",
          "Stokes Croft",
          "Old Market",
          "Easton Primary School",
          "Filwood Bus Depot",
          "59 Creswicke Rd",
          "111 Creswicke Rd",
          "RO 243 Creswicke Rd",
          "Fishponds - Gloucester St",
          "Old Market",
          "Lawrence Weston",
          "Holesmouth",
          "Chitening Wharf",
          "Hallen",
          "Severn Beach",
          "Lower Over Farm",
          "Northwick Oaze",
          "Littleton Wharf",
          "Earthcott Green",
          "Prince St Bridge (centre side)",
          "Prince St Bridge (Bedminster side)",
          "Hotwells - Pump House",
          "Victoria St - A",
          "Portwall Lane - A",
          "Portwall Lane - B",
          "Portwall Lane - C",
          "Portwall Lane - D",
          "Redcliff St - A",
          "Redcliffe St - B",
          "Redcliffe Hill - A",
          "Redcliffe Hill - B",
          "Guinea St",
          "Victoria St - B",
          "Commercial Rd - A",
          "Commercial Rd - B",
          "Clarence Rd - A",
          "Clarence Rd - B",
          "Clarence Rd - C",
          "Clarence Rd - D",
          "Clarence Rd - E",
          "Temple Gate - A",
          "Temple Gate - B",
          "Victoria St - C",
          "Bath Bridge",
          "York Rd - A",
          "York Rd - B",
          "York Rd - C",
          "Temple Way - A",
          "Temple Way - B",
          "Victoria St - D",
          "Pipe Lane",
          "Redcliffe Way - B",
          "Redcliffe Way - C",
          "Redcliffe Way - D",
          "St Nicholas Rd",
          "Cotham Lawn Rd",
          "The Limes Nursery School",
          "Eastville Park",
          "Novers Lane School",
          "St Mathias",
          "Farmwell Close",
          "Blaise Castle",
          "Petherton Rd",
          "Henleaze Infants School",
          "Summerleaze Office",
          "Avon County School",
          "Southmead Hospital",
          "Stile AcresBroadlands Drive",
          "The Square",
          "Hannah Moore School",
          "Brangwyn Grove",
          "Redland Court",
          "Dundridge Playing Fields",
          "Airballoon Infants School",
          "Trowbridge Rd",
          "Greville Smyth Park",
          "Ashton Vale School",
          "Stockwood Green School",
          "Bishops Close",
          "Elmlea Jnr School",
          "Teyfant Primary School",
          "Victoria Park",
          "Brunel College",
          "Kingshead Lane Park",
          "Broomhill Jnr School",
          "St Annes Jnr School",
          "Council House",
          "Clifton College",
          "Victoria Street a",
          "Victoria Street",
          "Redcliffe Street south",
          "Redcliffe Hill a",
          "Redcliff Hill b",
          "Commercial Rd b",
          "Clarence Road a",
          "Clarence Road e",
          "Templegate a",
          "Templegate b",
          "Bath Bridge south",
          "corner York rd  and  Whitehouse St",
          "Corner York Rd  and  Spring St",
          "York Road",
          "Temple Way a",
          "Temple Way b",
          "Redcliffe Way east",
          "Redcliffe Way west",
          "Temple Gate",
          "between Redcliffe Way and Temple Quay rndbt",
          "Temple Quay rndbt west",
          "Temple Quay rndbt east",
          "Temple Way near Avon Street east",
          "Temple Way near Avon street west",
          "St Thomas Street",
          "Redcliffe Street north",
          "The  Grove",
          "Prince Street",
          "Bath Bridge north",
          "Bedminster Parade near bridge",
          "Coronation Road",
          "Bedminster Bridge east",
          "Bedminster Bridge west",
          "Coronation Road near entry to Asda",
          "roundabout end of Wapping Rd  commercial road",
          "Anchor Road",
          "Anchor Road opp Cathedral School",
          "Anchor Road a",
          "Anchor Road b",
          "Anchor Road c",
          "Anchor Road near Hotwells rndbt east",
          "Anchor Road near Hotwells rndbt west",
          "Hotwells Road",
          "Jacobs Wells Road South",
          "Jacobs Wells road opp Clifton hill",
          "Stokes Croft  Ashley Road",
          "botttom of Arley Hill",
          "Cromwell Road",
          "Zetland Road junction",
          "Bishop Road",
          "Dongola Avenue",
          "Strathmore Road",
          "Horfield Common",
          "Sports Centre",
          "Monks Park Avenue",
          "junction Birchwood Road",
          "shops",
          "Eastwood Crescent",
          "opp Whitmore Avenue",
          "Raymill",
          "Ironmould Lane",
          "Bath Road park  and  ride",
          "West Town Lane junction",
          "top of Brislington Hill",
          "Kenneth Road",
          "Water Lane",
          "opp Kensington Park Road",
          "opp Kings Road",
          "Arnos Court",
          "Totterdown Bridge",
          "Higham Street (National)",
          "Ferndown Close (National)",
          "Hillcrest (National)",
          "Newfoundland Way (National)",
          "No. 6 Borewell WW",
          "Almondsbury School",
          "AURN Bristol Centre",
          "Hannah Moore School",
          "Albright and Wilson",
          "Tesco forecourt",
          "Stapleton2",
          "Eastgate",
          "Tesco spot",
          "Sainsbury Ashton3",
          "Redland Road",
          "Arnos Court",
          "Stapleton1",
          "Castle Cement",
          "Blaise Castle House",
          "Brislington Depot",
          "Little Stoke Parish Hall",
          "Terra UK site",
          "Rupert Street",
          "Dundry Hill",
          "Hallen Village",
          "IKEA M32",
          "Rhone Poulenc",
          "Rhone Poulenc",
          "Rhone Poulenc",
          "Old Market",
          "Port Health Office",
          "Parson Street School",
          "Poplar Farm",
          "Port Health Office",
          "Royal Portbury Docks quayside",
          "Royal Portbury Docks cc",
          "Royal Portbury Docks road",
          "Blaise Castle House",
          "Bristol North Baths",
          "St. Matthias College",
          "St Matthias College",
          "The Vicarage Avonmouth",
          "Wessex Water Avonmouth",
          "Wessex Water Avonmouth",
          "Temple Meads Station",
          "South Liberty Lane Travellers Site",
          "Parson Street School",
          "West Town Road",
          "A4 Portway N of P and R",
          "A4 Portway S of P and R",
          "A37 N of Airport Rd. Junction",
          "A37 S of Airport Rd.Junction",
          "A4174 East of Airport Rd Junction",
          "A4174 West of Airport Rd. Junction",
          "Parson Street School",
          "Parson St. A38 East",
          "Parson St. A38 West",
          "Parson St. Bedminster Road",
          "Parson Street Bedminster Down Road",
          "Parson Street Chip Shop",
          "Kingsweston Lane Central",
          "Kingsweston Lane 100m N",
          "Kingsweston Lane 200m N",
          "Kingsweston Lane 100m S",
          "Kingsweston Lane 200m S",
          "Lawrence Weston Road Central",
          "Lawrence Weston Road 100m N",
          "Lawrence Weston Road 200m N",
          "Lawrence Weston Road 100m S",
          "Lawrence Weston Road 200m S",
          "Merchants Road Hotwells",
          "Joy Hill Hotwells",
          "Church Hotwells",
          "Almshouses Hotwells",
          "Stapleton Road North",
          "Stapleton Road Middle",
          "Stapleton Road South",
          "Stapleton Road Heath Street",
          "Stapleton Road Argyll Street",
          "Gatton Road",
          "Baptist Mills School",
          "Elton Street Wellington Road",
          "Cabot Primary School",
          "Pritchard Street",
          "Pilning Fire Station",
          "South Liberty Lane RWS",
          "Wells Road",
          "Trailer Portway P&R",
          "Old Beaufort Club 1",
          "Old Beaufort Club 2",
          "Old Beaufort Club 3",
          "B and W 3rd floor",
          "B and W Top Floor",
          "B and W Broad Quay",
          "B and W Broad Quay2",
          "Marsh St Derelict",
          "Marsh St Derelict Garage",
          "Rupert St Green Box",
          "Project House GF",
          "Project House 1F",
          "Project House 2F",
          "Project House 3F",
          "William Street",
          "Whitehouse Street",
          "Avonmouth Primary School",
          "Bear Pit Railing",
          "Bear Pit Toilet Block",
          "Traffic Light Avon House",
          "Shop Parade",
          "Bond St. Lamp post",
          "Castle Court forecourt sainsburys",
          "Lamppost   16 Ashley Road St. Pauls",
          "Facade   383 Church Road Redfield",
          "Facade St. Georges Library   Church Road St. George",
          "Facade Ye Olde Flower Shop 218 Church Road St. George",
          "Facade Haart Estate Agents 755 Fishponds Road Fishponds",
          "Lamppost   717 Fishponds Road Fishponds",
          "Facade Cafe Culture 597 Fishponds Road Fishponds",
          "Facade   784 Muller Road Fishponds",
          "Lamppost     Russell Town Avenue Redfield",
          "Lamppost     Sarah Street Redfield",
          "Lamppost     Cottrell Road \\ Muller Road Horfield",
          "Lamppost     Glenfrome Road \\ Muller Road Horfield",
          "Lamppost     Muller Road Horfield",
          "Lamppost     Muller Road \\ Downend Road Horfield",
          "Lamppost     Muller Road \\ Filton Avenue Horfield",
          "Give Way sign  Chesterfield Rd \\ Ashley Down Road St. Andrews",
          "Lamppost     Ashley Hill St. Pauls",
          "Lamppost     Hendre Road \\ Winterstoke Road Ashton",
          "Lamppost     Whiteladies Road \\ Cotham Hill Clifton",
          "Lamppost     M5 Lawrence Weston Road 25m from carriageway Avonmouth",
          "Lamppost     M5 Lawrence Weston Road 50m from carriageway Avonmouth",
          "Monitor     A37 Wells Road Knowle",
          "Monitor     Rupert Street City Centre",
          "Monitor     Temple Way Temple Meads",
          "Monitor     Bath Road Brislington",
          "Monitor     Trailer Portway Park and Ride",
          "Monitor     Castlemead City Centre",
          "Facade   742 Muller Road Fishponds",
          "Facade   258 Fishponds Road Fishponds",
          "Lamp post Roundabout poplar way",
          "Lamp post bridge poplar way east",
          "Lamp post industrial units entrance",
          "Lamp post bridge poplar way west",
          "Days Road Kingsland Road",
          "Days Road Chancery Street",
          "Days Road Peters Terrace",
          "Days Road Sarah Street",
          "Days Road Oxford Street",
          "Hartcliffe Hilltop Farm",
          "Hartcliffe Novers Hill",
          "Hartcliffe Crantock Avenue",
          "Hartcliffe Novers Park Drive 1",
          "Hartcliffe Novers Park Drive 2",
          "Hengrove Whitchurch Lane",
          "Hengrove Hawkfield Road",
          "Hengrove Rowacres",
          "Hengrove Inns Court Drive",
          "Hartcliffe A4174",
          "Hengrove Hengrove Leisure Park",
          "Hengrove Penrose",
          "153 Muller Road Façade",
          "M4 J18 Climbing Lane Near Springs Farm",
          "M4 j19 - 20 widening North East Green Acres Farm",
          "M4 j19 - 20 widening SW1 Palmers Leaze",
          "M4 j19 - 20 widening SW1 Ormond Close",
          "M5 J16 - 17 N Chillington Court",
          "M5 J16 - 17 S Falcon Close",
          "M5 J17 - 18 Hallen Hill - Hollywood Lane S of M5",
          "M5 J19 - 20 Naish Hill - Station Road S of M5",
          "M5 J19 - 20 Tickenham Hill Housing Adjacent to J20",
          "M5 J19 - 20 Tickenham Hill N of J20",
          "M5 J19 - 20 Tickenham Hill EXTRA GRADIENT",
          "M5 J17 - 18 Hallen Hill EXTRA GRADIENT",
          "5102 façade",
          "St. Matthias House façade",
          "Unite façade",
          "Broad Weir post development",
          "River Street facade 1",
          "River Street facade 2",
          "Wellington Road post development",
          "Great George Street lamppost",
          "Lamb Street façade",
          "Avon Street Temple Way junction post development",
          "123 Newfoundland Street façade",
          "St. Paul Street",
          "Newfoundland Road Police Station",
          "Hallen",
          "A4174 UWE",
          "Easton Business Park",
          "Dundry",
          "Orange Street Façade",
          "No. 6 Borewell",
          "Wessex Water",
          "No. 6 Borewell",
          "Anstee and Ware",
          "Atwood Drive",
          "Sevalco Roadside",
          "Start of Cutting Northbound carriageway Hallen Large Lamppost",
          "Property Boundary Oakhill Lane M5 South carriageway rear garden",
          "Station Road facing Mway closest property to carriageway",
          "Station road two doors down from HA-NEW-3",
          "Junction of priory road with station road Lamppost",
          "Cole Acre North of M5 over footbridge Lamppost",
          "Substation Post Nearest M5 Station Road",
          "Sevalco North (on site)",
          "Shiner's Garage",
          "Avonmouth Rd No 28 on facia",
          "facade avonmouth road underpass - house to SE",
          "Avonmouth Rd No 31 on facia",
          "facade house on portway M5 underpass",
          "facade west town lane M5 underpass",
          "facade ashton road - house closest UP",
          "Bath Rd No 23 lamppost 48 (opp Book Barn)",
          "Lamp post 48 230 Bath Road",
          "shiners garage triplicate QAQC tubes contin",
          "Whitehall Rd/Easton Rd lamppost 4TZ",
          "Whitehall Rd lamppost 17 nr juction with Chalks Rd",
          "lamppost sussex place",
          "Cotham Brow/Cheltenham Rd existing site junction",
          "facade cotham brow arches elysee guest house",
          "facade cotham girls school cheltenham rd",
          "facade 21 bath buildings",
          "facade cromwell road west",
          "Wells Rd bus lane sign just below junction with Knowle Rd",
          "facade junction brecknock road with a37",
          "facade junction hengrove road with a37",
          "Wells Rd - Knowle shopping centre lamppost 41 (outside Miss Millies)",
          "St John's Lane No 26 lamppost 15 (just past roundabout)",
          "Bedminster Down Rd lamppost between Ashton Motors & Plough PH",
          "Parson St lamppost outside Bristol Scuba",
          "North St/Dean Lane on roundabout sign",
          "North St/Langton Park T junction",
          "facade BRI children's",
          "facade BRI main building",
          "Ashley Rd P sign outside International Market (nr Dalrymple Rd)",
          "City Rd/Ashley Rd lamppost No 16",
          "Fishponds Rd lamppost 37 outside PO (just before Oakdene Ave)",
          "Fishponds Rd/Elmgrove Rd lamppost 53 (outside video centre)",
          "facade villiers road stapleton road junction",
          "Gaol Ferry Bridge",
          "Cannon's Road",
          "16 Lower Ashley Road",
          "Bristol Scuba",
          "Whitehall Rd/Easton Rd lamppost 4TZ",
          "Old Market",
          "Shiners Garage",
          "Almondsbury School",
          "A37 Junction w/ Airport Road",
          "Parson Street School",
          "Littlestoke Parish Hall",
          "Avon Probation Service",
          "Former Shell Tank Farm",
          "CREATE Roof",
          "13 Passage Road",
          "CH Ramp North",
          "Council House Ramp South",
          "Bath Road",
          "Economy Cars",
          "Eastgate Market",
          "Industrial Museum",
          "Hallen Village",
          "AURN St Pauls",
          "Exclusively Yours LAR",
          "Teoh's LAR",
          "St. Pauls Day Nursery",
          "Newfoundland Way Police Station",
          "Holesmouth New",
          "62 Callington Road",
          "Cheltenham Road \\ Station Road",
          "Cheltenham Road \\ Station Road",
          "Millpond School Fence",
          "Millpond School play area",
          "Fishponds Road",
          "Fishponds Road",
          "North Street School fence",
          "Savanna coffee drainpipe",
          "Strada Exeter Road",
          "façade of North Street near Myrtle Street",
          "Lamppost corner park avenue",
          "Victoria Park Primary",
          "property façade nr. Paultow Road",
          "Jamiesons Autos",
          "B&G Snax West St",
          "Martial Arts West Street",
          "18 Morton Street",
          "Elmgrove Ave",
          "rear 32 st marks grove",
          "T shirt Shop W. Town Lane",
          "cycle sign lamppost",
          "Halston Drive",
          "CREATE Centre Roof",
          "Avonmouth Road - Lampost (20) Opposite Number Hse No 45",
          "Avonmouth Road - Lampost (19) Opposite Hse No 37",
          "Avonmouth Road - School Sign Opposite Hse No 16",
          "Avonmouth Road - Telegraph Pole Opposite Hse No 4",
          "Barracks's Lane - Telegraph Pole No 6. End of Lane Left Hand Side",
          "Junction 3 Millpond Street",
          "Junction 3 Easton Way",
          "Avonmouth Road Outside No 12",
          "Avon School Barrack's Lane",
          "Avonmouth Road Outside No 76",
          "On 1 way sign at bottom of Wellington Hill",
          "No 67 Filton Avenue on wall facing Muller Rd",
          "Muller Road - Adjacent to Darnley Avenue",
          "On green fence surrounding Western Power substation (?) adjacent to No.1 Dorian Road",
          "385 Church Road Redfield",
          "20 Ashley Road",
          "Hungerford Road",
          "Temple Way Nox site",
          "Temple Way",
          "Colston Avenue",
          "Co-located Colston Ave",
          "Sea mills pharmacy no stopping sign",
          "Avonmouth primary",
          "Henbury school",
          "Woodstock school",
          "Blaise school",
          "Orchard school",
          "Filton avenue primary",
          "Ashley down primary",
          "Sefton park",
          "Colston girls",
          "Cabot primary",
          "St. Barnabas",
          "St. Werburghs park nursery",
          "Fairfield high school",
          "Glenfrome primary",
          "Fishponds c of e",
          "Briarwood school",
          "St. Joseph's RC primary",
          "Chester park infants",
          "May park primary",
          "Bannerman road",
          "City academy",
          "Summer hill a420",
          "Summer hill Plummers hill",
          "St patricks",
          "Redfield educate together",
          "Bristol futures academy",
          "Barton Hill Academy",
          "Easton c of e academy",
          "St. Nicholas of tolentine",
          "Hannah more front",
          "Hillcrest primary",
          "West town lane academy",
          "St Mary redcliffe secondary",
          "St Mary redcliffe primary",
          "Dalby avenue",
          "Dalby avenue church lane",
          "Compass point",
          "Holy cross primary",
          "Southville primary",
          "Southville primary Myrtle street",
          "Ashton gate primary",
          "Ashton park school",
          "HotWells primary",
          "St George's primary",
          "St Michaels on the mount",
          "Real sounds studios silver street",
          "Cathedral School",
          "Cod Almighty downpipe",
          "Bell Hill",
          "Glenfrome Road lamppost by M32 Bridge",
          "Nelson Street",
          "420 Hotwell Road A4",
          "South Eastern stair access Plimsoll Bridge",
          "Talbot Road 20mph lamppost",
          "Coronation Road Walter Street No Entry",
          "Except local buses sign Blackmoors Lane",
          "Lamppost outside BRI CAZ",
          "Lamppost opposite BRI CAZ",
          "Lamp post near Queens Head pub South Bristol link",
          " Lamp post at junction with Highridge rd. near Cox brothers garage. South Bristol link.",
          "Westbury on Trym High Street Lamp post by Athena restaurant",
          "A4018 Lamp post by layby before roundabout for Crow Ln/ Knole Ln",
          "AQ Mesh Temple Way",
          "Muller road/ Glenfrome road junction north",
          "Traffic light on the corner of Shaldon road",
          "Lampost on North corner of Draycott road junction with Muller road.",
          "Muller road junction with Downend road lampost north of the junction.",
          "Muller road junction with Downend road traffic light to the south of the junction.",
          "St. Werburghs",
          "Bristol Airport",
          "Whiteladies road, on loading sign next to Redland library",
          "Baldwin Street traffic light outside domino's",
          "Baldwin Street lamp post by cycle way, opp St Stephens St",
          "High St lamp post outside Wards solicitors",
          "Church Road-CAZ-Outside Gurdwara",
          "Church Road-CAZ-Lamppost",
          "Marlborough St-CAZ-Lamppost opposite hosp",
          "Marlborough St-CAZ-Lamppost by coach station",
          "Rupert St-CAZ-Post outside fire station",
          "Rupert St-CAZ-Post outside police station",
          "Rupert St-CAZ-Post outside Fusion Tower",
          "Park St-CAZ-Lamppost by Guild",
          "Park St-CAZ-Lamppost by Agora",
          "Baldwin St-CAZ-Lamppost by Yelland House",
          "Baldwin St-CAZ-Drainpipe on building",
          "Marlborough St-CAZ-On sign leg",
          "Marlborough St-CAZ-Post by bollards",
          "Marlborough St-CAZ-Post",
          "Upper Maudlin St-CAZ-Crossing by BRI",
          "Upper Maudlin St-CAZ-Post by BRI",
          "Lower Park Row-CAZ-Post by Art shop",
          "Lower Park Row-CAZ-Post after OTR",
          "Park Row-CAZ-Lamppost by museum",
          "Park Row-CAZ-Post by house",
          "Queens Road-CAZ-Lamppost by UoB",
          "Park St-CAZ-Lamppost by bike stands",
          "Park St-CAZ-Lamppost by City Hall",
          "College Green-CAZ-Lamppost opp Denmark St",
          "Anchor Road-CAZ-Lamppost",
          "Lewins Mead-CAZ-Post by Evans Cycles",
          "Lewins Mead-CAZ-Post by PMT",
          "Rupert St-CAZ-Post by Courtrooms",
          "Victoria Street-CAZ-No entry sign",
          "Counterslip-CAZ-Drainpipe on building",
          "Temple Gate-CAZ-Lamppost",
          "Bath Road-CAZ-Lamppost or sign",
          "Wells Road-CAZ-Lamppost",
          "Winterstoke Road-CAZ-Lamppost",
          "Newfoundland St-CAZ-Lamppost by layby",
          "Newfoundland St-CAZ-Lamppost by crossing",
          "Temple Way-CAZ-Sign by Champ Square",
          "Newfoundland Way-CAZ-Lamppost by petrol station",
          "Newfoundland Way-CAZ-Road sign",
          "Houlton St-CAZ-30mph sign",
          "Cheltenham Rd-CAZ-Sign opp Tesco",
          "Cheltenham Rd-CAZ-Lamppost by Bite",
          "Lower Ashley Rd-CAZ-Lamppost by grass",
          "Gloucester Rd-CAZ-Lamppost by bus stop",
          "Bedminster Rd-CAZ-Lamppost opp school",
          "Bedminster Rd-CAZ-Lamppost by school",
          "Bedminster Rd-CAZ-Post opp Van Sales",
          "Bedminster Rd-CAZ-Lamppost by Van Sales",
          "Bedminster Rd-CAZ-Post",
          "Parson St-CAZ-Lamppost by Station",
          "Lower Ashley Rd-CAZ-Lamppost by Geo Jones",
          "Lower Ashley Rd-CAZ-Lamppost opp London Rd",
          "Bedminster Down Rd-CAZ-Lamppost by billboard",
          "Bedminster Down Rd-CAZ-Roadsign by Winterstoke",
          "West St-CAZ-Lamppost by Argus Rd",
          "West St-CAZ-Lamppost opp Jamiesons",
          "Bedminster Parade-CAZ-Lamppost by William Hill",
          "York Rd-CAZ-Sign after bridge",
          "Bath Rd-CAZ-Lamppost by Bus Lane",
          "Bath Rd-CAZ-Lamppost by Kings Road",
          "A4044 Roundabout-CAZ-Lamppost",
          "Victoria St-CAZ-Lamppost opp Mitchell Lane",
          "Lamb Street-CAZ-One way sign by Church",
          "Stokes Croft-CAZ-Lamppost",
          "Ashley Road-CAZ-Lamppost opp Drumd Rd",
          "Sussex Place-CAZ-Lamppost",
          "Ashley Down Rd-CAZ-Lamppost",
          "Gloucester Rd-CAZ-Lamppost opp Baths",
          "Cheltenham Rd-CAZ-Post by Papa Johns",
          "Merchants Rd-CAZ-Lamppost by house",
          "Wells Rd-CAZ-Lamppost by Red Lion Carpets",
          "Bath Rd-CAZ-Lamppost",
          "Wells Rd-CAZ-Lamppost",
          "Church Rd-CAZ-Post by Barwaaqo Cafe",
          "Whitehall Rd-CAZ-Lamppost by house",
          "Stapleton Rd-CAZ-Lamppost by house",
          "Mina Rd-CAZ-Lamppost by house",
          "Muller Rd-CAZ-Lamppost opp LA DT",
          "Stapleton Rd-CAZ-Lamppost",
          "Fishponds Rd-CAZ-Lamppost",
          "Fishponds Rd-CAZ-Lamppost",
          "Muller Rd-CAZ-Lamppost",
          "Muller Rd-CAZ-Lamppost",
          "Linden Rd-CAZ-Lamppost by house",
          "Linden Rd-CAZ-Lamppost by house",
          "Whiteladies Rd-CAZ-Lamppost after petrol station",
          "Westbury Rd-CAZ-Lamppost by hospital",
          "Upper Maudlin St-CAZ-Lamppost opp BRI",
          "Upper Maudlin St-CAZ-Lamppost by BRI",
          "College Green-CAZ-Post by Toni&Guy",
          "Clift House Road-CAZ-Telegraph pole clift house road",
          "Temple Way Bridge-CAZ-Lamppost Temple Way Bridge",
          "Bristol Hill-CAZ-Lamppost Bristol Hill",
          "North View Downs Park West",
          "Marlborough Street",
          "Marlborough Street - co - located",
          "Troopers Hill Opposite No 30",
          "Netham Lock Junction",
          "Blackswarth Road Opposite St Patrick's School",
          "Beaufort Road Opposite No 109",
          "Victoria Avenue Opposite No 90",
          "Avonvale Road Opposite Bristol Futures Academy",
          "Morely Street/Bright Street Ped Crossing",
          "Russel Town Avenue Opposite Pheonix Social Enterprise Club",
          "Church Road Miss Millies",
          "Victoria Parade Opposite No 39",
          "Lyppiatt Road Opposite No 25",
          "Stapleton Road HE",
          "Glenfrome Road stonewall LP HE",
          "B4058 East of M32 stonewall LP HE",
          "Napier Road 20mph LP HE",
          "505 Stapleton Road Easton LP HE",
          "Stapleton Rd Freemantle rd LP HE",
          "Stapleton Rd Heath St Cycles sign HE",
          "New Gatton Rd barrier LP HE",
          "Stairway bridge M32 J3 HE",
          "Fox Rd 26 LP HE",
          "Lower Ashley Rd Millpond Sch LP HE",
          "Mina Rd M32 AAPEX LP HE",
          "Gable Rd M32 barrier LP HE",
          "Portway - Sylvan Way",
          "Portway - Roman Way",
          "Portway - Bridge Valley Road",
          "Blackboy Hill_Traffic light on pedestrian crossing",
          "Lamb Street_CAZ signpost by George Jones Park",
          "Sussex Place_No loading signpost",
          "Bedminster Down Rd junction with Winterstoke Close_CAZ",
          "A4044 Roundabout_Traffic Light",
          "Speedwell Road_near Wackum Inn",
          "Rodney Road junction with Whiteway Road",
          "Whiteway Road junction with A420",
          "Air Balloon Hill Primary School",
          "Nags Head Hill",
          "Barton Hill Academy"
         ],
         "lat": {
          "bdata": "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",
          "dtype": "f8"
         },
         "legendgroup": "",
         "lon": {
          "bdata": "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",
          "dtype": "f8"
         },
         "marker": {
          "color": "#636efa"
         },
         "mode": "markers",
         "name": "",
         "showlegend": false,
         "subplot": "map",
         "type": "scattermap"
        }
       ],
       "layout": {
        "legend": {
         "tracegroupgap": 0
        },
        "map": {
         "center": {
          "lat": 51.463203477620596,
          "lon": -2.5959997289279793
         },
         "domain": {
          "x": [
           0,
           1
          ],
          "y": [
           0,
           1
          ]
         },
         "zoom": 10
        },
        "mapbox": {
         "center": {
          "lat": 51.463203477620596,
          "lon": -2.5959997289279793
         },
         "zoom": 10
        },
        "margin": {
         "t": 60
        },
        "template": {
         "data": {
          "bar": [
           {
            "error_x": {
             "color": "#2a3f5f"
            },
            "error_y": {
             "color": "#2a3f5f"
            },
            "marker": {
             "line": {
              "color": "#E5ECF6",
              "width": 0.5
             },
             "pattern": {
              "fillmode": "overlay",
              "size": 10,
              "solidity": 0.2
             }
            },
            "type": "bar"
           }
          ],
          "barpolar": [
           {
            "marker": {
             "line": {
              "color": "#E5ECF6",
              "width": 0.5
             },
             "pattern": {
              "fillmode": "overlay",
              "size": 10,
              "solidity": 0.2
             }
            },
            "type": "barpolar"
           }
          ],
          "carpet": [
           {
            "aaxis": {
             "endlinecolor": "#2a3f5f",
             "gridcolor": "white",
             "linecolor": "white",
             "minorgridcolor": "white",
             "startlinecolor": "#2a3f5f"
            },
            "baxis": {
             "endlinecolor": "#2a3f5f",
             "gridcolor": "white",
             "linecolor": "white",
             "minorgridcolor": "white",
             "startlinecolor": "#2a3f5f"
            },
            "type": "carpet"
           }
          ],
          "choropleth": [
           {
            "colorbar": {
             "outlinewidth": 0,
             "ticks": ""
            },
            "type": "choropleth"
           }
          ],
          "contour": [
           {
            "colorbar": {
             "outlinewidth": 0,
             "ticks": ""
            },
            "colorscale": [
             [
              0,
              "#0d0887"
             ],
             [
              0.1111111111111111,
              "#46039f"
             ],
             [
              0.2222222222222222,
              "#7201a8"
             ],
             [
              0.3333333333333333,
              "#9c179e"
             ],
             [
              0.4444444444444444,
              "#bd3786"
             ],
             [
              0.5555555555555556,
              "#d8576b"
             ],
             [
              0.6666666666666666,
              "#ed7953"
             ],
             [
              0.7777777777777778,
              "#fb9f3a"
             ],
             [
              0.8888888888888888,
              "#fdca26"
             ],
             [
              1,
              "#f0f921"
             ]
            ],
            "type": "contour"
           }
          ],
          "contourcarpet": [
           {
            "colorbar": {
             "outlinewidth": 0,
             "ticks": ""
            },
            "type": "contourcarpet"
           }
          ],
          "heatmap": [
           {
            "colorbar": {
             "outlinewidth": 0,
             "ticks": ""
            },
            "colorscale": [
             [
              0,
              "#0d0887"
             ],
             [
              0.1111111111111111,
              "#46039f"
             ],
             [
              0.2222222222222222,
              "#7201a8"
             ],
             [
              0.3333333333333333,
              "#9c179e"
             ],
             [
              0.4444444444444444,
              "#bd3786"
             ],
             [
              0.5555555555555556,
              "#d8576b"
             ],
             [
              0.6666666666666666,
              "#ed7953"
             ],
             [
              0.7777777777777778,
              "#fb9f3a"
             ],
             [
              0.8888888888888888,
              "#fdca26"
             ],
             [
              1,
              "#f0f921"
             ]
            ],
            "type": "heatmap"
           }
          ],
          "histogram": [
           {
            "marker": {
             "pattern": {
              "fillmode": "overlay",
              "size": 10,
              "solidity": 0.2
             }
            },
            "type": "histogram"
           }
          ],
          "histogram2d": [
           {
            "colorbar": {
             "outlinewidth": 0,
             "ticks": ""
            },
            "colorscale": [
             [
              0,
              "#0d0887"
             ],
             [
              0.1111111111111111,
              "#46039f"
             ],
             [
              0.2222222222222222,
              "#7201a8"
             ],
             [
              0.3333333333333333,
              "#9c179e"
             ],
             [
              0.4444444444444444,
              "#bd3786"
             ],
             [
              0.5555555555555556,
              "#d8576b"
             ],
             [
              0.6666666666666666,
              "#ed7953"
             ],
             [
              0.7777777777777778,
              "#fb9f3a"
             ],
             [
              0.8888888888888888,
              "#fdca26"
             ],
             [
              1,
              "#f0f921"
             ]
            ],
            "type": "histogram2d"
           }
          ],
          "histogram2dcontour": [
           {
            "colorbar": {
             "outlinewidth": 0,
             "ticks": ""
            },
            "colorscale": [
             [
              0,
              "#0d0887"
             ],
             [
              0.1111111111111111,
              "#46039f"
             ],
             [
              0.2222222222222222,
              "#7201a8"
             ],
             [
              0.3333333333333333,
              "#9c179e"
             ],
             [
              0.4444444444444444,
              "#bd3786"
             ],
             [
              0.5555555555555556,
              "#d8576b"
             ],
             [
              0.6666666666666666,
              "#ed7953"
             ],
             [
              0.7777777777777778,
              "#fb9f3a"
             ],
             [
              0.8888888888888888,
              "#fdca26"
             ],
             [
              1,
              "#f0f921"
             ]
            ],
            "type": "histogram2dcontour"
           }
          ],
          "mesh3d": [
           {
            "colorbar": {
             "outlinewidth": 0,
             "ticks": ""
            },
            "type": "mesh3d"
           }
          ],
          "parcoords": [
           {
            "line": {
             "colorbar": {
              "outlinewidth": 0,
              "ticks": ""
             }
            },
            "type": "parcoords"
           }
          ],
          "pie": [
           {
            "automargin": true,
            "type": "pie"
           }
          ],
          "scatter": [
           {
            "fillpattern": {
             "fillmode": "overlay",
             "size": 10,
             "solidity": 0.2
            },
            "type": "scatter"
           }
          ],
          "scatter3d": [
           {
            "line": {
             "colorbar": {
              "outlinewidth": 0,
              "ticks": ""
             }
            },
            "marker": {
             "colorbar": {
              "outlinewidth": 0,
              "ticks": ""
             }
            },
            "type": "scatter3d"
           }
          ],
          "scattercarpet": [
           {
            "marker": {
             "colorbar": {
              "outlinewidth": 0,
              "ticks": ""
             }
            },
            "type": "scattercarpet"
           }
          ],
          "scattergeo": [
           {
            "marker": {
             "colorbar": {
              "outlinewidth": 0,
              "ticks": ""
             }
            },
            "type": "scattergeo"
           }
          ],
          "scattergl": [
           {
            "marker": {
             "colorbar": {
              "outlinewidth": 0,
              "ticks": ""
             }
            },
            "type": "scattergl"
           }
          ],
          "scattermap": [
           {
            "marker": {
             "colorbar": {
              "outlinewidth": 0,
              "ticks": ""
             }
            },
            "type": "scattermap"
           }
          ],
          "scattermapbox": [
           {
            "marker": {
             "colorbar": {
              "outlinewidth": 0,
              "ticks": ""
             }
            },
            "type": "scattermapbox"
           }
          ],
          "scatterpolar": [
           {
            "marker": {
             "colorbar": {
              "outlinewidth": 0,
              "ticks": ""
             }
            },
            "type": "scatterpolar"
           }
          ],
          "scatterpolargl": [
           {
            "marker": {
             "colorbar": {
              "outlinewidth": 0,
              "ticks": ""
             }
            },
            "type": "scatterpolargl"
           }
          ],
          "scatterternary": [
           {
            "marker": {
             "colorbar": {
              "outlinewidth": 0,
              "ticks": ""
             }
            },
            "type": "scatterternary"
           }
          ],
          "surface": [
           {
            "colorbar": {
             "outlinewidth": 0,
             "ticks": ""
            },
            "colorscale": [
             [
              0,
              "#0d0887"
             ],
             [
              0.1111111111111111,
              "#46039f"
             ],
             [
              0.2222222222222222,
              "#7201a8"
             ],
             [
              0.3333333333333333,
              "#9c179e"
             ],
             [
              0.4444444444444444,
              "#bd3786"
             ],
             [
              0.5555555555555556,
              "#d8576b"
             ],
             [
              0.6666666666666666,
              "#ed7953"
             ],
             [
              0.7777777777777778,
              "#fb9f3a"
             ],
             [
              0.8888888888888888,
              "#fdca26"
             ],
             [
              1,
              "#f0f921"
             ]
            ],
            "type": "surface"
           }
          ],
          "table": [
           {
            "cells": {
             "fill": {
              "color": "#EBF0F8"
             },
             "line": {
              "color": "white"
             }
            },
            "header": {
             "fill": {
              "color": "#C8D4E3"
             },
             "line": {
              "color": "white"
             }
            },
            "type": "table"
           }
          ]
         },
         "layout": {
          "annotationdefaults": {
           "arrowcolor": "#2a3f5f",
           "arrowhead": 0,
           "arrowwidth": 1
          },
          "autotypenumbers": "strict",
          "coloraxis": {
           "colorbar": {
            "outlinewidth": 0,
            "ticks": ""
           }
          },
          "colorscale": {
           "diverging": [
            [
             0,
             "#8e0152"
            ],
            [
             0.1,
             "#c51b7d"
            ],
            [
             0.2,
             "#de77ae"
            ],
            [
             0.3,
             "#f1b6da"
            ],
            [
             0.4,
             "#fde0ef"
            ],
            [
             0.5,
             "#f7f7f7"
            ],
            [
             0.6,
             "#e6f5d0"
            ],
            [
             0.7,
             "#b8e186"
            ],
            [
             0.8,
             "#7fbc41"
            ],
            [
             0.9,
             "#4d9221"
            ],
            [
             1,
             "#276419"
            ]
           ],
           "sequential": [
            [
             0,
             "#0d0887"
            ],
            [
             0.1111111111111111,
             "#46039f"
            ],
            [
             0.2222222222222222,
             "#7201a8"
            ],
            [
             0.3333333333333333,
             "#9c179e"
            ],
            [
             0.4444444444444444,
             "#bd3786"
            ],
            [
             0.5555555555555556,
             "#d8576b"
            ],
            [
             0.6666666666666666,
             "#ed7953"
            ],
            [
             0.7777777777777778,
             "#fb9f3a"
            ],
            [
             0.8888888888888888,
             "#fdca26"
            ],
            [
             1,
             "#f0f921"
            ]
           ],
           "sequentialminus": [
            [
             0,
             "#0d0887"
            ],
            [
             0.1111111111111111,
             "#46039f"
            ],
            [
             0.2222222222222222,
             "#7201a8"
            ],
            [
             0.3333333333333333,
             "#9c179e"
            ],
            [
             0.4444444444444444,
             "#bd3786"
            ],
            [
             0.5555555555555556,
             "#d8576b"
            ],
            [
             0.6666666666666666,
             "#ed7953"
            ],
            [
             0.7777777777777778,
             "#fb9f3a"
            ],
            [
             0.8888888888888888,
             "#fdca26"
            ],
            [
             1,
             "#f0f921"
            ]
           ]
          },
          "colorway": [
           "#636efa",
           "#EF553B",
           "#00cc96",
           "#ab63fa",
           "#FFA15A",
           "#19d3f3",
           "#FF6692",
           "#B6E880",
           "#FF97FF",
           "#FECB52"
          ],
          "font": {
           "color": "#2a3f5f"
          },
          "geo": {
           "bgcolor": "white",
           "lakecolor": "white",
           "landcolor": "#E5ECF6",
           "showlakes": true,
           "showland": true,
           "subunitcolor": "white"
          },
          "hoverlabel": {
           "align": "left"
          },
          "hovermode": "closest",
          "mapbox": {
           "style": "light"
          },
          "paper_bgcolor": "white",
          "plot_bgcolor": "#E5ECF6",
          "polar": {
           "angularaxis": {
            "gridcolor": "white",
            "linecolor": "white",
            "ticks": ""
           },
           "bgcolor": "#E5ECF6",
           "radialaxis": {
            "gridcolor": "white",
            "linecolor": "white",
            "ticks": ""
           }
          },
          "scene": {
           "xaxis": {
            "backgroundcolor": "#E5ECF6",
            "gridcolor": "white",
            "gridwidth": 2,
            "linecolor": "white",
            "showbackground": true,
            "ticks": "",
            "zerolinecolor": "white"
           },
           "yaxis": {
            "backgroundcolor": "#E5ECF6",
            "gridcolor": "white",
            "gridwidth": 2,
            "linecolor": "white",
            "showbackground": true,
            "ticks": "",
            "zerolinecolor": "white"
           },
           "zaxis": {
            "backgroundcolor": "#E5ECF6",
            "gridcolor": "white",
            "gridwidth": 2,
            "linecolor": "white",
            "showbackground": true,
            "ticks": "",
            "zerolinecolor": "white"
           }
          },
          "shapedefaults": {
           "line": {
            "color": "#2a3f5f"
           }
          },
          "ternary": {
           "aaxis": {
            "gridcolor": "white",
            "linecolor": "white",
            "ticks": ""
           },
           "baxis": {
            "gridcolor": "white",
            "linecolor": "white",
            "ticks": ""
           },
           "bgcolor": "#E5ECF6",
           "caxis": {
            "gridcolor": "white",
            "linecolor": "white",
            "ticks": ""
           }
          },
          "title": {
           "x": 0.05
          },
          "xaxis": {
           "automargin": true,
           "gridcolor": "white",
           "linecolor": "white",
           "ticks": "",
           "title": {
            "standoff": 15
           },
           "zerolinecolor": "white",
           "zerolinewidth": 2
          },
          "yaxis": {
           "automargin": true,
           "gridcolor": "white",
           "linecolor": "white",
           "ticks": "",
           "title": {
            "standoff": 15
           },
           "zerolinecolor": "white",
           "zerolinewidth": 2
          }
         }
        }
       }
      }
     },
     "metadata": {},
     "output_type": "display_data"
    }
   ],
   "source": [
    "import plotly.express as px\n",
    "\n",
    "geo_df = df.toPandas()\n",
    "\n",
    "fig = px.scatter_map(geo_df,\n",
    "                        lat=\"Latitude\",\n",
    "                        lon=\"Longitude\",\n",
    "                        hover_name=\"location\",\n",
    "                        zoom=10)\n",
    "fig.show()"
   ]
  },
  {
   "cell_type": "code",
   "execution_count": 34,
   "metadata": {},
   "outputs": [
    {
     "name": "stderr",
     "output_type": "stream",
     "text": [
      "                                                                                \r"
     ]
    }
   ],
   "source": [
    "csv_df = spark.read.csv(\"ContinuousAirQuality.csv\", header=True, inferSchema=True)"
   ]
  },
  {
   "cell_type": "code",
   "execution_count": 35,
   "metadata": {},
   "outputs": [
    {
     "name": "stderr",
     "output_type": "stream",
     "text": [
      "[Stage 42:===========================================>              (3 + 1) / 4]\r"
     ]
    },
    {
     "name": "stdout",
     "output_type": "stream",
     "text": [
      "+-------+--------+-------+--------+---------+------+------+------+-------+-------+\n",
      "|SITE_ID|LOCATION|EASTING|NORTHING|DATE_TIME|    NO|   NOX|   NO2|  PM2_5|   PM10|\n",
      "+-------+--------+-------+--------+---------+------+------+------+-------+-------+\n",
      "|      0|       0|      0|       0|        0|129636|135972|138757|1453924|1249738|\n",
      "+-------+--------+-------+--------+---------+------+------+------+-------+-------+\n",
      "\n"
     ]
    },
    {
     "name": "stderr",
     "output_type": "stream",
     "text": [
      "                                                                                \r"
     ]
    }
   ],
   "source": [
    "null_count = csv_df.select([F.sum(col(c).isNull().cast(\"int\")).alias(c) for c in csv_df.columns])\n",
    "null_count.show()\n"
   ]
  },
  {
   "cell_type": "code",
   "execution_count": 36,
   "metadata": {},
   "outputs": [
    {
     "name": "stdout",
     "output_type": "stream",
     "text": [
      "+-------+-------------------+-------+--------+----------------+----+----+----+-----+----+\n",
      "|SITE_ID|           LOCATION|EASTING|NORTHING|       DATE_TIME|  NO| NOX| NO2|PM2_5|PM10|\n",
      "+-------+-------------------+-------+--------+----------------+----+----+----+-----+----+\n",
      "|    188|AURN Bristol Centre| 359406|  173299|01/01/1993 00:00|NULL|NULL|NULL| NULL|NULL|\n",
      "|    188|AURN Bristol Centre| 359406|  173299|01/01/1993 01:00|NULL|NULL|NULL| NULL|NULL|\n",
      "|    188|AURN Bristol Centre| 359406|  173299|01/01/1993 02:00|NULL|NULL|NULL| NULL|NULL|\n",
      "|    188|AURN Bristol Centre| 359406|  173299|01/01/1993 03:00|NULL|NULL|NULL| NULL|NULL|\n",
      "|    188|AURN Bristol Centre| 359406|  173299|01/01/1993 04:00|NULL|NULL|NULL| NULL|NULL|\n",
      "|    188|AURN Bristol Centre| 359406|  173299|01/01/1993 05:00|NULL|NULL|NULL| NULL|NULL|\n",
      "|    188|AURN Bristol Centre| 359406|  173299|01/01/1993 06:00|NULL|NULL|NULL| NULL|NULL|\n",
      "|    188|AURN Bristol Centre| 359406|  173299|01/01/1993 07:00|NULL|NULL|NULL| NULL|NULL|\n",
      "|    188|AURN Bristol Centre| 359406|  173299|01/01/1993 08:00|NULL|NULL|NULL| NULL|NULL|\n",
      "|    188|AURN Bristol Centre| 359406|  173299|01/01/1993 09:00|NULL|NULL|NULL| NULL|NULL|\n",
      "|    188|AURN Bristol Centre| 359406|  173299|01/01/1993 10:00|NULL|NULL|NULL| NULL|NULL|\n",
      "|    188|AURN Bristol Centre| 359406|  173299|01/01/1993 11:00|NULL|NULL|NULL| NULL|NULL|\n",
      "|    188|AURN Bristol Centre| 359406|  173299|01/01/1993 12:00|NULL|NULL|NULL| NULL|NULL|\n",
      "|    188|AURN Bristol Centre| 359406|  173299|01/01/1993 13:00|NULL|NULL|NULL| NULL|NULL|\n",
      "|    188|AURN Bristol Centre| 359406|  173299|01/01/1993 14:00|NULL|NULL|NULL| NULL|NULL|\n",
      "|    188|AURN Bristol Centre| 359406|  173299|01/01/1993 15:00|NULL|NULL|NULL| NULL|NULL|\n",
      "|    188|AURN Bristol Centre| 359406|  173299|01/01/1993 16:00|NULL|NULL|NULL| NULL|NULL|\n",
      "|    188|AURN Bristol Centre| 359406|  173299|01/01/1993 17:00|NULL|NULL|NULL| NULL|NULL|\n",
      "|    188|AURN Bristol Centre| 359406|  173299|01/01/1993 18:00|NULL|NULL|NULL| NULL|NULL|\n",
      "|    188|AURN Bristol Centre| 359406|  173299|01/01/1993 19:00|NULL|NULL|NULL| NULL|NULL|\n",
      "+-------+-------------------+-------+--------+----------------+----+----+----+-----+----+\n",
      "only showing top 20 rows\n",
      "\n"
     ]
    }
   ],
   "source": [
    "csv_df.filter(col(\"NO\").isNull()).show()"
   ]
  },
  {
   "cell_type": "code",
   "execution_count": 37,
   "metadata": {},
   "outputs": [],
   "source": [
    "csv_df_clean = csv_df.dropna(how=\"any\")"
   ]
  },
  {
   "cell_type": "code",
   "execution_count": 38,
   "metadata": {},
   "outputs": [
    {
     "name": "stderr",
     "output_type": "stream",
     "text": [
      "                                                                                \r"
     ]
    },
    {
     "name": "stdout",
     "output_type": "stream",
     "text": [
      "+-------+------------------+\n",
      "|SITE_ID|            Avg_NO|\n",
      "+-------+------------------+\n",
      "|    209|  88.6956860564742|\n",
      "|    206| 169.8539232950572|\n",
      "|    203| 22.48464297281046|\n",
      "|    188| 39.14171432878855|\n",
      "|    271|16.388610912902664|\n",
      "|    213| 65.63642083501865|\n",
      "|    228|102.17944026030236|\n",
      "|    270| 42.96461048147476|\n",
      "|    215| 38.35466068825329|\n",
      "|    375|58.118193114895924|\n",
      "|    452|12.145855352520629|\n",
      "|    447|46.801717481939264|\n",
      "|    395|36.446677771684314|\n",
      "|    463|28.451024349974848|\n",
      "|    481|              NULL|\n",
      "|    501| 65.15577366452885|\n",
      "|    500|24.086869128595477|\n",
      "|    672|19.529733017499506|\n",
      "|    459|28.735420389347617|\n",
      "+-------+------------------+\n",
      "\n"
     ]
    },
    {
     "name": "stderr",
     "output_type": "stream",
     "text": [
      "                                                                                \r"
     ]
    },
    {
     "data": {
      "text/plain": [
       "<Axes: xlabel='SITE_ID', ylabel='Avg_NO'>"
      ]
     },
     "execution_count": 38,
     "metadata": {},
     "output_type": "execute_result"
    },
    {
     "data": {
      "image/png": "[encoded data removed]",
      "text/plain": [
       "<Figure size 640x480 with 1 Axes>"
      ]
     },
     "metadata": {},
     "output_type": "display_data"
    }
   ],
   "source": [
    "data = csv_df.groupBy(\"SITE_ID\").agg(F.avg(\"NO\").alias(\"Avg_NO\"))\n",
    "data.show()\n",
    "sns.barplot(data=data.toPandas(), x=\"SITE_ID\", y=\"Avg_NO\")"
   ]
  },
  {
   "cell_type": "code",
   "execution_count": 41,
   "metadata": {},
   "outputs": [],
   "source": [
    "def apiaccess(url):\n",
    "    try:\n",
    "        response = requests.get(url)\n",
    "        geojson_data = response.json()\n",
    "    except requests.exceptions.HTTPError as http_err:\n",
    "        print(f\"HTTP error occurred: {http_err}\")\n",
    "\n",
    "    except requests.exceptions.ConnectionError as conn_err:\n",
    "        print(f\"Connection error occurred: {conn_err}\")\n",
    "\n",
    "    except requests.exceptions.Timeout as timeout_err:\n",
    "        print(f\"Timeout error occurred: {timeout_err}\")\n",
    "\n",
    "    except requests.exceptions.RequestException as req_err:\n",
    "        print(f\"An error occurred with the request: {req_err}\")\n",
    "\n",
    "    except ValueError as json_err:\n",
    "        print(f\"Failed to parse JSON: {json_err}\")\n",
    "\n",
    "    except Exception as e:\n",
    "        print(f\"An unexpected error occurred: {e}\")\n",
    "        \n",
    "    else:\n",
    "        features = geojson_data.get(\"features\", [])\n",
    "        json_features = [json.dumps(feature) for feature in features]\n",
    "        rdd = spark.sparkContext.parallelize(json_features)\n",
    "        dataframe = spark.read.json(rdd)\n",
    "        return(dataframe)"
   ]
  },
  {
   "cell_type": "code",
   "execution_count": 70,
   "metadata": {},
   "outputs": [],
   "source": [
    "df_no2 = apiaccess(\"https://services2.arcgis.com/a4vR8lmmksFixzmB/arcgis/rest/services/AnnualNO2diffusionBNG_gdb/FeatureServer/0/query?outFields=*&where=1%3D1&f=geojson\")"
   ]
  },
  {
   "cell_type": "code",
   "execution_count": 71,
   "metadata": {},
   "outputs": [
    {
     "name": "stdout",
     "output_type": "stream",
     "text": [
      "+----------------------------------------------+---+---------------------------------------------------------------------------------------------------------------------------------------------------------------------------------------------------------------------------------------------------------------------+-------+\n",
      "|geometry                                      |id |properties                                                                                                                                                                                                                                                           |type   |\n",
      "+----------------------------------------------+---+---------------------------------------------------------------------------------------------------------------------------------------------------------------------------------------------------------------------------------------------------------------------+-------+\n",
      "|{[-2.58079714839442, 51.4614980188789], Point}|1  |{22.3, 12, Yes, 2010: 53, 2011: 47.9, 2012: 44.9, 2013: 45.2, 2014: 41.6, 2015: 38.3, 2016: 39.5, 2017: 38.5, 2018: 35.7, 2019: 31.2, 2020: 23.9, 2021: 27.9, 2022: 27.4, 2023: 22.3, 123 Newfoundland Street façade, 22.3, 1, 373, 373, single, 2023, Current sites}|Feature|\n",
      "|{[-2.59633174155215, 51.4584075637687], Point}|2  |{25.6, 21, Yes, NULL, Lamppost outside BRI CAZ, 25.6, 2, 560_1, 560_2, 560, duplicate, 2023, Current sites}                                                                                                                                                          |Feature|\n",
      "|{[-2.59665060934206, 51.4552677387829], Point}|3  |{48.9, 33, Yes, NULL, Co-located Colston Ave, 48.9, 3, 502_1, 502_2, 502_3, 502, triplicate, 2023, Current sites}                                                                                                                                                    |Feature|\n",
      "|{[-2.58399065922947, 51.4579482811072], Point}|4  |{26.2, 29, Yes, NULL, Temple Way Nox site, 26.2, 4, 499_1, 499_2, 499_3, 499, triplicate, 2023, Current sites}                                                                                                                                                       |Feature|\n",
      "|{[-2.53521694618688, 51.4780614635428], Point}|5  |{20.8, 33, Yes, NULL, Fishponds Road, 20.8, 5, 464_1, 464_2, 464_3, 464, triplicate, 2023, Current sites}                                                                                                                                                            |Feature|\n",
      "|{[-2.58455664546918, 51.4628280854536], Point}|6  |{14.3, 33, Yes, NULL, St. Pauls Day Nursery, 14.3, 6, 455_1, 455_2, 455_3, 455, triplicate, 2023, Current sites}                                                                                                                                                     |Feature|\n",
      "|{[-2.60496029611306, 51.4326743026983], Point}|7  |{24.0, 30, Yes, NULL, Parson Street School, 24.0, 7, 439_1, 439_2, 439_3, 439, triplicate, 2023, Current sites}                                                                                                                                                      |Feature|\n",
      "|{[-2.56374217458463, 51.427862177819], Point} |8  |{25.0, 36, Yes, NULL, A37 Junction w/ Airport Road, 25.0, 8, 438_1, 438_2, 438_3, 438, triplicate, 2023, Current sites}                                                                                                                                              |Feature|\n",
      "|{[-2.55992869594783, 51.4417546641233], Point}|9  |{17.7, 35, Yes, NULL, Monitor     Bath Road Brislington, 17.7, 9, 320_1, 320_2, 320_3, 320, triplicate, 2023, Current sites}                                                                                                                                         |Feature|\n",
      "|{[-2.62985572709508, 51.4584567926413], Point}|10 |{25.8, 8, Yes, 2023 25.8, Portway - Bridge Valley Road, 25.8, 10, 700, 700, single, 2023, Current sites}                                                                                                                                                             |Feature|\n",
      "|{[-2.64762138866887, 51.4790412116805], Point}|11 |{18.8, 8, Yes, 2023 18.8, Portway - Roman Way, 18.8, 11, 699, 699, single, 2023, Current sites}                                                                                                                                                                      |Feature|\n",
      "|{[-2.65476806976066, 51.4864105958576], Point}|12 |{19.9, 4, Yes, 2023 19.9, Portway - Sylvan Way, 19.9, 12, 698, 698, single, 2023, Current sites}                                                                                                                                                                     |Feature|\n",
      "|{[-2.55415213071726, 51.460260178811], Point} |13 |{17.0, 8, Yes, 2022: 20.1, 2023: 17, Lyppiatt Road Opposite No 25, 17.0, 13, 684, 684, single, 2023, Current sites}                                                                                                                                                  |Feature|\n",
      "|{[-2.55625307457116, 51.4602053173582], Point}|14 |{17.2, 10, Yes, 2022: 18.6, 2023: 17.2, Victoria Parade Opposite No 39, 17.2, 14, 683, 683, single, 2023, Current sites}                                                                                                                                             |Feature|\n",
      "|{[-2.55756016463206, 51.4587874254526], Point}|15 |{22.9, 10, Yes, 2022: 26.7, 2023: 22.9, Church Road Miss Millies, 22.9, 15, 682, 682, single, 2023, Current sites}                                                                                                                                                   |Feature|\n",
      "|{[-2.56295213683495, 51.4594900644874], Point}|16 |{22.4, 11, Yes, 2022: 24.8, 2023: 22.4, Russel Town Avenue Opposite Pheonix Social Enterprise Club, 22.4, 16, 681, 681, single, 2023, Current sites}                                                                                                                 |Feature|\n",
      "|{[-2.56308653019135, 51.4563602467264], Point}|17 |{19.9, 10, Yes, 2022: 20.8, 2023: 19.9, Morely Street/Bright Street Ped Crossing, 19.9, 17, 680, 680, single, 2023, Current sites}                                                                                                                                   |Feature|\n",
      "|{[-2.56075195968491, 51.4549417366187], Point}|18 |{20.3, 11, Yes, 2022: 21, 2023: 20.3, Avonvale Road Opposite Bristol Futures Academy, 20.3, 18, 679, 679, single, 2023, Current sites}                                                                                                                               |Feature|\n",
      "|{[-2.55869228443516, 51.4571905069756], Point}|19 |{15.6, 11, Yes, 2022: 17.7, 2023: 15.6, Victoria Avenue Opposite No 90, 15.6, 19, 678, 678, single, 2023, Current sites}                                                                                                                                             |Feature|\n",
      "|{[-2.54681089339953, 51.4578487676782], Point}|20 |{17.6, 12, Yes, 2022: 21.4, 2023: 17.6, Beaufort Road Opposite No 109, 17.6, 20, 677, 677, single, 2023, Current sites}                                                                                                                                              |Feature|\n",
      "+----------------------------------------------+---+---------------------------------------------------------------------------------------------------------------------------------------------------------------------------------------------------------------------------------------------------------------------+-------+\n",
      "only showing top 20 rows\n",
      "\n"
     ]
    }
   ],
   "source": [
    "df_no2.show(truncate=False)"
   ]
  },
  {
   "cell_type": "code",
   "execution_count": 72,
   "metadata": {},
   "outputs": [
    {
     "ename": "AnalysisException",
     "evalue": "[UNRESOLVED_COLUMN.WITH_SUGGESTION] A column or function parameter with name `Year` cannot be resolved. Did you mean one of the following? [`id`, `type`, `geometry`, `properties`].;\n'Project [id#1321L, geometry#1320, geometry#1320.coordinates AS coordinates#1345, 'Year, properties#1322.Location AS Location#1346, properties#1322.Historical_annual_data AS Historical_annual_data#1347, properties#1322.Count_ AS Count#1348L, properties#1322.Concentration_ugm_3 AS Concentration_ugm_3#1349, properties#1322.Year AS Year#1350, properties#1322.SiteID AS SiteID#1351L]\n+- LogicalRDD [geometry#1320, id#1321L, properties#1322, type#1323], false\n",
     "output_type": "error",
     "traceback": [
      "\u001b[31m---------------------------------------------------------------------------\u001b[39m",
      "\u001b[31mAnalysisException\u001b[39m                         Traceback (most recent call last)",
      "\u001b[36mCell\u001b[39m\u001b[36m \u001b[39m\u001b[32mIn[72]\u001b[39m\u001b[32m, line 1\u001b[39m\n\u001b[32m----> \u001b[39m\u001b[32m1\u001b[39m df_no2 = \u001b[43mdf_no2\u001b[49m\u001b[43m.\u001b[49m\u001b[43mselect\u001b[49m\u001b[43m(\u001b[49m\u001b[33;43m'\u001b[39;49m\u001b[33;43mid\u001b[39;49m\u001b[33;43m'\u001b[39;49m\u001b[43m,\u001b[49m\n\u001b[32m      2\u001b[39m \u001b[43m                       \u001b[49m\u001b[33;43m'\u001b[39;49m\u001b[33;43mgeometry\u001b[39;49m\u001b[33;43m'\u001b[39;49m\u001b[43m,\u001b[49m\n\u001b[32m      3\u001b[39m \u001b[43m                           \u001b[49m\u001b[43mdf_no2\u001b[49m\u001b[43m.\u001b[49m\u001b[43mgeometry\u001b[49m\u001b[43m.\u001b[49m\u001b[43mcoordinates\u001b[49m\u001b[43m.\u001b[49m\u001b[43malias\u001b[49m\u001b[43m(\u001b[49m\u001b[33;43m\"\u001b[39;49m\u001b[33;43mcoordinates\u001b[39;49m\u001b[33;43m\"\u001b[39;49m\u001b[43m)\u001b[49m\u001b[43m,\u001b[49m\n\u001b[32m      4\u001b[39m \u001b[43m                           \u001b[49m\u001b[33;43m\"\u001b[39;49m\u001b[33;43mYear\u001b[39;49m\u001b[33;43m\"\u001b[39;49m\u001b[43m,\u001b[49m\n\u001b[32m      5\u001b[39m \n\u001b[32m      6\u001b[39m \u001b[43m                    \u001b[49m\u001b[38;5;66;43;03m#  col('properties.Site_Type').alias('Site_Type'),\u001b[39;49;00m\n\u001b[32m      7\u001b[39m \u001b[43m                    \u001b[49m\u001b[43mcol\u001b[49m\u001b[43m(\u001b[49m\u001b[33;43m'\u001b[39;49m\u001b[33;43mproperties.Location\u001b[39;49m\u001b[33;43m'\u001b[39;49m\u001b[43m)\u001b[49m\u001b[43m.\u001b[49m\u001b[43malias\u001b[49m\u001b[43m(\u001b[49m\u001b[33;43m'\u001b[39;49m\u001b[33;43mLocation\u001b[39;49m\u001b[33;43m'\u001b[39;49m\u001b[43m)\u001b[49m\u001b[43m,\u001b[49m\n\u001b[32m      8\u001b[39m \u001b[43m                    \u001b[49m\u001b[43mcol\u001b[49m\u001b[43m(\u001b[49m\u001b[33;43m'\u001b[39;49m\u001b[33;43mproperties.Historical_annual_data\u001b[39;49m\u001b[33;43m'\u001b[39;49m\u001b[43m)\u001b[49m\u001b[43m.\u001b[49m\u001b[43malias\u001b[49m\u001b[43m(\u001b[49m\u001b[33;43m'\u001b[39;49m\u001b[33;43mHistorical_annual_data\u001b[39;49m\u001b[33;43m'\u001b[39;49m\u001b[43m)\u001b[49m\u001b[43m,\u001b[49m\n\u001b[32m      9\u001b[39m \u001b[43m                    \u001b[49m\u001b[43mcol\u001b[49m\u001b[43m(\u001b[49m\u001b[33;43m'\u001b[39;49m\u001b[33;43mproperties.Count_\u001b[39;49m\u001b[33;43m'\u001b[39;49m\u001b[43m)\u001b[49m\u001b[43m.\u001b[49m\u001b[43malias\u001b[49m\u001b[43m(\u001b[49m\u001b[33;43m'\u001b[39;49m\u001b[33;43mCount\u001b[39;49m\u001b[33;43m'\u001b[39;49m\u001b[43m)\u001b[49m\u001b[43m,\u001b[49m\n\u001b[32m     10\u001b[39m \u001b[43m                    \u001b[49m\u001b[43mcol\u001b[49m\u001b[43m(\u001b[49m\u001b[33;43m'\u001b[39;49m\u001b[33;43mproperties.Concentration_ugm_3\u001b[39;49m\u001b[33;43m'\u001b[39;49m\u001b[43m)\u001b[49m\u001b[43m.\u001b[49m\u001b[43malias\u001b[49m\u001b[43m(\u001b[49m\u001b[33;43m'\u001b[39;49m\u001b[33;43mConcentration_ugm_3\u001b[39;49m\u001b[33;43m'\u001b[39;49m\u001b[43m)\u001b[49m\u001b[43m,\u001b[49m\n\u001b[32m     11\u001b[39m \u001b[43m                    \u001b[49m\u001b[43mcol\u001b[49m\u001b[43m(\u001b[49m\u001b[33;43m'\u001b[39;49m\u001b[33;43mproperties.Year\u001b[39;49m\u001b[33;43m'\u001b[39;49m\u001b[43m)\u001b[49m\u001b[43m.\u001b[49m\u001b[43malias\u001b[49m\u001b[43m(\u001b[49m\u001b[33;43m'\u001b[39;49m\u001b[33;43mYear\u001b[39;49m\u001b[33;43m'\u001b[39;49m\u001b[43m)\u001b[49m\u001b[43m,\u001b[49m\n\u001b[32m     12\u001b[39m \u001b[43m                    \u001b[49m\u001b[43mcol\u001b[49m\u001b[43m(\u001b[49m\u001b[33;43m'\u001b[39;49m\u001b[33;43mproperties.SiteID\u001b[39;49m\u001b[33;43m'\u001b[39;49m\u001b[43m)\u001b[49m\u001b[43m.\u001b[49m\u001b[43malias\u001b[49m\u001b[43m(\u001b[49m\u001b[33;43m'\u001b[39;49m\u001b[33;43mSiteID\u001b[39;49m\u001b[33;43m'\u001b[39;49m\u001b[43m)\u001b[49m\n\u001b[32m     13\u001b[39m \u001b[43m                       \u001b[49m\u001b[43m)\u001b[49m\n",
      "\u001b[36mFile \u001b[39m\u001b[32m~/Documents/green-data-analytics/.venv/lib/python3.11/site-packages/pyspark/sql/dataframe.py:3229\u001b[39m, in \u001b[36mDataFrame.select\u001b[39m\u001b[34m(self, *cols)\u001b[39m\n\u001b[32m   3184\u001b[39m \u001b[38;5;28;01mdef\u001b[39;00m\u001b[38;5;250m \u001b[39m\u001b[34mselect\u001b[39m(\u001b[38;5;28mself\u001b[39m, *cols: \u001b[33m\"\u001b[39m\u001b[33mColumnOrName\u001b[39m\u001b[33m\"\u001b[39m) -> \u001b[33m\"\u001b[39m\u001b[33mDataFrame\u001b[39m\u001b[33m\"\u001b[39m:  \u001b[38;5;66;03m# type: ignore[misc]\u001b[39;00m\n\u001b[32m   3185\u001b[39m \u001b[38;5;250m    \u001b[39m\u001b[33;03m\"\"\"Projects a set of expressions and returns a new :class:`DataFrame`.\u001b[39;00m\n\u001b[32m   3186\u001b[39m \n\u001b[32m   3187\u001b[39m \u001b[33;03m    .. versionadded:: 1.3.0\u001b[39;00m\n\u001b[32m   (...)\u001b[39m\u001b[32m   3227\u001b[39m \u001b[33;03m    +-----+---+\u001b[39;00m\n\u001b[32m   3228\u001b[39m \u001b[33;03m    \"\"\"\u001b[39;00m\n\u001b[32m-> \u001b[39m\u001b[32m3229\u001b[39m     jdf = \u001b[38;5;28;43mself\u001b[39;49m\u001b[43m.\u001b[49m\u001b[43m_jdf\u001b[49m\u001b[43m.\u001b[49m\u001b[43mselect\u001b[49m\u001b[43m(\u001b[49m\u001b[38;5;28;43mself\u001b[39;49m\u001b[43m.\u001b[49m\u001b[43m_jcols\u001b[49m\u001b[43m(\u001b[49m\u001b[43m*\u001b[49m\u001b[43mcols\u001b[49m\u001b[43m)\u001b[49m\u001b[43m)\u001b[49m\n\u001b[32m   3230\u001b[39m     \u001b[38;5;28;01mreturn\u001b[39;00m DataFrame(jdf, \u001b[38;5;28mself\u001b[39m.sparkSession)\n",
      "\u001b[36mFile \u001b[39m\u001b[32m~/Documents/green-data-analytics/.venv/lib/python3.11/site-packages/py4j/java_gateway.py:1322\u001b[39m, in \u001b[36mJavaMember.__call__\u001b[39m\u001b[34m(self, *args)\u001b[39m\n\u001b[32m   1316\u001b[39m command = proto.CALL_COMMAND_NAME +\\\n\u001b[32m   1317\u001b[39m     \u001b[38;5;28mself\u001b[39m.command_header +\\\n\u001b[32m   1318\u001b[39m     args_command +\\\n\u001b[32m   1319\u001b[39m     proto.END_COMMAND_PART\n\u001b[32m   1321\u001b[39m answer = \u001b[38;5;28mself\u001b[39m.gateway_client.send_command(command)\n\u001b[32m-> \u001b[39m\u001b[32m1322\u001b[39m return_value = \u001b[43mget_return_value\u001b[49m\u001b[43m(\u001b[49m\n\u001b[32m   1323\u001b[39m \u001b[43m    \u001b[49m\u001b[43manswer\u001b[49m\u001b[43m,\u001b[49m\u001b[43m \u001b[49m\u001b[38;5;28;43mself\u001b[39;49m\u001b[43m.\u001b[49m\u001b[43mgateway_client\u001b[49m\u001b[43m,\u001b[49m\u001b[43m \u001b[49m\u001b[38;5;28;43mself\u001b[39;49m\u001b[43m.\u001b[49m\u001b[43mtarget_id\u001b[49m\u001b[43m,\u001b[49m\u001b[43m \u001b[49m\u001b[38;5;28;43mself\u001b[39;49m\u001b[43m.\u001b[49m\u001b[43mname\u001b[49m\u001b[43m)\u001b[49m\n\u001b[32m   1325\u001b[39m \u001b[38;5;28;01mfor\u001b[39;00m temp_arg \u001b[38;5;129;01min\u001b[39;00m temp_args:\n\u001b[32m   1326\u001b[39m     \u001b[38;5;28;01mif\u001b[39;00m \u001b[38;5;28mhasattr\u001b[39m(temp_arg, \u001b[33m\"\u001b[39m\u001b[33m_detach\u001b[39m\u001b[33m\"\u001b[39m):\n",
      "\u001b[36mFile \u001b[39m\u001b[32m~/Documents/green-data-analytics/.venv/lib/python3.11/site-packages/pyspark/errors/exceptions/captured.py:185\u001b[39m, in \u001b[36mcapture_sql_exception.<locals>.deco\u001b[39m\u001b[34m(*a, **kw)\u001b[39m\n\u001b[32m    181\u001b[39m converted = convert_exception(e.java_exception)\n\u001b[32m    182\u001b[39m \u001b[38;5;28;01mif\u001b[39;00m \u001b[38;5;129;01mnot\u001b[39;00m \u001b[38;5;28misinstance\u001b[39m(converted, UnknownException):\n\u001b[32m    183\u001b[39m     \u001b[38;5;66;03m# Hide where the exception came from that shows a non-Pythonic\u001b[39;00m\n\u001b[32m    184\u001b[39m     \u001b[38;5;66;03m# JVM exception message.\u001b[39;00m\n\u001b[32m--> \u001b[39m\u001b[32m185\u001b[39m     \u001b[38;5;28;01mraise\u001b[39;00m converted \u001b[38;5;28;01mfrom\u001b[39;00m\u001b[38;5;250m \u001b[39m\u001b[38;5;28;01mNone\u001b[39;00m\n\u001b[32m    186\u001b[39m \u001b[38;5;28;01melse\u001b[39;00m:\n\u001b[32m    187\u001b[39m     \u001b[38;5;28;01mraise\u001b[39;00m\n",
      "\u001b[31mAnalysisException\u001b[39m: [UNRESOLVED_COLUMN.WITH_SUGGESTION] A column or function parameter with name `Year` cannot be resolved. Did you mean one of the following? [`id`, `type`, `geometry`, `properties`].;\n'Project [id#1321L, geometry#1320, geometry#1320.coordinates AS coordinates#1345, 'Year, properties#1322.Location AS Location#1346, properties#1322.Historical_annual_data AS Historical_annual_data#1347, properties#1322.Count_ AS Count#1348L, properties#1322.Concentration_ugm_3 AS Concentration_ugm_3#1349, properties#1322.Year AS Year#1350, properties#1322.SiteID AS SiteID#1351L]\n+- LogicalRDD [geometry#1320, id#1321L, properties#1322, type#1323], false\n"
     ]
    }
   ],
   "source": [
    "df_no2 = df_no2.select('id',\n",
    "                       'geometry',\n",
    "                           df_no2.geometry.coordinates.alias(\"coordinates\"),\n",
    "                           \"Year\",\n",
    "                     \n",
    "                    #  col('properties.Site_Type').alias('Site_Type'),\n",
    "                    col('properties.Location').alias('Location'),\n",
    "                    col('properties.Historical_annual_data').alias('Historical_annual_data'),\n",
    "                    col('properties.Count_').alias('Count'),\n",
    "                    col('properties.Concentration_ugm_3').alias('Concentration_ugm_3'),\n",
    "                    col('properties.Year').alias('Year'),\n",
    "                    col('properties.SiteID').alias('SiteID')\n",
    "                       )\n",
    "\n",
    "\n"
   ]
  },
  {
   "cell_type": "code",
   "execution_count": null,
   "metadata": {},
   "outputs": [
    {
     "name": "stdout",
     "output_type": "stream",
     "text": [
      "+---+----------------------------------------------+-------------------------------------+----------------------------------------------------------+--------------------------------------------------------------------------------------------------------------------------------------------------------------------+-----+-------------------+----+------+\n",
      "|id |geometry                                      |coordinates                          |Location                                                  |Historical_annual_data                                                                                                                                              |Count|Concentration_ugm_3|Year|SiteID|\n",
      "+---+----------------------------------------------+-------------------------------------+----------------------------------------------------------+--------------------------------------------------------------------------------------------------------------------------------------------------------------------+-----+-------------------+----+------+\n",
      "|1  |{[-2.58079714839442, 51.4614980188789], Point}|[-2.58079714839442, 51.4614980188789]|123 Newfoundland Street façade                            |2010: 53, 2011: 47.9, 2012: 44.9, 2013: 45.2, 2014: 41.6, 2015: 38.3, 2016: 39.5, 2017: 38.5, 2018: 35.7, 2019: 31.2, 2020: 23.9, 2021: 27.9, 2022: 27.4, 2023: 22.3|12   |22.3               |2023|373   |\n",
      "|2  |{[-2.59633174155215, 51.4584075637687], Point}|[-2.59633174155215, 51.4584075637687]|Lamppost outside BRI CAZ                                  |NULL                                                                                                                                                                |21   |25.6               |2023|560   |\n",
      "|3  |{[-2.59665060934206, 51.4552677387829], Point}|[-2.59665060934206, 51.4552677387829]|Co-located Colston Ave                                    |NULL                                                                                                                                                                |33   |48.9               |2023|502   |\n",
      "|4  |{[-2.58399065922947, 51.4579482811072], Point}|[-2.58399065922947, 51.4579482811072]|Temple Way Nox site                                       |NULL                                                                                                                                                                |29   |26.2               |2023|499   |\n",
      "|5  |{[-2.53521694618688, 51.4780614635428], Point}|[-2.53521694618688, 51.4780614635428]|Fishponds Road                                            |NULL                                                                                                                                                                |33   |20.8               |2023|464   |\n",
      "|6  |{[-2.58455664546918, 51.4628280854536], Point}|[-2.58455664546918, 51.4628280854536]|St. Pauls Day Nursery                                     |NULL                                                                                                                                                                |33   |14.3               |2023|455   |\n",
      "|7  |{[-2.60496029611306, 51.4326743026983], Point}|[-2.60496029611306, 51.4326743026983]|Parson Street School                                      |NULL                                                                                                                                                                |30   |24.0               |2023|439   |\n",
      "|8  |{[-2.56374217458463, 51.427862177819], Point} |[-2.56374217458463, 51.427862177819] |A37 Junction w/ Airport Road                              |NULL                                                                                                                                                                |36   |25.0               |2023|438   |\n",
      "|9  |{[-2.55992869594783, 51.4417546641233], Point}|[-2.55992869594783, 51.4417546641233]|Monitor     Bath Road Brislington                         |NULL                                                                                                                                                                |35   |17.7               |2023|320   |\n",
      "|10 |{[-2.62985572709508, 51.4584567926413], Point}|[-2.62985572709508, 51.4584567926413]|Portway - Bridge Valley Road                              |2023 25.8                                                                                                                                                           |8    |25.8               |2023|700   |\n",
      "|11 |{[-2.64762138866887, 51.4790412116805], Point}|[-2.64762138866887, 51.4790412116805]|Portway - Roman Way                                       |2023 18.8                                                                                                                                                           |8    |18.8               |2023|699   |\n",
      "|12 |{[-2.65476806976066, 51.4864105958576], Point}|[-2.65476806976066, 51.4864105958576]|Portway - Sylvan Way                                      |2023 19.9                                                                                                                                                           |4    |19.9               |2023|698   |\n",
      "|13 |{[-2.55415213071726, 51.460260178811], Point} |[-2.55415213071726, 51.460260178811] |Lyppiatt Road Opposite No 25                              |2022: 20.1, 2023: 17                                                                                                                                                |8    |17.0               |2023|684   |\n",
      "|14 |{[-2.55625307457116, 51.4602053173582], Point}|[-2.55625307457116, 51.4602053173582]|Victoria Parade Opposite No 39                            |2022: 18.6, 2023: 17.2                                                                                                                                              |10   |17.2               |2023|683   |\n",
      "|15 |{[-2.55756016463206, 51.4587874254526], Point}|[-2.55756016463206, 51.4587874254526]|Church Road Miss Millies                                  |2022: 26.7, 2023: 22.9                                                                                                                                              |10   |22.9               |2023|682   |\n",
      "|16 |{[-2.56295213683495, 51.4594900644874], Point}|[-2.56295213683495, 51.4594900644874]|Russel Town Avenue Opposite Pheonix Social Enterprise Club|2022: 24.8, 2023: 22.4                                                                                                                                              |11   |22.4               |2023|681   |\n",
      "|17 |{[-2.56308653019135, 51.4563602467264], Point}|[-2.56308653019135, 51.4563602467264]|Morely Street/Bright Street Ped Crossing                  |2022: 20.8, 2023: 19.9                                                                                                                                              |10   |19.9               |2023|680   |\n",
      "|18 |{[-2.56075195968491, 51.4549417366187], Point}|[-2.56075195968491, 51.4549417366187]|Avonvale Road Opposite Bristol Futures Academy            |2022: 21, 2023: 20.3                                                                                                                                                |11   |20.3               |2023|679   |\n",
      "|19 |{[-2.55869228443516, 51.4571905069756], Point}|[-2.55869228443516, 51.4571905069756]|Victoria Avenue Opposite No 90                            |2022: 17.7, 2023: 15.6                                                                                                                                              |11   |15.6               |2023|678   |\n",
      "|20 |{[-2.54681089339953, 51.4578487676782], Point}|[-2.54681089339953, 51.4578487676782]|Beaufort Road Opposite No 109                             |2022: 21.4, 2023: 17.6                                                                                                                                              |12   |17.6               |2023|677   |\n",
      "+---+----------------------------------------------+-------------------------------------+----------------------------------------------------------+--------------------------------------------------------------------------------------------------------------------------------------------------------------------+-----+-------------------+----+------+\n",
      "only showing top 20 rows\n",
      "\n"
     ]
    }
   ],
   "source": [
    "df_no2.show(truncate=False)"
   ]
  },
  {
   "cell_type": "code",
   "execution_count": null,
   "metadata": {},
   "outputs": [
    {
     "data": {
      "text/plain": [
       "<Axes: xlabel='SiteID', ylabel='Concentration_ugm_3'>"
      ]
     },
     "execution_count": 59,
     "metadata": {},
     "output_type": "execute_result"
    },
    {
     "data": {
      "image/png": "[encoded data removed]",
      "text/plain": [
       "<Figure size 640x480 with 1 Axes>"
      ]
     },
     "metadata": {},
     "output_type": "display_data"
    }
   ],
   "source": [
    "sns.barplot(data=df_no2.toPandas(), x=\"SiteID\", y=\"Concentration_ugm_3\")"
   ]
  },
  {
   "cell_type": "code",
   "execution_count": null,
   "metadata": {},
   "outputs": [
    {
     "name": "stdout",
     "output_type": "stream",
     "text": [
      "+---+--------+-----------+--------+----------------------+-----+-------------------+----+------+\n",
      "| id|geometry|coordinates|Location|Historical_annual_data|Count|Concentration_ugm_3|Year|SiteID|\n",
      "+---+--------+-----------+--------+----------------------+-----+-------------------+----+------+\n",
      "|  0|       0|          0|       0|                    21|   11|                 11|   0|     0|\n",
      "+---+--------+-----------+--------+----------------------+-----+-------------------+----+------+\n",
      "\n"
     ]
    }
   ],
   "source": [
    "null_count = df_no2.select([F.sum(col(c).isNull().cast(\"int\")).alias(c) for c in df_no2.columns])\n",
    "null_count.show()\n"
   ]
  },
  {
   "cell_type": "code",
   "execution_count": null,
   "metadata": {},
   "outputs": [],
   "source": [
    "df_no2 = df_no2.dropna(subset=[\"Concentration_ugm_3\"])"
   ]
  },
  {
   "cell_type": "code",
   "execution_count": null,
   "metadata": {},
   "outputs": [
    {
     "name": "stdout",
     "output_type": "stream",
     "text": [
      "+---+--------+-----------+--------+----------------------+-----+-------------------+----+------+\n",
      "| id|geometry|coordinates|Location|Historical_annual_data|Count|Concentration_ugm_3|Year|SiteID|\n",
      "+---+--------+-----------+--------+----------------------+-----+-------------------+----+------+\n",
      "|  0|       0|          0|       0|                    10|    0|                  0|   0|     0|\n",
      "+---+--------+-----------+--------+----------------------+-----+-------------------+----+------+\n",
      "\n"
     ]
    }
   ],
   "source": [
    "null_count = df_no2.select([F.sum(col(c).isNull().cast(\"int\")).alias(c) for c in df_no2.columns])\n",
    "null_count.show()\n"
   ]
  },
  {
   "cell_type": "code",
   "execution_count": null,
   "metadata": {},
   "outputs": [],
   "source": [
    "df_no2 = df_no2.withColumn(\"Longitude\", col(\"coordinates\")[0])\n",
    "df_no2 = df_no2.withColumn(\"Latitude\", col(\"coordinates\")[1])"
   ]
  },
  {
   "cell_type": "code",
   "execution_count": null,
   "metadata": {},
   "outputs": [
    {
     "ename": "AnalysisException",
     "evalue": "[UNRESOLVED_COLUMN.WITH_SUGGESTION] A column or function parameter with name `Year` cannot be resolved. Did you mean one of the following? [`id`, `SiteID`, `location`, `Location Type`, `coordinates`, `Pollutants`, `Elevation`, `Longitude`, `Latitude`, `Latitude (Normalised)`].",
     "output_type": "error",
     "traceback": [
      "\u001b[31m---------------------------------------------------------------------------\u001b[39m",
      "\u001b[31mAnalysisException\u001b[39m                         Traceback (most recent call last)",
      "\u001b[36mCell\u001b[39m\u001b[36m \u001b[39m\u001b[32mIn[64]\u001b[39m\u001b[32m, line 1\u001b[39m\n\u001b[32m----> \u001b[39m\u001b[32m1\u001b[39m df_no2.filter(\u001b[43mdf\u001b[49m\u001b[43m[\u001b[49m\u001b[33;43m\"\u001b[39;49m\u001b[33;43mYear\u001b[39;49m\u001b[33;43m\"\u001b[39;49m\u001b[43m]\u001b[49m == \u001b[32m2023\u001b[39m).toPandas()\n",
      "\u001b[36mFile \u001b[39m\u001b[32m~/Documents/green-data-analytics/.venv/lib/python3.11/site-packages/pyspark/sql/dataframe.py:3080\u001b[39m, in \u001b[36mDataFrame.__getitem__\u001b[39m\u001b[34m(self, item)\u001b[39m\n\u001b[32m   3008\u001b[39m \u001b[38;5;250m\u001b[39m\u001b[33;03m\"\"\"Returns the column as a :class:`Column`.\u001b[39;00m\n\u001b[32m   3009\u001b[39m \n\u001b[32m   3010\u001b[39m \u001b[33;03m.. versionadded:: 1.3.0\u001b[39;00m\n\u001b[32m   (...)\u001b[39m\u001b[32m   3077\u001b[39m \u001b[33;03m+---+----+\u001b[39;00m\n\u001b[32m   3078\u001b[39m \u001b[33;03m\"\"\"\u001b[39;00m\n\u001b[32m   3079\u001b[39m \u001b[38;5;28;01mif\u001b[39;00m \u001b[38;5;28misinstance\u001b[39m(item, \u001b[38;5;28mstr\u001b[39m):\n\u001b[32m-> \u001b[39m\u001b[32m3080\u001b[39m     jc = \u001b[38;5;28;43mself\u001b[39;49m\u001b[43m.\u001b[49m\u001b[43m_jdf\u001b[49m\u001b[43m.\u001b[49m\u001b[43mapply\u001b[49m\u001b[43m(\u001b[49m\u001b[43mitem\u001b[49m\u001b[43m)\u001b[49m\n\u001b[32m   3081\u001b[39m     \u001b[38;5;28;01mreturn\u001b[39;00m Column(jc)\n\u001b[32m   3082\u001b[39m \u001b[38;5;28;01melif\u001b[39;00m \u001b[38;5;28misinstance\u001b[39m(item, Column):\n",
      "\u001b[36mFile \u001b[39m\u001b[32m~/Documents/green-data-analytics/.venv/lib/python3.11/site-packages/py4j/java_gateway.py:1322\u001b[39m, in \u001b[36mJavaMember.__call__\u001b[39m\u001b[34m(self, *args)\u001b[39m\n\u001b[32m   1316\u001b[39m command = proto.CALL_COMMAND_NAME +\\\n\u001b[32m   1317\u001b[39m     \u001b[38;5;28mself\u001b[39m.command_header +\\\n\u001b[32m   1318\u001b[39m     args_command +\\\n\u001b[32m   1319\u001b[39m     proto.END_COMMAND_PART\n\u001b[32m   1321\u001b[39m answer = \u001b[38;5;28mself\u001b[39m.gateway_client.send_command(command)\n\u001b[32m-> \u001b[39m\u001b[32m1322\u001b[39m return_value = \u001b[43mget_return_value\u001b[49m\u001b[43m(\u001b[49m\n\u001b[32m   1323\u001b[39m \u001b[43m    \u001b[49m\u001b[43manswer\u001b[49m\u001b[43m,\u001b[49m\u001b[43m \u001b[49m\u001b[38;5;28;43mself\u001b[39;49m\u001b[43m.\u001b[49m\u001b[43mgateway_client\u001b[49m\u001b[43m,\u001b[49m\u001b[43m \u001b[49m\u001b[38;5;28;43mself\u001b[39;49m\u001b[43m.\u001b[49m\u001b[43mtarget_id\u001b[49m\u001b[43m,\u001b[49m\u001b[43m \u001b[49m\u001b[38;5;28;43mself\u001b[39;49m\u001b[43m.\u001b[49m\u001b[43mname\u001b[49m\u001b[43m)\u001b[49m\n\u001b[32m   1325\u001b[39m \u001b[38;5;28;01mfor\u001b[39;00m temp_arg \u001b[38;5;129;01min\u001b[39;00m temp_args:\n\u001b[32m   1326\u001b[39m     \u001b[38;5;28;01mif\u001b[39;00m \u001b[38;5;28mhasattr\u001b[39m(temp_arg, \u001b[33m\"\u001b[39m\u001b[33m_detach\u001b[39m\u001b[33m\"\u001b[39m):\n",
      "\u001b[36mFile \u001b[39m\u001b[32m~/Documents/green-data-analytics/.venv/lib/python3.11/site-packages/pyspark/errors/exceptions/captured.py:185\u001b[39m, in \u001b[36mcapture_sql_exception.<locals>.deco\u001b[39m\u001b[34m(*a, **kw)\u001b[39m\n\u001b[32m    181\u001b[39m converted = convert_exception(e.java_exception)\n\u001b[32m    182\u001b[39m \u001b[38;5;28;01mif\u001b[39;00m \u001b[38;5;129;01mnot\u001b[39;00m \u001b[38;5;28misinstance\u001b[39m(converted, UnknownException):\n\u001b[32m    183\u001b[39m     \u001b[38;5;66;03m# Hide where the exception came from that shows a non-Pythonic\u001b[39;00m\n\u001b[32m    184\u001b[39m     \u001b[38;5;66;03m# JVM exception message.\u001b[39;00m\n\u001b[32m--> \u001b[39m\u001b[32m185\u001b[39m     \u001b[38;5;28;01mraise\u001b[39;00m converted \u001b[38;5;28;01mfrom\u001b[39;00m\u001b[38;5;250m \u001b[39m\u001b[38;5;28;01mNone\u001b[39;00m\n\u001b[32m    186\u001b[39m \u001b[38;5;28;01melse\u001b[39;00m:\n\u001b[32m    187\u001b[39m     \u001b[38;5;28;01mraise\u001b[39;00m\n",
      "\u001b[31mAnalysisException\u001b[39m: [UNRESOLVED_COLUMN.WITH_SUGGESTION] A column or function parameter with name `Year` cannot be resolved. Did you mean one of the following? [`id`, `SiteID`, `location`, `Location Type`, `coordinates`, `Pollutants`, `Elevation`, `Longitude`, `Latitude`, `Latitude (Normalised)`]."
     ]
    }
   ],
   "source": [
    "df_no2.filter(df[\"Year\"] == 2023).toPandas()"
   ]
  },
  {
   "cell_type": "code",
   "execution_count": null,
   "metadata": {},
   "outputs": [
    {
     "data": {
      "application/vnd.plotly.v1+json": {
       "config": {
        "plotlyServerURL": "https://plot.ly"
       },
       "data": [
        {
         "hovertemplate": "<b>%{hovertext}</b><br><br>Concentration_ugm_3=%{marker.color}<br>Latitude=%{lat}<br>Longitude=%{lon}<extra></extra>",
         "hovertext": [
          "123 Newfoundland Street façade",
          "Lamppost outside BRI CAZ",
          "Co-located Colston Ave",
          "Temple Way Nox site",
          "Fishponds Road",
          "St. Pauls Day Nursery",
          "Parson Street School",
          "A37 Junction w/ Airport Road",
          "Monitor     Bath Road Brislington",
          "Portway - Bridge Valley Road",
          "Portway - Roman Way",
          "Portway - Sylvan Way",
          "Lyppiatt Road Opposite No 25",
          "Victoria Parade Opposite No 39",
          "Church Road Miss Millies",
          "Russel Town Avenue Opposite Pheonix Social Enterprise Club",
          "Morely Street/Bright Street Ped Crossing",
          "Avonvale Road Opposite Bristol Futures Academy",
          "Victoria Avenue Opposite No 90",
          "Beaufort Road Opposite No 109",
          "Blackswarth Road Opposite St Patrick's School",
          "Netham Lock Junction",
          "Troopers Hill Opposite No 30",
          "North View Downs Park West",
          "Bristol Hill-CAZ-Lamppost Bristol Hill",
          "Temple Way Bridge-CAZ-Lamppost Temple Way Bridge",
          "College Green-CAZ-Post by Toni&Guy",
          "Upper Maudlin St-CAZ-Lamppost by BRI",
          "Upper Maudlin St-CAZ-Lamppost opp BRI",
          "                                                                                                    ",
          "Muller Road - Adjacent to Darnley Avenue",
          "No 67 Filton Avenue on wall facing Muller Rd",
          "On 1 way sign at bottom of Wellington Hill",
          "Junction 3 Millpond Street",
          "B&G Snax West St",
          "Jamiesons Autos",
          "Victoria Park Primary",
          "Shiners Garage",
          "facade villiers road stapleton road junction",
          "facade BRI children's",
          "North St/Dean Lane on roundabout sign",
          "Parson St lamppost outside Bristol Scuba",
          "Bedminster Down Rd lamppost between Ashton Motors & Plough PH",
          "St John's Lane No 26 lamppost 15 (just past roundabout)",
          "Wells Rd bus lane sign just below junction with Knowle Rd",
          "lamppost sussex place",
          "Whitehall Rd lamppost 17 nr juction with Chalks Rd",
          "Whitehall Rd/Easton Rd lamppost 4TZ",
          "Lamp post 48 230 Bath Road",
          "St. Paul Street",
          "Lamb Street façade",
          "Great George Street lamppost",
          "5102 façade",
          "Facade   258 Fishponds Road Fishponds",
          "Lamppost     Ashley Hill St. Pauls",
          "Lamppost     Glenfrome Road \\ Muller Road Horfield",
          "Facade   784 Muller Road Fishponds",
          "Facade Haart Estate Agents 755 Fishponds Road Fishponds",
          "Lamppost   16 Ashley Road St. Pauls",
          "Stapleton Road Heath Street",
          "Stapleton Road South",
          "Merchants Road Hotwells",
          "Parson Street Bedminster Down Road",
          "Parson St. A38 East",
          "top of Brislington Hill",
          "Strathmore Road",
          "Bishop Road",
          "Cromwell Road",
          "Stokes Croft  Ashley Road",
          "Jacobs Wells road opp Clifton hill",
          "Jacobs Wells Road South",
          "Hotwells Road",
          "Anchor Road",
          "York Road",
          "Victoria Street",
          "Stokes Croft",
          "Gloucester Road",
          "Third Way",
          "Horsefair",
          "Red Lion Knowle",
          "Galleries",
          "Whitefriars",
          "Bath Road",
          "B.R.I.",
          "Bedminster Parade",
          "Three Lamps",
          "Blackboy Hill",
          "Colston Avenue",
          "Whiteladies Rd-CAZ-Lamppost after petrol station",
          "Linden Rd-CAZ-Lamppost by house",
          "Linden Rd-CAZ-Lamppost by house",
          "Muller Rd-CAZ-Lamppost",
          "Muller Rd-CAZ-Lamppost",
          "Fishponds Rd-CAZ-Lamppost",
          "Fishponds Rd-CAZ-Lamppost",
          "Stapleton Rd-CAZ-Lamppost",
          "Muller Rd-CAZ-Lamppost opp LA DT",
          "Mina Rd-CAZ-Lamppost by house",
          "Stapleton Rd-CAZ-Lamppost by house",
          "Whitehall Rd-CAZ-Lamppost by house",
          "Church Rd-CAZ-Post by Barwaaqo Cafe",
          "Wells Rd-CAZ-Lamppost",
          "Bath Rd-CAZ-Lamppost",
          "Wells Rd-CAZ-Lamppost by Red Lion Carpets",
          "Merchants Rd-CAZ-Lamppost by house",
          "Cheltenham Rd-CAZ-Post by Papa Johns",
          "Gloucester Rd-CAZ-Lamppost opp Baths",
          "Ashley Down Rd-CAZ-Lamppost",
          "Sussex Place-CAZ-Lamppost",
          "Ashley Road-CAZ-Lamppost opp Drumd Rd",
          "Stokes Croft-CAZ-Lamppost",
          "Lamb Street-CAZ-One way sign by Church",
          "Victoria St-CAZ-Lamppost opp Mitchell Lane",
          "A4044 Roundabout-CAZ-Lamppost",
          "Bath Rd-CAZ-Lamppost by Kings Road",
          "Bath Rd-CAZ-Lamppost by Bus Lane",
          "York Rd-CAZ-Sign after bridge",
          "Bedminster Parade-CAZ-Lamppost by William Hill",
          "West St-CAZ-Lamppost opp Jamiesons",
          "West St-CAZ-Lamppost by Argus Rd",
          "Bedminster Down Rd-CAZ-Roadsign by Winterstoke",
          "Bedminster Down Rd-CAZ-Lamppost by billboard",
          "Lower Ashley Rd-CAZ-Lamppost opp London Rd",
          "Lower Ashley Rd-CAZ-Lamppost by Geo Jones",
          "Parson St-CAZ-Lamppost by Station",
          "Bedminster Rd-CAZ-Post",
          "Bedminster Rd-CAZ-Lamppost by Van Sales",
          "Bedminster Rd-CAZ-Post opp Van Sales",
          "Bedminster Rd-CAZ-Lamppost by school",
          "Bedminster Rd-CAZ-Lamppost opp school",
          "Gloucester Rd-CAZ-Lamppost by bus stop",
          "Cheltenham Rd-CAZ-Lamppost by Bite",
          "Cheltenham Rd-CAZ-Sign opp Tesco",
          "Houlton St-CAZ-30mph sign",
          "Newfoundland Way-CAZ-Road sign",
          "Newfoundland Way-CAZ-Lamppost by petrol station",
          "Temple Way-CAZ-Sign by Champ Square",
          "Newfoundland St-CAZ-Lamppost by crossing",
          "Newfoundland St-CAZ-Lamppost by layby",
          "Winterstoke Road-CAZ-Lamppost",
          "Wells Road-CAZ-Lamppost",
          "Bath Road-CAZ-Lamppost or sign",
          "Temple Gate-CAZ-Lamppost",
          "Victoria Street-CAZ-No entry sign",
          "Rupert St-CAZ-Post by Courtrooms",
          "Lewins Mead-CAZ-Post by PMT",
          "Lewins Mead-CAZ-Post by Evans Cycles",
          "Anchor Road-CAZ-Lamppost",
          "College Green-CAZ-Lamppost opp Denmark St",
          "Park St-CAZ-Lamppost by City Hall",
          "Park St-CAZ-Lamppost by bike stands",
          "Queens Road-CAZ-Lamppost by UoB",
          "Park Row-CAZ-Post by house",
          "Park Row-CAZ-Lamppost by museum",
          "Lower Park Row-CAZ-Post after OTR",
          "Lower Park Row-CAZ-Post by Art shop",
          "Upper Maudlin St-CAZ-Post by BRI",
          "Upper Maudlin St-CAZ-Crossing by BRI",
          "Marlborough St-CAZ-Post",
          "Marlborough St-CAZ-Post by bollards",
          "Marlborough St-CAZ-On sign leg",
          "Baldwin St-CAZ-Drainpipe on building",
          "Baldwin St-CAZ-Lamppost by Yelland House",
          "Park St-CAZ-Lamppost by Agora",
          "Park St-CAZ-Lamppost by Guild",
          "Rupert St-CAZ-Post outside Fusion Tower",
          "Rupert St-CAZ-Post outside police station",
          "Rupert St-CAZ-Post outside fire station",
          "Marlborough St-CAZ-Lamppost by coach station",
          "Marlborough St-CAZ-Lamppost opposite hosp",
          "Church Road-CAZ-Lamppost",
          "Church Road-CAZ-Outside Gurdwara",
          "High St lamp post outside Wards solicitors",
          "Baldwin Street lamp post by cycle way, opp St Stephens St",
          "Baldwin Street traffic light outside domino's",
          "Whiteladies road, on loading sign next to Redland library",
          "Muller road junction with Downend road traffic light to the south of the junction.",
          "Muller road junction with Downend road lampost north of the junction.",
          "Lampost on North corner of Draycott road junction with Muller road.",
          "Traffic light on the corner of Shaldon road",
          "Muller road/ Glenfrome road junction north",
          "A4018 Lamp post by layby before roundabout for Crow Ln/ Knole Ln",
          "Except local buses sign Blackmoors Lane",
          "South Eastern stair access Plimsoll Bridge",
          "420 Hotwell Road A4",
          "Cathedral School",
          "Ashton park school",
          "Dalby avenue church lane",
          "Dalby avenue",
          "Summer hill a420",
          "Montpelier High School",
          "20 Ashley Road",
          "385 Church Road Redfield",
          "Counterslip-CAZ-Drainpipe on building",
          "Marlborough Street - co - located",
          "Lamppost opposite BRI CAZ",
          "Three Lamps",
          "Whitefriars",
          "Red Lion Knowle",
          "York Road",
          "Lamppost   16 Ashley Road St. Pauls",
          "Lamb Street façade",
          "Junction 3 Millpond Street",
          "On 1 way sign at bottom of Wellington Hill",
          "No 67 Filton Avenue on wall facing Muller Rd",
          "20 Ashley Road",
          "Dalby avenue",
          "Muller road junction with Downend road lampost north of the junction.",
          "Rupert St-CAZ-Post outside fire station",
          "Rupert St-CAZ-Post outside Fusion Tower",
          "Lower Park Row-CAZ-Post after OTR",
          "College Green-CAZ-Lamppost opp Denmark St",
          "Lewins Mead-CAZ-Post by Evans Cycles",
          "Newfoundland St-CAZ-Lamppost by layby",
          "Gloucester Rd-CAZ-Lamppost by bus stop",
          "Bedminster Rd-CAZ-Post opp Van Sales",
          "West St-CAZ-Lamppost by Argus Rd",
          "York Rd-CAZ-Sign after bridge",
          "Victoria St-CAZ-Lamppost opp Mitchell Lane",
          "Linden Rd-CAZ-Lamppost by house",
          "Upper Maudlin St-CAZ-Lamppost by BRI",
          "Troopers Hill Opposite No 30",
          "Netham Lock Junction",
          "Victoria Avenue Opposite No 90",
          "Church Road Miss Millies",
          "Muller Rd-CAZ-Lamppost",
          "Church Rd-CAZ-Post by Barwaaqo Cafe",
          "Bedminster Down Rd-CAZ-Lamppost by billboard",
          "Bedminster Rd-CAZ-Post",
          "Park St-CAZ-Lamppost by bike stands",
          "Park Row-CAZ-Post by house",
          "Upper Maudlin St-CAZ-Crossing by BRI",
          "Marlborough St-CAZ-Post",
          "Baldwin St-CAZ-Lamppost by Yelland House",
          "Dalby avenue church lane",
          "Fishponds Road",
          "Bedminster Down Rd lamppost between Ashton Motors & Plough PH",
          "Wells Rd bus lane sign just below junction with Knowle Rd",
          "St. Paul Street",
          "Facade   258 Fishponds Road Fishponds",
          "Stapleton Road Heath Street",
          "Cromwell Road",
          "Jacobs Wells road opp Clifton hill",
          "Blackboy Hill",
          "Houlton St-CAZ-30mph sign",
          "Winterstoke Road-CAZ-Lamppost",
          "Wells Road-CAZ-Lamppost",
          "Marlborough St-CAZ-Post by bollards",
          "A4018 Lamp post by layby before roundabout for Crow Ln/ Knole Ln",
          "South Eastern stair access Plimsoll Bridge",
          "Shiners Garage",
          "lamppost sussex place",
          "5102 façade",
          "Monitor     Bath Road Brislington",
          "Facade Haart Estate Agents 755 Fishponds Road Fishponds",
          "top of Brislington Hill",
          "Jacobs Wells Road South",
          "Horsefair",
          "Bedminster Parade",
          "Victoria Parade Opposite No 39",
          "Marlborough Street - co - located",
          "College Green-CAZ-Post by Toni&Guy",
          "Fishponds Rd-CAZ-Lamppost",
          "Muller Rd-CAZ-Lamppost opp LA DT",
          "Mina Rd-CAZ-Lamppost by house",
          "Whitehall Rd-CAZ-Lamppost by house",
          "Ashley Road-CAZ-Lamppost opp Drumd Rd",
          "Bath Rd-CAZ-Lamppost by Bus Lane",
          "Bedminster Down Rd-CAZ-Roadsign by Winterstoke",
          "Cheltenham Rd-CAZ-Lamppost by Bite",
          "Beaufort Road Opposite No 109",
          "Upper Maudlin St-CAZ-Lamppost opp BRI",
          "Linden Rd-CAZ-Lamppost by house",
          "Fishponds Rd-CAZ-Lamppost",
          "Lower Ashley Rd-CAZ-Lamppost opp London Rd",
          "Bedminster Rd-CAZ-Lamppost by school",
          "Cheltenham Rd-CAZ-Sign opp Tesco",
          "Park Row-CAZ-Lamppost by museum",
          "Lower Park Row-CAZ-Post by Art shop",
          "Rupert St-CAZ-Post outside police station",
          "Marlborough St-CAZ-Lamppost by coach station",
          "Lampost on North corner of Draycott road junction with Muller road.",
          "Lamppost opposite BRI CAZ",
          "420 Hotwell Road A4",
          "Bath Road",
          "Galleries",
          "Anchor Road",
          "Bishop Road",
          "Parson Street Bedminster Down Road",
          "St John's Lane No 26 lamppost 15 (just past roundabout)",
          "Jamiesons Autos",
          "385 Church Road Redfield",
          "Colston girls",
          "Muller road/ Glenfrome road junction north",
          "Park St-CAZ-Lamppost by City Hall",
          "Anchor Road-CAZ-Lamppost",
          "Newfoundland St-CAZ-Lamppost by crossing",
          "Temple Way-CAZ-Sign by Champ Square",
          "Newfoundland Way-CAZ-Lamppost by petrol station",
          "Newfoundland Way-CAZ-Road sign",
          "Lower Ashley Rd-CAZ-Lamppost by Geo Jones",
          "Bath Rd-CAZ-Lamppost by Kings Road",
          "Lamb Street-CAZ-One way sign by Church",
          "Ashley Down Rd-CAZ-Lamppost",
          "Gloucester Rd-CAZ-Lamppost opp Baths",
          "Cheltenham Rd-CAZ-Post by Papa Johns",
          "Wells Rd-CAZ-Lamppost by Red Lion Carpets",
          "Stapleton Rd-CAZ-Lamppost",
          "Westbury Rd-CAZ-Lamppost by hospital",
          "North View Downs Park West",
          "Blackswarth Road Opposite St Patrick's School",
          "Russel Town Avenue Opposite Pheonix Social Enterprise Club",
          "Summer hill a420",
          "Parson Street School",
          "facade BRI children's",
          "Whitehall Rd lamppost 17 nr juction with Chalks Rd",
          "123 Newfoundland Street façade",
          "Facade   784 Muller Road Fishponds",
          "Stokes Croft",
          "Gloucester Road",
          "Third Way",
          "Victoria Street",
          "Hotwells Road",
          "Parson St. A38 East",
          "Merchants Road Hotwells",
          "Lamppost     Ashley Hill St. Pauls",
          "facade villiers road stapleton road junction",
          "B&G Snax West St",
          "Temple Way Nox site",
          "Co-located Colston Ave",
          "Marlborough St-CAZ-On sign leg",
          "Queens Road-CAZ-Lamppost by UoB",
          "Counterslip-CAZ-Drainpipe on building",
          "Temple Gate-CAZ-Lamppost",
          "A4044 Roundabout-CAZ-Lamppost",
          "Stokes Croft-CAZ-Lamppost",
          "Sussex Place-CAZ-Lamppost",
          "Merchants Rd-CAZ-Lamppost by house",
          "Colston Avenue",
          "Bath Rd-CAZ-Lamppost",
          "Wells Rd-CAZ-Lamppost",
          "Stapleton Rd-CAZ-Lamppost by house",
          "Temple Way Bridge-CAZ-Lamppost Temple Way Bridge",
          "Bristol Hill-CAZ-Lamppost Bristol Hill",
          "B.R.I.",
          "Stokes Croft  Ashley Road",
          "Strathmore Road",
          "Great George Street lamppost",
          "Parson St lamppost outside Bristol Scuba",
          "St. Pauls Day Nursery",
          "Victoria Park Primary",
          "Muller Road - Adjacent to Darnley Avenue",
          "Ashton park school",
          "Muller road junction with Downend road traffic light to the south of the junction.",
          "Whiteladies road, on loading sign next to Redland library",
          "Church Road-CAZ-Lamppost",
          "Park St-CAZ-Lamppost by Agora",
          "Upper Maudlin St-CAZ-Post by BRI",
          "Rupert St-CAZ-Post by Courtrooms",
          "Bath Road-CAZ-Lamppost or sign",
          "Bedminster Rd-CAZ-Lamppost opp school",
          "Muller Rd-CAZ-Lamppost",
          "Whiteladies Rd-CAZ-Lamppost after petrol station",
          "Avonvale Road Opposite Bristol Futures Academy",
          "Except local buses sign Blackmoors Lane",
          "Stapleton Road South",
          "Lamppost     Glenfrome Road \\ Muller Road Horfield",
          "Lamp post 48 230 Bath Road",
          "Whitehall Rd/Easton Rd lamppost 4TZ",
          "North St/Dean Lane on roundabout sign",
          "A37 Junction w/ Airport Road",
          "Cathedral School",
          "Park St-CAZ-Lamppost by Guild",
          "Lewins Mead-CAZ-Post by PMT",
          "Victoria Street-CAZ-No entry sign",
          "Bedminster Rd-CAZ-Lamppost by Van Sales",
          "Parson St-CAZ-Lamppost by Station",
          "West St-CAZ-Lamppost opp Jamiesons",
          "Bedminster Parade-CAZ-Lamppost by William Hill",
          "Morely Street/Bright Street Ped Crossing",
          "Lamppost outside BRI CAZ",
          "Traffic light on the corner of Shaldon road",
          "Baldwin Street traffic light outside domino's",
          "Lyppiatt Road Opposite No 25",
          "Baldwin Street lamp post by cycle way, opp St Stephens St",
          "High St lamp post outside Wards solicitors",
          "Church Road-CAZ-Outside Gurdwara",
          "Marlborough St-CAZ-Lamppost opposite hosp",
          "Baldwin St-CAZ-Drainpipe on building",
          "Colston Avenue",
          "Blackboy Hill",
          "Lamppost     Ashley Hill St. Pauls",
          "5102 façade",
          "lamppost sussex place",
          "A37 Junction w/ Airport Road",
          "Temple Way Nox site",
          "A4018 Lamp post by layby before roundabout for Crow Ln/ Knole Ln",
          "Baldwin St-CAZ-Drainpipe on building",
          "Marlborough St-CAZ-Post",
          "Queens Road-CAZ-Lamppost by UoB",
          "Winterstoke Road-CAZ-Lamppost",
          "Bedminster Rd-CAZ-Post",
          "Stokes Croft-CAZ-Lamppost",
          "Sussex Place-CAZ-Lamppost",
          "Stapleton Rd-CAZ-Lamppost by house",
          "Muller Rd-CAZ-Lamppost opp LA DT",
          "Temple Way Bridge-CAZ-Lamppost Temple Way Bridge",
          "Rupert St-CAZ-Post by Courtrooms",
          "Wells Road-CAZ-Lamppost",
          "Temple Way-CAZ-Sign by Champ Square",
          "Houlton St-CAZ-30mph sign",
          "Cheltenham Rd-CAZ-Sign opp Tesco",
          "Bedminster Rd-CAZ-Lamppost by Van Sales",
          "Cheltenham Rd-CAZ-Post by Papa Johns",
          "Whitehall Rd-CAZ-Lamppost by house",
          "Mina Rd-CAZ-Lamppost by house",
          "College Green-CAZ-Post by Toni&Guy",
          "West St-CAZ-Lamppost by Argus Rd",
          "Bath Rd-CAZ-Lamppost by Kings Road",
          "Stapleton Rd-CAZ-Lamppost",
          "Whiteladies Rd-CAZ-Lamppost after petrol station",
          "Upper Maudlin St-CAZ-Lamppost opp BRI",
          "A4044 Roundabout-CAZ-Lamppost",
          "Anchor Road",
          "Stapleton Road Heath Street",
          "Monitor     Bath Road Brislington",
          "Great George Street lamppost",
          "St. Paul Street",
          "Whitehall Rd/Easton Rd lamppost 4TZ",
          "Bedminster Down Rd lamppost between Ashton Motors & Plough PH",
          "North St/Dean Lane on roundabout sign",
          "Jamiesons Autos",
          "Dalby avenue",
          "Baldwin Street lamp post by cycle way, opp St Stephens St",
          "Rupert St-CAZ-Post outside police station",
          "Baldwin St-CAZ-Lamppost by Yelland House",
          "Upper Maudlin St-CAZ-Post by BRI",
          "Park Row-CAZ-Post by house",
          "Cheltenham Rd-CAZ-Lamppost by Bite",
          "Bedminster Rd-CAZ-Lamppost by school",
          "York Rd-CAZ-Sign after bridge",
          "Bath Rd-CAZ-Lamppost by Bus Lane",
          "Westbury Rd-CAZ-Lamppost by hospital",
          "Marlborough Street - co - located",
          "Facade   784 Muller Road Fishponds",
          "Galleries",
          "Victoria Street",
          "Jacobs Wells Road South",
          "Lamppost outside BRI CAZ",
          "Facade   258 Fishponds Road Fishponds",
          "Lamp post 48 230 Bath Road",
          "Whitehall Rd lamppost 17 nr juction with Chalks Rd",
          "Parson Street School",
          "B&G Snax West St",
          "On 1 way sign at bottom of Wellington Hill",
          "Co-located Colston Ave",
          "Lower Park Row-CAZ-Post after OTR",
          "Park St-CAZ-Lamppost by City Hall",
          "Victoria Street-CAZ-No entry sign",
          "Counterslip-CAZ-Drainpipe on building",
          "Bath Road-CAZ-Lamppost or sign",
          "Newfoundland Way-CAZ-Lamppost by petrol station",
          "Gloucester Rd-CAZ-Lamppost by bus stop",
          "Bedminster Down Rd-CAZ-Roadsign by Winterstoke",
          "Ashley Road-CAZ-Lamppost opp Drumd Rd",
          "Ashley Down Rd-CAZ-Lamppost",
          "Merchants Rd-CAZ-Lamppost by house",
          "Fishponds Rd-CAZ-Lamppost",
          "Muller Rd-CAZ-Lamppost",
          "Upper Maudlin St-CAZ-Lamppost by BRI",
          "North View Downs Park West",
          "Bedminster Parade",
          "Whitefriars",
          "Red Lion Knowle",
          "Horsefair",
          "York Road",
          "Wells Rd bus lane sign just below junction with Knowle Rd",
          "St John's Lane No 26 lamppost 15 (just past roundabout)",
          "Parson St lamppost outside Bristol Scuba",
          "Fishponds Road",
          "Summer hill a420",
          "Lampost on North corner of Draycott road junction with Muller road.",
          "Muller road junction with Downend road lampost north of the junction.",
          "Rupert St-CAZ-Post outside Fusion Tower",
          "Lewins Mead-CAZ-Post by PMT",
          "Newfoundland St-CAZ-Lamppost by layby",
          "Newfoundland Way-CAZ-Road sign",
          "Bedminster Rd-CAZ-Post opp Van Sales",
          "Parson St-CAZ-Lamppost by Station",
          "Gloucester Rd-CAZ-Lamppost opp Baths",
          "Bath Road",
          "Gloucester Road",
          "Stokes Croft",
          "top of Brislington Hill",
          "Merchants Road Hotwells",
          "Stapleton Road South",
          "Lamb Street façade",
          "123 Newfoundland Street façade",
          "Shiners Garage",
          "No 67 Filton Avenue on wall facing Muller Rd",
          "Lamppost opposite BRI CAZ",
          "High St lamp post outside Wards solicitors",
          "Church Road-CAZ-Outside Gurdwara",
          "Park St-CAZ-Lamppost by Guild",
          "Lower Park Row-CAZ-Post by Art shop",
          "Temple Gate-CAZ-Lamppost",
          "Bedminster Rd-CAZ-Lamppost opp school",
          "Lower Ashley Rd-CAZ-Lamppost opp London Rd",
          "Bedminster Down Rd-CAZ-Lamppost by billboard",
          "Fishponds Rd-CAZ-Lamppost",
          "Muller Rd-CAZ-Lamppost",
          "Linden Rd-CAZ-Lamppost by house",
          "Wells Rd-CAZ-Lamppost",
          "Church Rd-CAZ-Post by Barwaaqo Cafe",
          "Linden Rd-CAZ-Lamppost by house",
          "Bristol Hill-CAZ-Lamppost Bristol Hill",
          "Hotwells Road",
          "Strathmore Road",
          "Parson St. A38 East",
          "Parson Street Bedminster Down Road",
          "Lamppost   16 Ashley Road St. Pauls",
          "facade BRI children's",
          "St. Pauls Day Nursery",
          "Victoria Park Primary",
          "Junction 3 Millpond Street",
          "Colston girls",
          "Dalby avenue church lane",
          "Ashton park school",
          "South Eastern stair access Plimsoll Bridge",
          "Except local buses sign Blackmoors Lane",
          "Muller road/ Glenfrome road junction north",
          "Traffic light on the corner of Shaldon road",
          "Whiteladies road, on loading sign next to Redland library",
          "Baldwin Street traffic light outside domino's",
          "Marlborough St-CAZ-Lamppost by coach station",
          "Park St-CAZ-Lamppost by Agora",
          "Upper Maudlin St-CAZ-Crossing by BRI",
          "Park Row-CAZ-Lamppost by museum",
          "College Green-CAZ-Lamppost opp Denmark St",
          "Anchor Road-CAZ-Lamppost",
          "Lewins Mead-CAZ-Post by Evans Cycles",
          "Newfoundland St-CAZ-Lamppost by crossing",
          "Lower Ashley Rd-CAZ-Lamppost by Geo Jones",
          "West St-CAZ-Lamppost opp Jamiesons",
          "Bedminster Parade-CAZ-Lamppost by William Hill",
          "Victoria St-CAZ-Lamppost opp Mitchell Lane",
          "Lamb Street-CAZ-One way sign by Church",
          "Wells Rd-CAZ-Lamppost by Red Lion Carpets",
          "Bath Rd-CAZ-Lamppost",
          "Three Lamps",
          "Jacobs Wells road opp Clifton hill",
          "Stokes Croft  Ashley Road",
          "Facade Haart Estate Agents 755 Fishponds Road Fishponds",
          "Lamppost     Glenfrome Road \\ Muller Road Horfield",
          "Muller Road - Adjacent to Darnley Avenue",
          "385 Church Road Redfield",
          "20 Ashley Road",
          "420 Hotwell Road A4",
          "Muller road junction with Downend road traffic light to the south of the junction.",
          "Church Road-CAZ-Lamppost",
          "Rupert St-CAZ-Post outside fire station",
          "Marlborough St-CAZ-On sign leg",
          "B.R.I.",
          "Third Way",
          "Cromwell Road",
          "Bishop Road",
          "facade villiers road stapleton road junction",
          "Cathedral School",
          "Marlborough St-CAZ-Lamppost opposite hosp",
          "Marlborough St-CAZ-Post by bollards",
          "Park St-CAZ-Lamppost by bike stands",
          "Stokes Croft  Ashley Road",
          "Strathmore Road",
          "Stapleton Road South",
          "Muller Road - Adjacent to Darnley Avenue",
          "20 Ashley Road",
          "Ashton park school",
          "Cathedral School",
          "Whitefriars",
          "Bedminster Parade",
          "Colston Avenue",
          "Baldwin Street lamp post by cycle way, opp St Stephens St",
          "Whiteladies road, on loading sign next to Redland library",
          "Muller road junction with Downend road lampost north of the junction.",
          "Lamp post at junction with Highridge rd. near Cox brothers garage. South Bristol link.",
          "Coronation Road Walter Street No Entry",
          "Summer hill a420",
          "385 Church Road Redfield",
          "A37 Junction w/ Airport Road",
          "North St/Langton Park T junction",
          "High St lamp post outside Wards solicitors",
          "A4018 Lamp post by layby before roundabout for Crow Ln/ Knole Ln",
          "St. Werburghs park nursery",
          "Co-located Colston Ave",
          "On 1 way sign at bottom of Wellington Hill",
          "Junction 3 Millpond Street",
          "Martial Arts West Street",
          "Fishponds Road",
          "Bedminster Down Rd lamppost between Ashton Motors & Plough PH",
          "Facade   784 Muller Road Fishponds",
          "Dalby avenue church lane",
          "Stapleton Road Heath Street",
          "B.R.I.",
          "Parson St. A38 East",
          "Bishop Road",
          "Jacobs Wells Road South",
          "Hotwells Road",
          "Whitehall Rd/Easton Rd lamppost 4TZ",
          "St. Paul Street",
          "123 Newfoundland Street façade",
          "Facade Haart Estate Agents 755 Fishponds Road Fishponds",
          "top of Brislington Hill",
          "Lamppost     Ashley Hill St. Pauls",
          "Cromwell Road",
          "Gloucester Road",
          "Lampost on North corner of Draycott road junction with Muller road.",
          "Traffic light on the corner of Shaldon road",
          "Westbury on Trym High Street Lamp post by Athena restaurant",
          "Lamp post near Queens Head pub South Bristol link",
          "Lamppost outside BRI CAZ",
          "Talbot Road 20mph lamppost",
          "No 67 Filton Avenue on wall facing Muller Rd",
          "Jamiesons Autos",
          "Victoria Park Primary",
          "Parson Street School",
          "Whitehall Rd lamppost 17 nr juction with Chalks Rd",
          "Monitor     Bath Road Brislington",
          "Lamppost     Glenfrome Road \\ Muller Road Horfield",
          "Jacobs Wells road opp Clifton hill",
          "Third Way",
          "Lamppost   16 Ashley Road St. Pauls",
          "St John's Lane No 26 lamppost 15 (just past roundabout)",
          "Blackboy Hill",
          "Bath Road",
          "Red Lion Knowle",
          "Victoria Street",
          "York Road",
          "Lamb Street façade",
          "Lamp post 48 230 Bath Road",
          "Galleries",
          "Horsefair",
          "Stokes Croft",
          "Merchants Road Hotwells",
          "Facade   258 Fishponds Road Fishponds",
          "Wells Rd bus lane sign just below junction with Knowle Rd",
          "Parson St lamppost outside Bristol Scuba",
          "facade villiers road stapleton road junction",
          "South Eastern stair access Plimsoll Bridge",
          "Muller road junction with Downend road traffic light to the south of the junction.",
          "B&G Snax West St",
          "T shirt Shop W. Town Lane",
          "Avonmouth Road Outside No 76",
          "lamppost sussex place",
          "Lamppost opposite BRI CAZ",
          "Muller road/ Glenfrome road junction north",
          "North St/Dean Lane on roundabout sign",
          "Shiners Garage",
          "St. Pauls Day Nursery",
          "Lamppost corner park avenue",
          "Avon School Barrack's Lane",
          "Temple Way Nox site",
          "Dalby avenue",
          "420 Hotwell Road A4",
          "Three Lamps",
          "Baldwin Street traffic light outside domino's",
          "Except local buses sign Blackmoors Lane",
          "Colston girls",
          "Avonmouth Road Outside No 12",
          "Savanna coffee drainpipe",
          "facade BRI children's",
          "5102 façade",
          "Parson Street Bedminster Down Road",
          "Anchor Road",
          "York Road",
          "Merchants Road Hotwells",
          "Stapleton Road Heath Street",
          "Lamppost     Ashley Hill St. Pauls",
          "Great George Street lamppost",
          "Lamb Street façade",
          "Lamp post 48 230 Bath Road",
          "North St/Dean Lane on roundabout sign",
          "facade BRI children's",
          "Martial Arts West Street",
          "Avonmouth Road Outside No 12",
          "Dalby avenue",
          "Dalby avenue church lane",
          "Lamppost     Whiteladies Road \\ Cotham Hill Clifton",
          "top of Brislington Hill",
          "Stokes Croft  Ashley Road",
          "Gloucester Road",
          "Colston Avenue",
          "Bedminster Down Rd lamppost between Ashton Motors & Plough PH",
          "Monitor     Bath Road Brislington",
          "Galleries",
          "Lamppost     Glenfrome Road \\ Muller Road Horfield",
          "Colston girls",
          "Lamppost corner park avenue",
          "Shiners Garage",
          "Strathmore Road",
          "Lamppost outside BRI CAZ",
          "Bishop Road",
          "B&G Snax West St",
          "Junction 3 Millpond Street",
          "Temple Way Nox site",
          "Summer hill a420",
          "Lamp post at junction with Highridge rd. near Cox brothers garage. South Bristol link.",
          "A4018 Lamp post by layby before roundabout for Crow Ln/ Knole Ln",
          "Hotwells Road",
          "Newfoundland Way",
          "123 Newfoundland Street façade",
          "Whitehall Rd/Easton Rd lamppost 4TZ",
          "Wells Rd bus lane sign just below junction with Knowle Rd",
          "A37 Junction w/ Airport Road",
          "No 67 Filton Avenue on wall facing Muller Rd",
          "Lamp post near Queens Head pub South Bristol link",
          "Muller road junction with Downend road traffic light to the south of the junction.",
          "Muller road/ Glenfrome road junction north",
          "Muller Road - Adjacent to Darnley Avenue",
          "20 Ashley Road",
          "Coronation Road Walter Street No Entry",
          "Lamppost opposite BRI CAZ",
          "Muller road junction with Downend road lampost north of the junction.",
          "Whitehall Rd lamppost 17 nr juction with Chalks Rd",
          "Facade Haart Estate Agents 755 Fishponds Road Fishponds",
          "Anchor Road",
          "Whitefriars",
          "Stokes Croft",
          "Victoria Street",
          "Cromwell Road",
          "Parson Street Bedminster Down Road",
          "Lamppost   16 Ashley Road St. Pauls",
          "Facade   784 Muller Road Fishponds",
          "5102 façade",
          "Jacobs Wells road opp Clifton hill",
          "Stapleton Road South",
          "Facade   258 Fishponds Road Fishponds",
          "North St/Langton Park T junction",
          "Parson Street School",
          "Savanna coffee drainpipe",
          "Avonmouth Road Outside No 76",
          "On 1 way sign at bottom of Wellington Hill",
          "Co-located Colston Ave",
          "Ashton park school",
          "Cathedral School",
          "420 Hotwell Road A4",
          "Traffic light on the corner of Shaldon road",
          "Talbot Road 20mph lamppost",
          "South Eastern stair access Plimsoll Bridge",
          "St. Werburghs park nursery",
          "385 Church Road Redfield",
          "Avon School Barrack's Lane",
          "Fishponds Road",
          "St. Pauls Day Nursery",
          "facade villiers road stapleton road junction",
          "Third Way",
          "Bedminster Parade",
          "Lampost on North corner of Draycott road junction with Muller road.",
          "Blackboy Hill",
          "Three Lamps",
          "Westbury on Trym High Street Lamp post by Athena restaurant",
          "B.R.I.",
          "Bath Road",
          "Red Lion Knowle",
          "St. Paul Street",
          "lamppost sussex place",
          "T shirt Shop W. Town Lane",
          "Except local buses sign Blackmoors Lane",
          "Horsefair",
          "Jacobs Wells Road South",
          "Parson St. A38 East",
          "St John's Lane No 26 lamppost 15 (just past roundabout)",
          "Parson St lamppost outside Bristol Scuba",
          "Millpond School Fence",
          "Jamiesons Autos",
          "Victoria Park Primary",
          "Newfoundland Way",
          "York Road",
          "Jacobs Wells road opp Clifton hill",
          "Bishop Road",
          "Parson St. A38 East",
          "5102 façade",
          "Parson St lamppost outside Bristol Scuba",
          "Jamiesons Autos",
          "Blaise school",
          "St. Joseph's RC primary",
          "City academy",
          "Summer hill Plummers hill",
          "Easton c of e academy",
          "St Mary redcliffe secondary",
          "Dalby avenue",
          "Blackboy Hill",
          "Victoria Street",
          "Parson Street Bedminster Down Road",
          "Lamppost   16 Ashley Road St. Pauls",
          "Great George Street lamppost",
          "North St/Dean Lane on roundabout sign",
          "Lamppost corner park avenue",
          "Martial Arts West Street",
          "Jacobs Wells Road South",
          "Red Lion Knowle",
          "Monitor     Bath Road Brislington",
          "St John's Lane No 26 lamppost 15 (just past roundabout)",
          "Bedminster Down Rd lamppost between Ashton Motors & Plough PH",
          "Millpond School Fence",
          "Savanna coffee drainpipe",
          "Avonmouth Road Outside No 76",
          "385 Church Road Redfield",
          "Fairfield high school",
          "Bannerman road",
          "Compass point",
          "Ashton gate primary",
          "Stokes Croft  Ashley Road",
          "Cromwell Road",
          "Bath Road",
          "Galleries",
          "Third Way",
          "Merchants Road Hotwells",
          "Facade Haart Estate Agents 755 Fishponds Road Fishponds",
          "facade villiers road stapleton road junction",
          "B&G Snax West St",
          "Avon School Barrack's Lane",
          "No 67 Filton Avenue on wall facing Muller Rd",
          "Muller Road - Adjacent to Darnley Avenue",
          "Ashley down primary",
          "Colston girls",
          "Redfield educate together",
          "top of Brislington Hill",
          "Stapleton Road Heath Street",
          "Lamppost     Ashley Hill St. Pauls",
          "Facade   258 Fishponds Road Fishponds",
          "Whitehall Rd lamppost 17 nr juction with Chalks Rd",
          "Strathmore Road",
          "123 Newfoundland Street façade",
          "St. Paul Street",
          "Wells Rd bus lane sign just below junction with Knowle Rd",
          "facade BRI children's",
          "T shirt Shop W. Town Lane",
          "Hillcrest primary",
          "St Mary redcliffe primary",
          "Southville primary",
          "St George's primary",
          "St Michaels on the mount",
          "Briarwood school",
          "Southville primary Myrtle street",
          "St. Nicholas of tolentine",
          "Chester park infants",
          "Sefton park",
          "Filton avenue primary",
          "Woodstock school",
          "Henbury school",
          "Horsefair",
          "St patricks",
          "Barton Hill Academy",
          "Hannah more front",
          "West town lane academy",
          "Ashton park school",
          "HotWells primary",
          "Cathedral School",
          "Nelson Street",
          "St. Barnabas",
          "Gloucester Road",
          "B.R.I.",
          "Bedminster Parade",
          "Three Lamps",
          "Lamb Street façade",
          "Whitehall Rd/Easton Rd lamppost 4TZ",
          "lamppost sussex place",
          "Shiners Garage",
          "Parson Street School",
          "Temple Way Nox site",
          "Avonmouth primary",
          "St. Werburghs park nursery",
          "Glenfrome primary",
          "Orchard school",
          "A37 Junction w/ Airport Road",
          "St. Pauls Day Nursery",
          "Junction 3 Millpond Street",
          "Dalby avenue church lane",
          "Colston Avenue",
          "On 1 way sign at bottom of Wellington Hill",
          "Avonmouth Road Outside No 12",
          "Victoria Park Primary",
          "Fishponds Road",
          "Bristol futures academy",
          "Lamp post 48 230 Bath Road",
          "Lamppost     Whiteladies Road \\ Cotham Hill Clifton",
          "Lamppost     Glenfrome Road \\ Muller Road Horfield",
          "Sea mills pharmacy no stopping sign",
          "Cabot primary",
          "Fishponds c of e",
          "May park primary",
          "Summer hill a420",
          "Holy cross primary",
          "Cod Almighty downpipe",
          "Facade   784 Muller Road Fishponds",
          "Stapleton Road South",
          "Hotwells Road",
          "20 Ashley Road",
          "Anchor Road",
          "Stokes Croft",
          "Whitefriars",
          "North St/Langton Park T junction",
          "Avonmouth Rd No 28 on facia",
          "123 Newfoundland Street façade",
          "Facade   258 Fishponds Road Fishponds",
          "Lamppost     Whiteladies Road \\ Cotham Hill Clifton",
          "Facade   784 Muller Road Fishponds",
          "Victoria Street",
          "Eastville Park",
          "Stokes Croft",
          "Gloucester Road",
          "Higham Street",
          "Blackboy Hill",
          "Ferndown Close",
          "Parson St. A38 East",
          "Gatton Road",
          "Monitor     Bath Road Brislington",
          "Lamb Street façade",
          "Whitehall Rd lamppost 17 nr juction with Chalks Rd",
          "North St/Dean Lane on roundabout sign",
          "Strada Exeter Road",
          "Three Lamps",
          "St. Andrew's Rd",
          "Horsefair",
          "Hotwells Road",
          "Stapleton Road South",
          "St. Paul Street",
          "St. Pauls Day Nursery",
          "Fishponds Road",
          "Unite façade",
          "5102 façade",
          "Cromwell Road",
          "Greville Smyth Park",
          "Stokes Croft  Ashley Road",
          "Strathmore Road",
          "top of Brislington Hill",
          "Lamppost     Ashley Hill St. Pauls",
          "Great George Street lamppost",
          "Whitehall Rd/Easton Rd lamppost 4TZ",
          "Parson St lamppost outside Bristol Scuba",
          "City Rd/Ashley Rd lamppost No 16",
          "Savanna coffee drainpipe",
          "Jamiesons Autos",
          "Avonmouth Road - Lampost (19) Opposite Hse No 37",
          "On green fence surrounding Western Power substation (?) adjacent to No.1 Dorian Road",
          "Temple Way Nox site",
          "Martial Arts West Street",
          "cycle sign lamppost",
          "Junction 3 Millpond Street",
          "On 1 way sign at bottom of Wellington Hill",
          "385 Church Road Redfield",
          "Avonmouth Road Outside No 12",
          "Junction 3 Easton Way",
          "Barracks's Lane - Telegraph Pole No 6. End of Lane Left Hand Side",
          "North St/Langton Park T junction",
          "Give Way sign  Chesterfield Rd \\ Ashley Down Road St. Andrews",
          "Lamppost     Glenfrome Road \\ Muller Road Horfield",
          "Stapleton Road Heath Street",
          "Victoria Park",
          "Old Market",
          "Newfoundland Way",
          "Hillcrest",
          "B.R.I.",
          "Colston Avenue",
          "Third Way",
          "Red Lion Knowle",
          "Wells Rd bus lane sign just below junction with Knowle Rd",
          "facade villiers road stapleton road junction",
          "A37 Junction w/ Airport Road",
          "Parson Street School",
          "T shirt Shop W. Town Lane",
          "Avonmouth Road Outside No 76",
          "Avonmouth Road - Telegraph Pole Opposite Hse No 4",
          "Avonmouth Road - Lampost (20) Opposite Number Hse No 45",
          "Millpond School play area",
          "Millpond School Fence",
          "Lamp post 48 230 Bath Road",
          "Lamppost     Sarah Street Redfield",
          "Facade Haart Estate Agents 755 Fishponds Road Fishponds",
          "Parson Street Bedminster Down Road",
          "Jacobs Wells Road South",
          "Anglesea Place",
          "Whitefriars",
          "Bath Road",
          "York Road",
          "Conham Vale",
          "Bedminster Parade",
          "Church Road",
          "Galleries",
          "Anchor Road",
          "Jacobs Wells road opp Clifton hill",
          "Bishop Road",
          "Merchants Road Hotwells",
          "Lamppost   16 Ashley Road St. Pauls",
          "facade avonmouth road underpass - house to SE",
          "Avonmouth Rd No 31 on facia",
          "lamppost sussex place",
          "Bedminster Down Rd lamppost between Ashton Motors & Plough PH",
          "Shiners Garage",
          "B&G Snax West St",
          "Avon School Barrack's Lane",
          "Muller Road - Adjacent to Darnley Avenue",
          "20 Ashley Road",
          "No 67 Filton Avenue on wall facing Muller Rd",
          "Victoria Park Primary",
          "Lamppost corner park avenue",
          "facade BRI children's",
          "St John's Lane No 26 lamppost 15 (just past roundabout)",
          "Martial Arts West Street",
          "B&G Snax West St",
          "Parson Street School",
          "Avon Probation Service",
          "A37 Junction w/ Airport Road",
          "No 67 Filton Avenue on wall facing Muller Rd",
          "Victoria Park",
          "Greville Smyth Park",
          "Eastville Park",
          "St. Andrew's Rd",
          "Savanna coffee drainpipe",
          "T shirt Shop W. Town Lane",
          "Avonmouth Road - Lampost (20) Opposite Number Hse No 45",
          "Avonmouth Road - Lampost (19) Opposite Hse No 37",
          "Avonmouth Road - Telegraph Pole Opposite Hse No 4",
          "On 1 way sign at bottom of Wellington Hill",
          "Hungerford Road",
          "lamppost sussex place",
          "Shiners Garage",
          "Millpond School Fence",
          "Victoria Street",
          "Stokes Croft",
          "Red Lion Knowle",
          "Stapleton Road Heath Street",
          "Colston Avenue",
          "Bedminster Parade",
          "Newfoundland Way",
          "Old Market",
          "Jacobs Wells Road South",
          "Facade   784 Muller Road Fishponds",
          "Lamppost     Whiteladies Road \\ Cotham Hill Clifton",
          "Facade   258 Fishponds Road Fishponds",
          "Unite façade",
          "St. Paul Street",
          "Avonmouth Rd No 28 on facia",
          "Great George Street lamppost",
          "Lamb Street façade",
          "Bedminster Down Rd lamppost between Ashton Motors & Plough PH",
          "Parson St lamppost outside Bristol Scuba",
          "Fishponds Road",
          "5102 façade",
          "York Road",
          "Stokes Croft  Ashley Road",
          "Stapleton Road South",
          "Lamppost     Sarah Street Redfield",
          "Give Way sign  Chesterfield Rd \\ Ashley Down Road St. Andrews",
          "Muller Road - Adjacent to Darnley Avenue",
          "Avonmouth Road Outside No 76",
          "Junction 3 Millpond Street",
          "Strada Exeter Road",
          "St. Pauls Day Nursery",
          "City Rd/Ashley Rd lamppost No 16",
          "North St/Dean Lane on roundabout sign",
          "123 Newfoundland Street façade",
          "Monitor     Rupert Street City Centre",
          "Lamppost     Ashley Hill St. Pauls",
          "Facade Haart Estate Agents 755 Fishponds Road Fishponds",
          "top of Brislington Hill",
          "Bishop Road",
          "Hotwells Road",
          "Jamiesons Autos",
          "Victoria Park Primary",
          "Conham Vale",
          "Ferndown Close",
          "facade avonmouth road underpass - house to SE",
          "Lamp post 48 230 Bath Road",
          "Monitor     Bath Road Brislington",
          "Parson St. A38 East",
          "Hillcrest",
          "Third Way",
          "Horsefair",
          "Anglesea Place",
          "Gloucester Road",
          "Parson Street Bedminster Down Road",
          "Galleries",
          "Three Lamps",
          "Higham Street",
          "Bath Road",
          "Whitehall Rd/Easton Rd lamppost 4TZ",
          "Millpond School play area",
          "20 Ashley Road",
          "385 Church Road Redfield",
          "Anchor Road",
          "Jacobs Wells road opp Clifton hill",
          "Lamppost   16 Ashley Road St. Pauls",
          "On green fence surrounding Western Power substation (?) adjacent to No.1 Dorian Road",
          "Merchants Road Hotwells",
          "Gatton Road",
          "Lamppost corner park avenue",
          "facade BRI children's",
          "facade villiers road stapleton road junction",
          "Avonmouth Rd No 31 on facia",
          "St John's Lane No 26 lamppost 15 (just past roundabout)",
          "cycle sign lamppost",
          "Junction 3 Easton Way",
          "Barracks's Lane - Telegraph Pole No 6. End of Lane Left Hand Side",
          "North St/Langton Park T junction",
          "Wells Rd bus lane sign just below junction with Knowle Rd",
          "Whitehall Rd lamppost 17 nr juction with Chalks Rd",
          "Lamppost     Glenfrome Road \\ Muller Road Horfield",
          "Strathmore Road",
          "Cromwell Road",
          "Whitefriars",
          "B.R.I.",
          "Blackboy Hill",
          "Avon School Barrack's Lane",
          "Avonmouth Road Outside No 12",
          "Church Road",
          "lamppost sussex place",
          "St John's Lane No 26 lamppost 15 (just past roundabout)",
          "facade villiers road stapleton road junction",
          "Shiners Garage",
          "On green fence surrounding Western Power substation (?) adjacent to No.1 Dorian Road",
          "385 Church Road Redfield",
          "St. Paul Street",
          "Lamppost     Ashley Hill St. Pauls",
          "Lamppost   16 Ashley Road St. Pauls",
          "Stapleton Road Heath Street",
          "Stapleton Road South",
          "Hotwells Road",
          "Greville Smyth Park",
          "Old Market",
          "Anglesea Place",
          "B.R.I.",
          "20 Ashley Road",
          "Great George Street lamppost",
          "Monitor     Bath Road Brislington",
          "Facade   784 Muller Road Fishponds",
          "Parson Street Bedminster Down Road",
          "Savanna coffee drainpipe",
          "Strada Exeter Road",
          "cycle sign lamppost",
          "Avonmouth Road - Telegraph Pole Opposite Hse No 4",
          "Bishop Road",
          "Eastville Park",
          "Bedminster Parade",
          "Avon School Barrack's Lane",
          "Parson Street School",
          "A37 Junction w/ Airport Road",
          "Give Way sign  Chesterfield Rd \\ Ashley Down Road St. Andrews",
          "Facade Haart Estate Agents 755 Fishponds Road Fishponds",
          "Jacobs Wells road opp Clifton hill",
          "Victoria Street",
          "Third Way",
          "Horsefair",
          "Whitefriars",
          "Bath Road",
          "Blackboy Hill",
          "Ferndown Close",
          "Gloucester Road",
          "Jacobs Wells Road South",
          "Strathmore Road",
          "top of Brislington Hill",
          "Facade   258 Fishponds Road Fishponds",
          "Wells Rd bus lane sign just below junction with Knowle Rd",
          "Parson St lamppost outside Bristol Scuba",
          "Millpond School play area",
          "Victoria Park Primary",
          "T shirt Shop W. Town Lane",
          "On 1 way sign at bottom of Wellington Hill",
          "Stokes Croft  Ashley Road",
          "St. Pauls Day Nursery",
          "North St/Langton Park T junction",
          "Bedminster Down Rd lamppost between Ashton Motors & Plough PH",
          "Whitehall Rd lamppost 17 nr juction with Chalks Rd",
          "Avonmouth Rd No 31 on facia",
          "Avonmouth Rd No 28 on facia",
          "Lamppost     Sarah Street Redfield",
          "St. Andrew's Rd",
          "Colston Avenue",
          "Hillcrest",
          "Avonmouth Road Outside No 76",
          "Avonmouth Road Outside No 12",
          "Muller Road - Adjacent to Darnley Avenue",
          "Junction 3 Millpond Street",
          "Avonmouth Road - Lampost (19) Opposite Hse No 37",
          "Avonmouth Road - Lampost (20) Opposite Number Hse No 45",
          "B&G Snax West St",
          "Lamppost corner park avenue",
          "Fishponds Road",
          "Avon Probation Service",
          "123 Newfoundland Street façade",
          "Unite façade",
          "Lamppost     Whiteladies Road \\ Cotham Hill Clifton",
          "Millpond School Fence",
          "Church Road",
          "Cromwell Road",
          "Anchor Road",
          "Victoria Park",
          "Higham Street",
          "Three Lamps",
          "Galleries",
          "Lamb Street façade",
          "North St/Dean Lane on roundabout sign",
          "No 67 Filton Avenue on wall facing Muller Rd",
          "Conham Vale",
          "Stokes Croft",
          "York Road",
          "Parson St. A38 East",
          "Gatton Road",
          "facade avonmouth road underpass - house to SE",
          "Lamp post 48 230 Bath Road",
          "Whitehall Rd/Easton Rd lamppost 4TZ",
          "Barracks's Lane - Telegraph Pole No 6. End of Lane Left Hand Side",
          "Martial Arts West Street",
          "Jamiesons Autos",
          "City Rd/Ashley Rd lamppost No 16",
          "facade BRI children's",
          "5102 façade",
          "Monitor     Rupert Street City Centre",
          "Lamppost     Glenfrome Road \\ Muller Road Horfield",
          "Merchants Road Hotwells",
          "Newfoundland Way",
          "Red Lion Knowle",
          "Junction 3 Easton Way",
          "Strada Exeter Road",
          "Avonmouth Road Outside No 12",
          "Avon School Barrack's Lane",
          "Hillcrest",
          "Ferndown Close",
          "Hotwells Road",
          "Stapleton Road South",
          "385 Church Road Redfield",
          "Avonmouth Road - Lampost (19) Opposite Hse No 37",
          "St. Pauls Day Nursery",
          "Avon Probation Service",
          "North St/Langton Park T junction",
          "North St/Dean Lane on roundabout sign",
          "Bedminster Down Rd lamppost between Ashton Motors & Plough PH",
          "5102 façade",
          "Parson Street Bedminster Down Road",
          "top of Brislington Hill",
          "Third Way",
          "Horsefair",
          "Galleries",
          "Victoria Street",
          "Old Market",
          "Whitefriars",
          "B.R.I.",
          "Colston Avenue",
          "Barracks's Lane - Telegraph Pole No 6. End of Lane Left Hand Side",
          "Avonmouth Road - Lampost (20) Opposite Number Hse No 45",
          "B&G Snax West St",
          "Savanna coffee drainpipe",
          "Newfoundland Way",
          "Lamb Street façade",
          "Lamppost     Ashley Hill St. Pauls",
          "Lamppost     Glenfrome Road \\ Muller Road Horfield",
          "Merchants Road Hotwells",
          "Strathmore Road",
          "Conham Vale",
          "Avonmouth Road Outside No 76",
          "Martial Arts West Street",
          "Millpond School play area",
          "Wells Rd bus lane sign just below junction with Knowle Rd",
          "20 Ashley Road",
          "Junction 3 Easton Way",
          "Jamiesons Autos",
          "facade BRI children's",
          "Lamp post 48 230 Bath Road",
          "facade avonmouth road underpass - house to SE",
          "Unite façade",
          "Lamppost   16 Ashley Road St. Pauls",
          "Bishop Road",
          "Jacobs Wells Road South",
          "Anchor Road",
          "York Road",
          "Higham Street",
          "Three Lamps",
          "St. Andrew's Rd",
          "Blackboy Hill",
          "Bath Road",
          "Anglesea Place",
          "Cromwell Road",
          "Give Way sign  Chesterfield Rd \\ Ashley Down Road St. Andrews",
          "Facade   258 Fishponds Road Fishponds",
          "Great George Street lamppost",
          "St. Paul Street",
          "Junction 3 Millpond Street",
          "cycle sign lamppost",
          "T shirt Shop W. Town Lane",
          "City Rd/Ashley Rd lamppost No 16",
          "lamppost sussex place",
          "Whitehall Rd/Easton Rd lamppost 4TZ",
          "Avonmouth Rd No 31 on facia",
          "Avonmouth Rd No 28 on facia",
          "Monitor     Trailer Portway Park and Ride",
          "123 Newfoundland Street façade",
          "Lamppost     Sarah Street Redfield",
          "Lamppost     Whiteladies Road \\ Cotham Hill Clifton",
          "Facade   784 Muller Road Fishponds",
          "Facade   383 Church Road Redfield",
          "Stokes Croft  Ashley Road",
          "Victoria Park",
          "Eastville Park",
          "Stokes Croft",
          "Gloucester Road",
          "Church Road",
          "Victoria Park Primary",
          "Avonmouth Road - Telegraph Pole Opposite Hse No 4",
          "A37 Junction w/ Airport Road",
          "Lamppost corner park avenue",
          "St John's Lane No 26 lamppost 15 (just past roundabout)",
          "Monitor     Bath Road Brislington",
          "Facade Haart Estate Agents 755 Fishponds Road Fishponds",
          "Gatton Road",
          "Greville Smyth Park",
          "Red Lion Knowle",
          "Bedminster Parade",
          "facade villiers road stapleton road junction",
          "Parson St lamppost outside Bristol Scuba",
          "Monitor     Rupert Street City Centre",
          "Stapleton Road Heath Street",
          "Parson St. A38 East",
          "Jacobs Wells road opp Clifton hill",
          "Whitehall Rd lamppost 17 nr juction with Chalks Rd",
          "Ashley Rd P sign outside International Market (nr Dalrymple Rd)",
          "Shiners Garage",
          "Parson Street School",
          "Millpond School Fence",
          "Fishponds Road",
          "St. Pauls Day Nursery",
          "Savanna coffee drainpipe",
          "Jamiesons Autos",
          "B&G Snax West St",
          "Avonmouth Road - School Sign Opposite Hse No 16",
          "Church Road",
          "Whitefriars",
          "Anglesea Place",
          "Jacobs Wells road opp Clifton hill",
          "Strathmore Road",
          "Parson Street Bedminster Down Road",
          "Stapleton Road Heath Street",
          "Avonmouth Rd No 28 on facia",
          "Avonmouth Road - Telegraph Pole Opposite Hse No 4",
          "B.R.I.",
          "Bath Road",
          "Victoria Street",
          "York Road",
          "Monitor     Trailer Portway Park and Ride",
          "Lamb Street façade",
          "Whitehall Rd lamppost 17 nr juction with Chalks Rd",
          "Parson St lamppost outside Bristol Scuba",
          "Red Lion Knowle",
          "Conham Vale",
          "Hotwells Road",
          "Stokes Croft  Ashley Road",
          "Parson St. A38 East",
          "Facade   784 Muller Road Fishponds",
          "Lamppost     Sarah Street Redfield",
          "Lamppost     Whiteladies Road \\ Cotham Hill Clifton",
          "Monitor     Bath Road Brislington",
          "St. Paul Street",
          "Avonmouth Rd No 31 on facia",
          "Victoria Park Primary",
          "Avonmouth Road - Lampost (20) Opposite Number Hse No 45",
          "Ashley Rd P sign outside International Market (nr Dalrymple Rd)",
          "City Rd/Ashley Rd lamppost No 16",
          "Shiners Garage",
          "Fishponds Road",
          "Martial Arts West Street",
          "Higham Street",
          "Galleries",
          "Ferndown Close",
          "Merchants Road Hotwells",
          "Lamppost   16 Ashley Road St. Pauls",
          "Facade   383 Church Road Redfield",
          "Facade Haart Estate Agents 755 Fishponds Road Fishponds",
          "Lamppost     Ashley Hill St. Pauls",
          "Monitor     Rupert Street City Centre",
          "123 Newfoundland Street façade",
          "Wells Rd bus lane sign just below junction with Knowle Rd",
          "A37 Junction w/ Airport Road",
          "Junction 3 Easton Way",
          "Avonmouth Road - Lampost (19) Opposite Hse No 37",
          "T shirt Shop W. Town Lane",
          "Junction 3 Millpond Street",
          "Barracks's Lane - Telegraph Pole No 6. End of Lane Left Hand Side",
          "cycle sign lamppost",
          "Economy Cars",
          "facade BRI children's",
          "lamppost sussex place",
          "facade avonmouth road underpass - house to SE",
          "Unite façade",
          "Hillcrest",
          "St. Andrew's Rd",
          "Bedminster Parade",
          "Colston Avenue",
          "Lamppost corner park avenue",
          "Strada Exeter Road",
          "Millpond School Fence",
          "Lamp post 48 230 Bath Road",
          "Parson Street School",
          "North St/Langton Park T junction",
          "Facade   258 Fishponds Road Fishponds",
          "Lamppost     Glenfrome Road \\ Muller Road Horfield",
          "Jacobs Wells Road South",
          "Stokes Croft",
          "Gloucester Road",
          "Newfoundland Way",
          "Third Way",
          "Blackboy Hill",
          "Old Market",
          "Eastville Park",
          "Victoria Park",
          "Anchor Road",
          "Cromwell Road",
          "top of Brislington Hill",
          "Stapleton Road South",
          "St John's Lane No 26 lamppost 15 (just past roundabout)",
          "Bedminster Down Rd lamppost between Ashton Motors & Plough PH",
          "facade villiers road stapleton road junction",
          "Avon Probation Service",
          "Millpond School play area",
          "Three Lamps",
          "Horsefair",
          "Greville Smyth Park",
          "Bishop Road",
          "Gatton Road",
          "Give Way sign  Chesterfield Rd \\ Ashley Down Road St. Andrews",
          "5102 façade",
          "Great George Street lamppost",
          "Whitehall Rd/Easton Rd lamppost 4TZ",
          "North St/Dean Lane on roundabout sign",
          "Strathmore Road",
          "Shiners Garage",
          "St. Paul Street",
          "Monitor     Trailer Portway Park and Ride",
          "Lamppost     Whiteladies Road \\ Cotham Hill Clifton",
          "Merchants Road Hotwells",
          "Bishop Road",
          "Cromwell Road",
          "Greville Smyth Park",
          "Conham Vale",
          "5102 façade",
          "Whitehall Rd/Easton Rd lamppost 4TZ",
          "Parson St lamppost outside Bristol Scuba",
          "Ashley Rd P sign outside International Market (nr Dalrymple Rd)",
          "Millpond School Fence",
          "St. Andrew's Rd",
          "Savanna coffee drainpipe",
          "Colston Avenue",
          "Barracks's Lane - Telegraph Pole No 6. End of Lane Left Hand Side",
          "cycle sign lamppost",
          "North St/Dean Lane on roundabout sign",
          "Wells Rd bus lane sign just below junction with Knowle Rd",
          "Lamb Street façade",
          "Monitor     Bath Road Brislington",
          "Lamppost     Ashley Hill St. Pauls",
          "Give Way sign  Chesterfield Rd \\ Ashley Down Road St. Andrews",
          "Lamppost     Sarah Street Redfield",
          "Gatton Road",
          "facade BRI children's",
          "Stapleton Road South",
          "Eastville Park",
          "Stokes Croft",
          "T shirt Shop W. Town Lane",
          "Lamppost corner park avenue",
          "Strada Exeter Road",
          "St John's Lane No 26 lamppost 15 (just past roundabout)",
          "Unite façade",
          "Monitor     Rupert Street City Centre",
          "Lamppost   16 Ashley Road St. Pauls",
          "Parson Street Bedminster Down Road",
          "Jacobs Wells road opp Clifton hill",
          "Victoria Street",
          "Horsefair",
          "Ferndown Close",
          "Higham Street",
          "Whitefriars",
          "B.R.I.",
          "Great George Street lamppost",
          "Avonmouth Road - Telegraph Pole Opposite Hse No 4",
          "Millpond School play area",
          "Cheltenham Road \\ Station Road",
          "North St/Langton Park T junction",
          "Lamp post 48 230 Bath Road",
          "facade avonmouth road underpass - house to SE",
          "facade villiers road stapleton road junction",
          "City Rd/Ashley Rd lamppost No 16",
          "Stapleton Road Heath Street",
          "Bedminster Down Rd lamppost between Ashton Motors & Plough PH",
          "Facade   258 Fishponds Road Fishponds",
          "Facade   784 Muller Road Fishponds",
          "Parson St. A38 East",
          "Jacobs Wells Road South",
          "Stokes Croft  Ashley Road",
          "Victoria Park",
          "Newfoundland Way",
          "Hillcrest",
          "Bedminster Parade",
          "Church Road",
          "Three Lamps",
          "Bath Road",
          "Whitehall Rd lamppost 17 nr juction with Chalks Rd",
          "Blackboy Hill",
          "Red Lion Knowle",
          "Anglesea Place",
          "top of Brislington Hill",
          "Third Way",
          "Old Market",
          "Hotwells Road",
          "Facade Haart Estate Agents 755 Fishponds Road Fishponds",
          "123 Newfoundland Street façade",
          "Avonmouth Rd No 31 on facia",
          "lamppost sussex place",
          "Economy Cars",
          "B&G Snax West St",
          "Avonmouth Road - School Sign Opposite Hse No 16",
          "Avonmouth Road - Lampost (20) Opposite Number Hse No 45",
          "Jamiesons Autos",
          "Victoria Park Primary",
          "Fishponds Road",
          "Avon Probation Service",
          "Galleries",
          "Gloucester Road",
          "York Road",
          "Anchor Road",
          "Avonmouth Road - Lampost (19) Opposite Hse No 37",
          "Facade   383 Church Road Redfield",
          "Lamppost     Glenfrome Road \\ Muller Road Horfield",
          "Avonmouth Rd No 28 on facia",
          "A37 Junction w/ Airport Road",
          "St. Pauls Day Nursery",
          "Martial Arts West Street",
          "Parson Street School",
          "Lamppost     Sarah Street Redfield",
          "Orange Street Façade",
          "Avonmouth Rd No 28 on facia",
          "Ashley Rd P sign outside International Market (nr Dalrymple Rd)",
          "St. Pauls Day Nursery",
          "Fishponds Road",
          "Fishponds Rd lamppost 37 outside PO (just before Oakdene Ave)",
          "Savanna coffee drainpipe",
          "Strada Exeter Road",
          "B&G Snax West St",
          "Anglesea Place",
          "Old Market",
          "Merchants Road Hotwells",
          "facade villiers road stapleton road junction",
          "City Rd/Ashley Rd lamppost No 16",
          "Parson St lamppost outside Bristol Scuba",
          "Wells Rd bus lane sign just below junction with Knowle Rd",
          "Monitor     Bath Road Brislington",
          "Lamppost     Ashley Hill St. Pauls",
          "Facade   383 Church Road Redfield",
          "Gatton Road",
          "Third Way",
          "Ferndown Close",
          "Church Road",
          "Lamppost     Whiteladies Road \\ Cotham Hill Clifton",
          "Monitor     Rupert Street City Centre",
          "Monitor     Trailer Portway Park and Ride",
          "Facade   258 Fishponds Road Fishponds",
          "Unite façade",
          "River Street facade 1",
          "Great George Street lamppost",
          "Whitehall Rd/Easton Rd lamppost 4TZ",
          "Zetland Road junction",
          "facade cotham girls school cheltenham rd",
          "North St/Dean Lane on roundabout sign",
          "18 Morton Street",
          "Martial Arts West Street",
          "Jamiesons Autos",
          "Lamppost corner park avenue",
          "Millpond School play area",
          "Millpond School Fence",
          "Cheltenham Road \\ Station Road",
          "Shiners Garage",
          "Wells Rd - Knowle shopping centre lamppost 41 (outside Miss Millies)",
          "facade avonmouth road underpass - house to SE",
          "123 Newfoundland Street façade",
          "Give Way sign  Chesterfield Rd \\ Ashley Down Road St. Andrews",
          "Pritchard Street",
          "Horsefair",
          "Galleries",
          "Whitefriars",
          "Three Lamps",
          "facade BRI main building",
          "B.R.I.",
          "Red Lion Knowle",
          "Hillcrest",
          "rear 32 st marks grove",
          "Avon Probation Service",
          "Parson Street School",
          "A37 Junction w/ Airport Road",
          "Whitehall Rd lamppost 17 nr juction with Chalks Rd",
          "Lamb Street façade",
          "Broad Weir post development",
          "St. Matthias House façade",
          "cycle sign lamppost",
          "Economy Cars",
          "facade BRI children's",
          "Bedminster Down Rd lamppost between Ashton Motors & Plough PH",
          "St John's Lane No 26 lamppost 15 (just past roundabout)",
          "Avonmouth Rd No 31 on facia",
          "St. Paul Street",
          "Parson Street Bedminster Down Road",
          "Parson St. A38 West",
          "Parson Street School",
          "Hotwells Road",
          "Greville Smyth Park",
          "Blackboy Hill",
          "Colston Avenue",
          "Cromwell Road",
          "Conham Vale",
          "Newfoundland Way",
          "Gloucester Road",
          "Eastville Park",
          "Bishop Road",
          "Joy Hill Hotwells",
          "Lamppost   16 Ashley Road St. Pauls",
          "Lamppost     Cottrell Road \\ Muller Road Horfield",
          "Lamppost     Glenfrome Road \\ Muller Road Horfield",
          "Lamp post 48 230 Bath Road",
          "North St/Langton Park T junction",
          "North Street School fence",
          "Victoria Park Primary",
          "T shirt Shop W. Town Lane",
          "Facade Haart Estate Agents 755 Fishponds Road Fishponds",
          "façade of North Street near Myrtle Street",
          "lamppost sussex place",
          "River Street facade 2",
          "5102 façade",
          "Facade   784 Muller Road Fishponds",
          "Stapleton Road Heath Street",
          "Stapleton Road South",
          "top of Brislington Hill",
          "Jacobs Wells road opp Clifton hill",
          "Anchor Road",
          "York Road",
          "Victoria Street",
          "Victoria Park",
          "St. Andrew's Rd",
          "Bedminster Parade",
          "botttom of Arley Hill",
          "Stokes Croft  Ashley Road",
          "Jacobs Wells Road South",
          "Stokes Croft",
          "Bath Road",
          "Higham Street",
          "Cabot Primary School",
          "Parson Street Chip Shop",
          "Parson St. A38 East",
          "Strathmore Road",
          "Elmgrove Ave",
          "Halston Drive",
          "property façade nr. Paultow Road",
          "18 Morton Street",
          "Lamppost corner park avenue",
          "A37 Junction w/ Airport Road",
          "City Rd/Ashley Rd lamppost No 16",
          "Conham Vale",
          "Parson St lamppost outside Bristol Scuba",
          "Lamp post 48 230 Bath Road",
          "Avonmouth Rd No 31 on facia",
          "Orange Street Façade",
          "St. Matthias House façade",
          "Lamppost     Glenfrome Road \\ Muller Road Horfield",
          "Stapleton Road Heath Street",
          "Parson Street Chip Shop",
          "Hillcrest (National)",
          "Bishop Road",
          "botttom of Arley Hill",
          "Hotwells Road",
          "Victoria Street",
          "Kingshead Lane Park",
          "Ashton Vale School",
          "Greville Smyth Park",
          "Petherton Rd",
          "The Limes Nursery School",
          "Hillcrest",
          "Horsefair",
          "Red Lion Knowle",
          "facade avonmouth road underpass - house to SE",
          "River Street facade 2",
          "Facade Haart Estate Agents 755 Fishponds Road Fishponds",
          "Lamppost   16 Ashley Road St. Pauls",
          "Parson St. A38 West",
          "Zetland Road junction",
          "corner York rd  and  Whitehouse St",
          "Three Lamps",
          "Ferndown Close",
          "Third Way",
          "Newfoundland Way",
          "Gloucester Road",
          "Farmwell Close",
          "York Road",
          "Anchor Road c",
          "Stokes Croft  Ashley Road",
          "Parson St. A38 East",
          "Parson Street Bedminster Down Road",
          "Joy Hill Hotwells",
          "Monitor     Bath Road Brislington",
          "Facade   258 Fishponds Road Fishponds",
          "123 Newfoundland Street façade",
          "lamppost sussex place",
          "facade cotham girls school cheltenham rd",
          "T shirt Shop W. Town Lane",
          "Savanna coffee drainpipe",
          "Fishponds Road",
          "Millpond School Fence",
          "Eastgate Market",
          "Shiners Garage",
          "Fishponds Rd lamppost 37 outside PO (just before Oakdene Ave)",
          "Bedminster Down Rd lamppost between Ashton Motors & Plough PH",
          "Wells Rd bus lane sign just below junction with Knowle Rd",
          "Whitehall Rd lamppost 17 nr juction with Chalks Rd",
          "Lamb Street façade",
          "Great George Street lamppost",
          "5102 façade",
          "Lamppost     Whiteladies Road \\ Cotham Hill Clifton",
          "Wells Rd - Knowle shopping centre lamppost 41 (outside Miss Millies)",
          "North St/Langton Park T junction",
          "North Street School fence",
          "Bedminster Parade",
          "Church Road",
          "B.R.I.",
          "Cotham Lawn Rd",
          "rear 32 st marks grove",
          "Southmead Hospital",
          "cycle sign lamppost",
          "Martial Arts West Street",
          "B&G Snax West St",
          "Jamiesons Autos",
          "property façade nr. Paultow Road",
          "Victoria Park Primary",
          "façade of North Street near Myrtle Street",
          "Strada Exeter Road",
          "Parson Street School",
          "Airballoon Infants School",
          "facade villiers road stapleton road junction",
          "facade BRI main building",
          "Monitor     Rupert Street City Centre",
          "Lamppost     Sarah Street Redfield",
          "Facade   784 Muller Road Fishponds",
          "Pritchard Street",
          "Stapleton Road South",
          "Strathmore Road",
          "St Annes Jnr School",
          "Broomhill Jnr School",
          "Victoria Park",
          "Stockwood Green School",
          "Brangwyn Grove",
          "Hannah Moore School",
          "Novers Lane School",
          "Cheltenham Road \\ Station Road",
          "Blackboy Hill",
          "62 Callington Road",
          "St. Andrew's Rd",
          "Bath Road",
          "St Nicholas Rd",
          "Summerleaze Office",
          "Stile AcresBroadlands Drive",
          "The Square",
          "Council House",
          "Cromwell Road",
          "Merchants Road Hotwells",
          "Rupert St Green Box",
          "Galleries",
          "Lamppost     Ashley Hill St. Pauls",
          "Monitor     Trailer Portway Park and Ride",
          "St John's Lane No 26 lamppost 15 (just past roundabout)",
          "facade BRI children's",
          "Halston Drive",
          "Jacobs Wells road opp Clifton hill",
          "Jacobs Wells Road South",
          "Anchor Road b",
          "Brunel College",
          "Elmlea Jnr School",
          "St Mathias",
          "Stokes Croft",
          "Colston Avenue",
          "Parson Street School",
          "North St/Dean Lane on roundabout sign",
          "Whitehall Rd/Easton Rd lamppost 4TZ",
          "Broad Weir post development",
          "Unite façade",
          "Give Way sign  Chesterfield Rd \\ Ashley Down Road St. Andrews",
          "Cabot Primary School",
          "Gatton Road",
          "Ferndown Close (National)",
          "Teyfant Primary School",
          "Redland Court",
          "Avon County School",
          "Blaise Castle",
          "Eastville Park",
          "Old Market",
          "Anglesea Place",
          "Whitefriars",
          "Higham Street",
          "Bishops Close",
          "Clifton College",
          "Anchor Road",
          "top of Brislington Hill",
          "Newfoundland Way (National)",
          "Facade   383 Church Road Redfield",
          "River Street facade 1",
          "St. Paul Street",
          "Avonmouth Rd No 28 on facia",
          "Ashley Rd P sign outside International Market (nr Dalrymple Rd)",
          "Avon Probation Service",
          "Elmgrove Ave",
          "Millpond School play area",
          "St. Pauls Day Nursery",
          "Economy Cars",
          "Lamppost     Cottrell Road \\ Muller Road Horfield"
         ],
         "lat": {
          "bdata": "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",
          "dtype": "f8"
         },
         "legendgroup": "",
         "lon": {
          "bdata": "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",
          "dtype": "f8"
         },
         "marker": {
          "color": {
           "bdata": "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",
           "dtype": "f8"
          },
          "coloraxis": "coloraxis",
          "size": {
           "bdata": "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",
           "dtype": "f8"
          },
          "sizemode": "area",
          "sizeref": 0.2565
         },
         "mode": "markers",
         "name": "",
         "showlegend": false,
         "subplot": "map",
         "type": "scattermap"
        }
       ],
       "layout": {
        "coloraxis": {
         "colorbar": {
          "title": {
           "text": "Concentration_ugm_3"
          }
         },
         "colorscale": [
          [
           0,
           "#0d0887"
          ],
          [
           0.1111111111111111,
           "#46039f"
          ],
          [
           0.2222222222222222,
           "#7201a8"
          ],
          [
           0.3333333333333333,
           "#9c179e"
          ],
          [
           0.4444444444444444,
           "#bd3786"
          ],
          [
           0.5555555555555556,
           "#d8576b"
          ],
          [
           0.6666666666666666,
           "#ed7953"
          ],
          [
           0.7777777777777778,
           "#fb9f3a"
          ],
          [
           0.8888888888888888,
           "#fdca26"
          ],
          [
           1,
           "#f0f921"
          ]
         ]
        },
        "legend": {
         "itemsizing": "constant",
         "tracegroupgap": 0
        },
        "map": {
         "center": {
          "lat": 51.45865171480108,
          "lon": -2.590453658409705
         },
         "domain": {
          "x": [
           0,
           1
          ],
          "y": [
           0,
           1
          ]
         },
         "zoom": 10
        },
        "mapbox": {
         "center": {
          "lat": 51.45865171480108,
          "lon": -2.590453658409705
         },
         "zoom": 10
        },
        "margin": {
         "t": 60
        },
        "template": {
         "data": {
          "bar": [
           {
            "error_x": {
             "color": "#2a3f5f"
            },
            "error_y": {
             "color": "#2a3f5f"
            },
            "marker": {
             "line": {
              "color": "#E5ECF6",
              "width": 0.5
             },
             "pattern": {
              "fillmode": "overlay",
              "size": 10,
              "solidity": 0.2
             }
            },
            "type": "bar"
           }
          ],
          "barpolar": [
           {
            "marker": {
             "line": {
              "color": "#E5ECF6",
              "width": 0.5
             },
             "pattern": {
              "fillmode": "overlay",
              "size": 10,
              "solidity": 0.2
             }
            },
            "type": "barpolar"
           }
          ],
          "carpet": [
           {
            "aaxis": {
             "endlinecolor": "#2a3f5f",
             "gridcolor": "white",
             "linecolor": "white",
             "minorgridcolor": "white",
             "startlinecolor": "#2a3f5f"
            },
            "baxis": {
             "endlinecolor": "#2a3f5f",
             "gridcolor": "white",
             "linecolor": "white",
             "minorgridcolor": "white",
             "startlinecolor": "#2a3f5f"
            },
            "type": "carpet"
           }
          ],
          "choropleth": [
           {
            "colorbar": {
             "outlinewidth": 0,
             "ticks": ""
            },
            "type": "choropleth"
           }
          ],
          "contour": [
           {
            "colorbar": {
             "outlinewidth": 0,
             "ticks": ""
            },
            "colorscale": [
             [
              0,
              "#0d0887"
             ],
             [
              0.1111111111111111,
              "#46039f"
             ],
             [
              0.2222222222222222,
              "#7201a8"
             ],
             [
              0.3333333333333333,
              "#9c179e"
             ],
             [
              0.4444444444444444,
              "#bd3786"
             ],
             [
              0.5555555555555556,
              "#d8576b"
             ],
             [
              0.6666666666666666,
              "#ed7953"
             ],
             [
              0.7777777777777778,
              "#fb9f3a"
             ],
             [
              0.8888888888888888,
              "#fdca26"
             ],
             [
              1,
              "#f0f921"
             ]
            ],
            "type": "contour"
           }
          ],
          "contourcarpet": [
           {
            "colorbar": {
             "outlinewidth": 0,
             "ticks": ""
            },
            "type": "contourcarpet"
           }
          ],
          "heatmap": [
           {
            "colorbar": {
             "outlinewidth": 0,
             "ticks": ""
            },
            "colorscale": [
             [
              0,
              "#0d0887"
             ],
             [
              0.1111111111111111,
              "#46039f"
             ],
             [
              0.2222222222222222,
              "#7201a8"
             ],
             [
              0.3333333333333333,
              "#9c179e"
             ],
             [
              0.4444444444444444,
              "#bd3786"
             ],
             [
              0.5555555555555556,
              "#d8576b"
             ],
             [
              0.6666666666666666,
              "#ed7953"
             ],
             [
              0.7777777777777778,
              "#fb9f3a"
             ],
             [
              0.8888888888888888,
              "#fdca26"
             ],
             [
              1,
              "#f0f921"
             ]
            ],
            "type": "heatmap"
           }
          ],
          "histogram": [
           {
            "marker": {
             "pattern": {
              "fillmode": "overlay",
              "size": 10,
              "solidity": 0.2
             }
            },
            "type": "histogram"
           }
          ],
          "histogram2d": [
           {
            "colorbar": {
             "outlinewidth": 0,
             "ticks": ""
            },
            "colorscale": [
             [
              0,
              "#0d0887"
             ],
             [
              0.1111111111111111,
              "#46039f"
             ],
             [
              0.2222222222222222,
              "#7201a8"
             ],
             [
              0.3333333333333333,
              "#9c179e"
             ],
             [
              0.4444444444444444,
              "#bd3786"
             ],
             [
              0.5555555555555556,
              "#d8576b"
             ],
             [
              0.6666666666666666,
              "#ed7953"
             ],
             [
              0.7777777777777778,
              "#fb9f3a"
             ],
             [
              0.8888888888888888,
              "#fdca26"
             ],
             [
              1,
              "#f0f921"
             ]
            ],
            "type": "histogram2d"
           }
          ],
          "histogram2dcontour": [
           {
            "colorbar": {
             "outlinewidth": 0,
             "ticks": ""
            },
            "colorscale": [
             [
              0,
              "#0d0887"
             ],
             [
              0.1111111111111111,
              "#46039f"
             ],
             [
              0.2222222222222222,
              "#7201a8"
             ],
             [
              0.3333333333333333,
              "#9c179e"
             ],
             [
              0.4444444444444444,
              "#bd3786"
             ],
             [
              0.5555555555555556,
              "#d8576b"
             ],
             [
              0.6666666666666666,
              "#ed7953"
             ],
             [
              0.7777777777777778,
              "#fb9f3a"
             ],
             [
              0.8888888888888888,
              "#fdca26"
             ],
             [
              1,
              "#f0f921"
             ]
            ],
            "type": "histogram2dcontour"
           }
          ],
          "mesh3d": [
           {
            "colorbar": {
             "outlinewidth": 0,
             "ticks": ""
            },
            "type": "mesh3d"
           }
          ],
          "parcoords": [
           {
            "line": {
             "colorbar": {
              "outlinewidth": 0,
              "ticks": ""
             }
            },
            "type": "parcoords"
           }
          ],
          "pie": [
           {
            "automargin": true,
            "type": "pie"
           }
          ],
          "scatter": [
           {
            "fillpattern": {
             "fillmode": "overlay",
             "size": 10,
             "solidity": 0.2
            },
            "type": "scatter"
           }
          ],
          "scatter3d": [
           {
            "line": {
             "colorbar": {
              "outlinewidth": 0,
              "ticks": ""
             }
            },
            "marker": {
             "colorbar": {
              "outlinewidth": 0,
              "ticks": ""
             }
            },
            "type": "scatter3d"
           }
          ],
          "scattercarpet": [
           {
            "marker": {
             "colorbar": {
              "outlinewidth": 0,
              "ticks": ""
             }
            },
            "type": "scattercarpet"
           }
          ],
          "scattergeo": [
           {
            "marker": {
             "colorbar": {
              "outlinewidth": 0,
              "ticks": ""
             }
            },
            "type": "scattergeo"
           }
          ],
          "scattergl": [
           {
            "marker": {
             "colorbar": {
              "outlinewidth": 0,
              "ticks": ""
             }
            },
            "type": "scattergl"
           }
          ],
          "scattermap": [
           {
            "marker": {
             "colorbar": {
              "outlinewidth": 0,
              "ticks": ""
             }
            },
            "type": "scattermap"
           }
          ],
          "scattermapbox": [
           {
            "marker": {
             "colorbar": {
              "outlinewidth": 0,
              "ticks": ""
             }
            },
            "type": "scattermapbox"
           }
          ],
          "scatterpolar": [
           {
            "marker": {
             "colorbar": {
              "outlinewidth": 0,
              "ticks": ""
             }
            },
            "type": "scatterpolar"
           }
          ],
          "scatterpolargl": [
           {
            "marker": {
             "colorbar": {
              "outlinewidth": 0,
              "ticks": ""
             }
            },
            "type": "scatterpolargl"
           }
          ],
          "scatterternary": [
           {
            "marker": {
             "colorbar": {
              "outlinewidth": 0,
              "ticks": ""
             }
            },
            "type": "scatterternary"
           }
          ],
          "surface": [
           {
            "colorbar": {
             "outlinewidth": 0,
             "ticks": ""
            },
            "colorscale": [
             [
              0,
              "#0d0887"
             ],
             [
              0.1111111111111111,
              "#46039f"
             ],
             [
              0.2222222222222222,
              "#7201a8"
             ],
             [
              0.3333333333333333,
              "#9c179e"
             ],
             [
              0.4444444444444444,
              "#bd3786"
             ],
             [
              0.5555555555555556,
              "#d8576b"
             ],
             [
              0.6666666666666666,
              "#ed7953"
             ],
             [
              0.7777777777777778,
              "#fb9f3a"
             ],
             [
              0.8888888888888888,
              "#fdca26"
             ],
             [
              1,
              "#f0f921"
             ]
            ],
            "type": "surface"
           }
          ],
          "table": [
           {
            "cells": {
             "fill": {
              "color": "#EBF0F8"
             },
             "line": {
              "color": "white"
             }
            },
            "header": {
             "fill": {
              "color": "#C8D4E3"
             },
             "line": {
              "color": "white"
             }
            },
            "type": "table"
           }
          ]
         },
         "layout": {
          "annotationdefaults": {
           "arrowcolor": "#2a3f5f",
           "arrowhead": 0,
           "arrowwidth": 1
          },
          "autotypenumbers": "strict",
          "coloraxis": {
           "colorbar": {
            "outlinewidth": 0,
            "ticks": ""
           }
          },
          "colorscale": {
           "diverging": [
            [
             0,
             "#8e0152"
            ],
            [
             0.1,
             "#c51b7d"
            ],
            [
             0.2,
             "#de77ae"
            ],
            [
             0.3,
             "#f1b6da"
            ],
            [
             0.4,
             "#fde0ef"
            ],
            [
             0.5,
             "#f7f7f7"
            ],
            [
             0.6,
             "#e6f5d0"
            ],
            [
             0.7,
             "#b8e186"
            ],
            [
             0.8,
             "#7fbc41"
            ],
            [
             0.9,
             "#4d9221"
            ],
            [
             1,
             "#276419"
            ]
           ],
           "sequential": [
            [
             0,
             "#0d0887"
            ],
            [
             0.1111111111111111,
             "#46039f"
            ],
            [
             0.2222222222222222,
             "#7201a8"
            ],
            [
             0.3333333333333333,
             "#9c179e"
            ],
            [
             0.4444444444444444,
             "#bd3786"
            ],
            [
             0.5555555555555556,
             "#d8576b"
            ],
            [
             0.6666666666666666,
             "#ed7953"
            ],
            [
             0.7777777777777778,
             "#fb9f3a"
            ],
            [
             0.8888888888888888,
             "#fdca26"
            ],
            [
             1,
             "#f0f921"
            ]
           ],
           "sequentialminus": [
            [
             0,
             "#0d0887"
            ],
            [
             0.1111111111111111,
             "#46039f"
            ],
            [
             0.2222222222222222,
             "#7201a8"
            ],
            [
             0.3333333333333333,
             "#9c179e"
            ],
            [
             0.4444444444444444,
             "#bd3786"
            ],
            [
             0.5555555555555556,
             "#d8576b"
            ],
            [
             0.6666666666666666,
             "#ed7953"
            ],
            [
             0.7777777777777778,
             "#fb9f3a"
            ],
            [
             0.8888888888888888,
             "#fdca26"
            ],
            [
             1,
             "#f0f921"
            ]
           ]
          },
          "colorway": [
           "#636efa",
           "#EF553B",
           "#00cc96",
           "#ab63fa",
           "#FFA15A",
           "#19d3f3",
           "#FF6692",
           "#B6E880",
           "#FF97FF",
           "#FECB52"
          ],
          "font": {
           "color": "#2a3f5f"
          },
          "geo": {
           "bgcolor": "white",
           "lakecolor": "white",
           "landcolor": "#E5ECF6",
           "showlakes": true,
           "showland": true,
           "subunitcolor": "white"
          },
          "hoverlabel": {
           "align": "left"
          },
          "hovermode": "closest",
          "mapbox": {
           "style": "light"
          },
          "paper_bgcolor": "white",
          "plot_bgcolor": "#E5ECF6",
          "polar": {
           "angularaxis": {
            "gridcolor": "white",
            "linecolor": "white",
            "ticks": ""
           },
           "bgcolor": "#E5ECF6",
           "radialaxis": {
            "gridcolor": "white",
            "linecolor": "white",
            "ticks": ""
           }
          },
          "scene": {
           "xaxis": {
            "backgroundcolor": "#E5ECF6",
            "gridcolor": "white",
            "gridwidth": 2,
            "linecolor": "white",
            "showbackground": true,
            "ticks": "",
            "zerolinecolor": "white"
           },
           "yaxis": {
            "backgroundcolor": "#E5ECF6",
            "gridcolor": "white",
            "gridwidth": 2,
            "linecolor": "white",
            "showbackground": true,
            "ticks": "",
            "zerolinecolor": "white"
           },
           "zaxis": {
            "backgroundcolor": "#E5ECF6",
            "gridcolor": "white",
            "gridwidth": 2,
            "linecolor": "white",
            "showbackground": true,
            "ticks": "",
            "zerolinecolor": "white"
           }
          },
          "shapedefaults": {
           "line": {
            "color": "#2a3f5f"
           }
          },
          "ternary": {
           "aaxis": {
            "gridcolor": "white",
            "linecolor": "white",
            "ticks": ""
           },
           "baxis": {
            "gridcolor": "white",
            "linecolor": "white",
            "ticks": ""
           },
           "bgcolor": "#E5ECF6",
           "caxis": {
            "gridcolor": "white",
            "linecolor": "white",
            "ticks": ""
           }
          },
          "title": {
           "x": 0.05
          },
          "xaxis": {
           "automargin": true,
           "gridcolor": "white",
           "linecolor": "white",
           "ticks": "",
           "title": {
            "standoff": 15
           },
           "zerolinecolor": "white",
           "zerolinewidth": 2
          },
          "yaxis": {
           "automargin": true,
           "gridcolor": "white",
           "linecolor": "white",
           "ticks": "",
           "title": {
            "standoff": 15
           },
           "zerolinecolor": "white",
           "zerolinewidth": 2
          }
         }
        }
       }
      }
     },
     "metadata": {},
     "output_type": "display_data"
    }
   ],
   "source": [
    "import plotly.express as px\n",
    "\n",
    "geo_df = df_no2.toPandas()\n",
    "\n",
    "fig = px.scatter_map(geo_df,\n",
    "                        lat=\"Latitude\",\n",
    "                        lon=\"Longitude\",\n",
    "                        hover_name=\"Location\",\n",
    "                        size=\"Concentration_ugm_3\",\n",
    "                        color=\"Concentration_ugm_3\",\n",
    "\n",
    "                        zoom=10)\n",
    "fig.show()"
   ]
  }
 ],
 "metadata": {
  "kernelspec": {
   "display_name": ".venv",
   "language": "python",
   "name": "python3"
  },
  "language_info": {
   "codemirror_mode": {
    "name": "ipython",
    "version": 3
   },
   "file_extension": ".py",
   "mimetype": "text/x-python",
   "name": "python",
   "nbconvert_exporter": "python",
   "pygments_lexer": "ipython3",
   "version": "3.11.0"
  }
 },
 "nbformat": 4,
 "nbformat_minor": 2
}
